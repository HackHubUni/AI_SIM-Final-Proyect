{
 "cells": [
  {
   "cell_type": "code",
   "execution_count": 1,
   "id": "initial_id",
   "metadata": {
    "collapsed": true,
    "ExecuteTime": {
     "end_time": "2024-05-08T14:45:10.182871Z",
     "start_time": "2024-05-08T14:45:10.167963Z"
    }
   },
   "outputs": [],
   "source": [
    "lsb_release -aimport nx\n",
    "\n",
    "graph = { 'source':{'f':(303934,455,0)},\n",
    "                    #    Capacidad max, coste, cuanto se movio si es mayor que cero es importante\n",
    "    'f': {'A': (5, 1, 0), 'D': (2, 2, 0)},\n",
    "    'A': {'C': (12, 3, 0),'sink':(4,7,0)},\n",
    "    'C': { 'D': (20, 7, 0)},\n",
    "    'D': {'C': (7, 8, 0), 'sink': (6, 9, 0)},\n",
    "    'sink': {}\n",
    "}\n"
   ]
  },
  {
   "cell_type": "code",
   "outputs": [
    {
     "name": "stdout",
     "output_type": "stream",
     "text": [
      "Flujo máximo con costo mínimo: 7\n"
     ]
    }
   ],
   "source": [
    "def min_cost_max_flow(graph, source, sink):\n",
    "    max_flow = 0\n",
    "    parent = {}\n",
    "\n",
    "    def bfs():\n",
    "        visited = set()\n",
    "        queue = [(source, float(\"Inf\"))]\n",
    "\n",
    "        while queue:\n",
    "            node, path_flow = queue.pop(0)\n",
    "            visited.add(node)\n",
    "\n",
    "            for neighbor, (capacity, cost, flow) in graph[node].items():\n",
    "                if neighbor not in visited and capacity > flow:\n",
    "                    parent[neighbor] = (node, min(path_flow, capacity - flow))\n",
    "                    if neighbor == sink:\n",
    "                        return parent[neighbor][1]\n",
    "                    queue.append((neighbor, parent[neighbor][1]))\n",
    "\n",
    "        return 0\n",
    "\n",
    "    while True:\n",
    "        path_flow = bfs()\n",
    "        if path_flow == 0:\n",
    "            break\n",
    "\n",
    "        max_flow += path_flow\n",
    "        v = sink\n",
    "        while v != source:\n",
    "            u, flow = parent[v]\n",
    "            new_flow = min(graph[u][v][0], graph[u][v][2] + path_flow)\n",
    "            if new_flow <= graph[u][v][0]:\n",
    "                graph[u][v] = (graph[u][v][0], graph[u][v][1], new_flow)\n",
    "            if v in graph and u in graph[v]:\n",
    "                graph[v][u] = (graph[v][u][0], graph[v][u][1], graph[v][u][2] - path_flow)\n",
    "            else:\n",
    "                graph[v][u] = (0, -graph[u][v][1], -path_flow)\n",
    "            v = u\n",
    "\n",
    "    return max_flow, graph\n",
    "source = 'source'\n",
    "sink = 'sink'\n",
    "\n",
    "max_flow,graph = min_cost_max_flow(graph, source, sink)\n",
    "print(f\"Flujo máximo con costo mínimo: {max_flow}\")"
   ],
   "metadata": {
    "collapsed": false,
    "ExecuteTime": {
     "end_time": "2024-05-08T14:45:10.200492Z",
     "start_time": "2024-05-08T14:45:10.185882Z"
    }
   },
   "id": "bfa9d292564817e4",
   "execution_count": 2
  },
  {
   "cell_type": "markdown",
   "source": [
    "# Para crear el grafo"
   ],
   "metadata": {
    "collapsed": false
   },
   "id": "90e41ac4cb5e5c3f"
  },
  {
   "cell_type": "code",
   "outputs": [
    {
     "data": {
      "text/plain": "{'Tienda_1': {},\n 'sink': {'Tienda_1': (8, 0, 0)},\n 'source': {'Proveedor_1': (8, 0, 0), 'Proveedor_2': (8, 0, 0)},\n 'Proveedor_1': {'sink': (80, 80.8, 0)},\n 'Proveedor_2': {'sink': (40, 25.5, 0)}}"
     },
     "execution_count": 3,
     "metadata": {},
     "output_type": "execute_result"
    }
   ],
   "source": [
    "def create_graph(sink_name:str,count_want:int,ware_houses_list:list[tuple[str,int,float]],manufacturer_list:list[tuple]):\n",
    "    \"\"\"\n",
    "    Cada lista recibe tuplas con \n",
    "    nombre de la empresa o su id\n",
    "    cant maxima abastecer y precio por  unidad sumado con el del transportista\n",
    "    :param sink_name: \n",
    "    :param count_want: \n",
    "    :param ware_houses_list: \n",
    "    :param manufacturer_list: \n",
    "    :return: \n",
    "    \"\"\"\n",
    "\n",
    "    fake_sink='sink'\n",
    "    source='source'\n",
    "    graph={sink_name:{},fake_sink:{sink_name:(count_want,0,0)}}\n",
    "    graph[source]={}\n",
    "\n",
    "    for tupple in ware_houses_list:\n",
    "        name,count_supply,price=tupple\n",
    "        a=(count_supply,price,0)\n",
    "        graph[name]={fake_sink:a}\n",
    "        dic=graph[source]\n",
    "\n",
    "        dic[name]=(count_want,0,0)\n",
    "    return graph\n",
    "\n",
    "\n",
    "\n",
    "\n",
    "\n",
    "create_graph('Tienda_1',8,[('Proveedor_1',80,80.8),('Proveedor_2',40,25.5)],[])\n",
    "\n",
    "\n"
   ],
   "metadata": {
    "collapsed": false,
    "ExecuteTime": {
     "end_time": "2024-05-08T14:45:10.222337Z",
     "start_time": "2024-05-08T14:45:10.203503Z"
    }
   },
   "id": "4a87ad64786a6059",
   "execution_count": 3
  },
  {
   "cell_type": "code",
   "outputs": [
    {
     "name": "stdout",
     "output_type": "stream",
     "text": [
      "Flujo máximo con costo mínimo: 9\n"
     ]
    }
   ],
   "source": [
    "graph=create_graph('Tienda_1',9,[('Proveedor_1',80,80.8),('Proveedor_2',4,4)],[])\n",
    "\n",
    "max_flow,graph = min_cost_max_flow(graph, source,'Tienda_1')\n",
    "print(f\"Flujo máximo con costo mínimo: {max_flow}\")"
   ],
   "metadata": {
    "collapsed": false,
    "ExecuteTime": {
     "end_time": "2024-05-08T14:45:10.241388Z",
     "start_time": "2024-05-08T14:45:10.234353Z"
    }
   },
   "id": "b2b16038290dc030",
   "execution_count": 4
  },
  {
   "cell_type": "code",
   "outputs": [
    {
     "name": "stdout",
     "output_type": "stream",
     "text": [
      "{'Tienda_1': {'sink': (0, 0, -9)}, 'sink': {'Tienda_1': (9, 0, 9), 'Proveedor_2': (0, -4, -9)}, 'source': {'Proveedor_1': (9, 0, 0), 'Proveedor_2': (9, 0, 9)}, 'Proveedor_1': {'sink': (80, 80.8, 0)}, 'Proveedor_2': {'sink': (4, 4, 4), 'source': (0, 0, -9)}}\n"
     ]
    }
   ],
   "source": [
    "print(graph)"
   ],
   "metadata": {
    "collapsed": false,
    "ExecuteTime": {
     "end_time": "2024-05-08T14:45:10.292081Z",
     "start_time": "2024-05-08T14:45:10.286062Z"
    }
   },
   "id": "a131595d2cfd828f",
   "execution_count": 5
  },
  {
   "cell_type": "markdown",
   "source": [
    "Notar que hay un receptor falso para que envie a la tienda osea el proposito es que no lleguen mas productos de lo que se quiere solo tomar los numeros de extrema derecha de la tupla positivos el resto es de como esta el caudal "
   ],
   "metadata": {
    "collapsed": false
   },
   "id": "3c1c4d490feeb98e"
  },
  {
   "cell_type": "code",
   "outputs": [],
   "source": [
    "import heapq\n",
    "\n",
    "def min_cost_max_flow(graph, source, sink):\n",
    "    max_flow = 0\n",
    "    min_cost = 0\n",
    "    parent = {}\n",
    "    dist = {}\n",
    "\n",
    "    def bellman_ford():\n",
    "        for node in graph:\n",
    "            dist[node] = float('inf')\n",
    "        dist[source] = 0\n",
    "        for _ in range(len(graph) - 1):\n",
    "            for node in graph:\n",
    "                for neighbor, (capacity, cost, flow) in graph[node].items():\n",
    "                    if capacity > flow and dist[node] + cost < dist[neighbor]:\n",
    "                        dist[neighbor] = dist[node] + cost\n",
    "                        parent[neighbor] = node\n",
    "\n",
    "    def dijkstra():\n",
    "        heap = [(0, source)]\n",
    "        while heap:\n",
    "            d, node = heapq.heappop(heap)\n",
    "            if d != dist[node]:\n",
    "                continue\n",
    "            for neighbor, (capacity, cost, flow) in graph[node].items():\n",
    "                if capacity > flow and dist[node] + cost < dist[neighbor]:\n",
    "                    dist[neighbor] = dist[node] + cost\n",
    "                    parent[neighbor] = node\n",
    "                    heapq.heappush(heap, (dist[neighbor], neighbor))\n",
    "\n",
    "    while True:\n",
    "        bellman_ford()\n",
    "        if dist[sink] == float('inf'):\n",
    "            break\n",
    "        dijkstra()\n",
    "        if dist[sink] == float('inf'):\n",
    "            break\n",
    "\n",
    "        path_flow = float('inf')\n",
    "        v = sink\n",
    "        while v != source:\n",
    "            u = parent[v]\n",
    "            path_flow = min(path_flow, graph[u][v][0] - graph[u][v][2])\n",
    "            v = u\n",
    "\n",
    "        max_flow += path_flow\n",
    "        min_cost += path_flow * dist[sink]\n",
    "        v = sink\n",
    "        while v != source:\n",
    "            u = parent[v]\n",
    "            graph[u][v] = (graph[u][v][0], graph[u][v][1], graph[u][v][2] + path_flow)\n",
    "            if v in graph and u in graph[v]:\n",
    "                graph[v][u] = (graph[v][u][0], graph[v][u][1], graph[v][u][2] - path_flow)\n",
    "            else:\n",
    "                graph[v][u] = (0, -graph[u][v][1], -path_flow)\n",
    "            v = u\n",
    "\n",
    "    return max_flow, min_cost, graph"
   ],
   "metadata": {
    "collapsed": false,
    "ExecuteTime": {
     "end_time": "2024-05-08T14:45:10.472809Z",
     "start_time": "2024-05-08T14:45:10.450699Z"
    }
   },
   "id": "f80baa80a40aa4ab",
   "execution_count": 6
  },
  {
   "cell_type": "code",
   "outputs": [
    {
     "ename": "ValueError",
     "evalue": "too many values to unpack (expected 2)",
     "output_type": "error",
     "traceback": [
      "\u001B[1;31m---------------------------------------------------------------------------\u001B[0m",
      "\u001B[1;31mValueError\u001B[0m                                Traceback (most recent call last)",
      "Cell \u001B[1;32mIn[7], line 3\u001B[0m\n\u001B[0;32m      1\u001B[0m graph\u001B[38;5;241m=\u001B[39mcreate_graph(\u001B[38;5;124m'\u001B[39m\u001B[38;5;124mTienda_1\u001B[39m\u001B[38;5;124m'\u001B[39m,\u001B[38;5;241m9\u001B[39m,[(\u001B[38;5;124m'\u001B[39m\u001B[38;5;124mProveedor_1\u001B[39m\u001B[38;5;124m'\u001B[39m,\u001B[38;5;241m80\u001B[39m,\u001B[38;5;241m80.8\u001B[39m),(\u001B[38;5;124m'\u001B[39m\u001B[38;5;124mProveedor_2\u001B[39m\u001B[38;5;124m'\u001B[39m,\u001B[38;5;241m4\u001B[39m,\u001B[38;5;241m4\u001B[39m)],[])\n\u001B[1;32m----> 3\u001B[0m max_flow,graph \u001B[38;5;241m=\u001B[39m min_cost_max_flow(graph, source,\u001B[38;5;124m'\u001B[39m\u001B[38;5;124mTienda_1\u001B[39m\u001B[38;5;124m'\u001B[39m)\n\u001B[0;32m      4\u001B[0m \u001B[38;5;28mprint\u001B[39m(\u001B[38;5;124mf\u001B[39m\u001B[38;5;124m\"\u001B[39m\u001B[38;5;124mFlujo máximo con costo mínimo: \u001B[39m\u001B[38;5;132;01m{\u001B[39;00mmax_flow\u001B[38;5;132;01m}\u001B[39;00m\u001B[38;5;124m\"\u001B[39m)\n",
      "\u001B[1;31mValueError\u001B[0m: too many values to unpack (expected 2)"
     ]
    }
   ],
   "source": [
    "graph=create_graph('Tienda_1',9,[('Proveedor_1',80,80.8),('Proveedor_2',4,4)],[])\n",
    "\n",
    "max_flow,graph = min_cost_max_flow(graph, source,'Tienda_1')\n",
    "print(f\"Flujo máximo con costo mínimo: {max_flow}\")"
   ],
   "metadata": {
    "collapsed": false,
    "ExecuteTime": {
     "end_time": "2024-05-08T14:45:12.087294Z",
     "start_time": "2024-05-08T14:45:10.577932Z"
    }
   },
   "id": "faf4d54dc7cb0d",
   "execution_count": 7
  },
  {
   "cell_type": "code",
   "outputs": [],
   "source": [
    "print(graph)"
   ],
   "metadata": {
    "collapsed": false
   },
   "id": "990d1b13fa3d98dd",
   "execution_count": null
  },
  {
   "cell_type": "code",
   "outputs": [
    {
     "ename": "KeyboardInterrupt",
     "evalue": "",
     "output_type": "error",
     "traceback": [
      "\u001B[1;31m---------------------------------------------------------------------------\u001B[0m",
      "\u001B[1;31mKeyboardInterrupt\u001B[0m                         Traceback (most recent call last)",
      "Cell \u001B[1;32mIn[12], line 20\u001B[0m\n\u001B[0;32m      8\u001B[0m G\u001B[38;5;241m.\u001B[39madd_edges_from(\n\u001B[0;32m      9\u001B[0m     [\n\u001B[0;32m     10\u001B[0m         (fuente,prove_1, {\u001B[38;5;124m\"\u001B[39m\u001B[38;5;124mcapacity\u001B[39m\u001B[38;5;124m\"\u001B[39m:\u001B[38;5;241m9\u001B[39m, \u001B[38;5;124m\"\u001B[39m\u001B[38;5;124mweight\u001B[39m\u001B[38;5;124m\"\u001B[39m: \u001B[38;5;241m0\u001B[39m}),\n\u001B[1;32m   (...)\u001B[0m\n\u001B[0;32m     17\u001B[0m     ]\n\u001B[0;32m     18\u001B[0m )\n\u001B[0;32m     19\u001B[0m mincostFlow \u001B[38;5;241m=\u001B[39m nx\u001B[38;5;241m.\u001B[39mmax_flow_min_cost(G, fuente, Tienda_1)\n\u001B[1;32m---> 20\u001B[0m mincost \u001B[38;5;241m=\u001B[39m \u001B[43mnx\u001B[49m\u001B[38;5;241m.\u001B[39mcost_of_flow(G, mincostFlow)\n\u001B[0;32m     21\u001B[0m mincost\n\u001B[0;32m     22\u001B[0m \u001B[38;5;241m373\u001B[39m\n",
      "File \u001B[1;32m_pydevd_bundle\\\\pydevd_cython_win32_312_64.pyx:1187\u001B[0m, in \u001B[0;36m_pydevd_bundle.pydevd_cython_win32_312_64.SafeCallWrapper.__call__\u001B[1;34m()\u001B[0m\n",
      "File \u001B[1;32m_pydevd_bundle\\\\pydevd_cython_win32_312_64.pyx:627\u001B[0m, in \u001B[0;36m_pydevd_bundle.pydevd_cython_win32_312_64.PyDBFrame.trace_dispatch\u001B[1;34m()\u001B[0m\n",
      "File \u001B[1;32m_pydevd_bundle\\\\pydevd_cython_win32_312_64.pyx:937\u001B[0m, in \u001B[0;36m_pydevd_bundle.pydevd_cython_win32_312_64.PyDBFrame.trace_dispatch\u001B[1;34m()\u001B[0m\n",
      "File \u001B[1;32m_pydevd_bundle\\\\pydevd_cython_win32_312_64.pyx:928\u001B[0m, in \u001B[0;36m_pydevd_bundle.pydevd_cython_win32_312_64.PyDBFrame.trace_dispatch\u001B[1;34m()\u001B[0m\n",
      "File \u001B[1;32m_pydevd_bundle\\\\pydevd_cython_win32_312_64.pyx:585\u001B[0m, in \u001B[0;36m_pydevd_bundle.pydevd_cython_win32_312_64.PyDBFrame.do_wait_suspend\u001B[1;34m()\u001B[0m\n",
      "File \u001B[1;32m~\\AppData\\Local\\Programs\\PyCharm Professional\\plugins\\python\\helpers\\pydev\\pydevd.py:1184\u001B[0m, in \u001B[0;36mPyDB.do_wait_suspend\u001B[1;34m(self, thread, frame, event, arg, send_suspend_message, is_unhandled_exception)\u001B[0m\n\u001B[0;32m   1181\u001B[0m         from_this_thread\u001B[38;5;241m.\u001B[39mappend(frame_id)\n\u001B[0;32m   1183\u001B[0m \u001B[38;5;28;01mwith\u001B[39;00m \u001B[38;5;28mself\u001B[39m\u001B[38;5;241m.\u001B[39m_threads_suspended_single_notification\u001B[38;5;241m.\u001B[39mnotify_thread_suspended(thread_id, stop_reason):\n\u001B[1;32m-> 1184\u001B[0m     \u001B[38;5;28;43mself\u001B[39;49m\u001B[38;5;241;43m.\u001B[39;49m\u001B[43m_do_wait_suspend\u001B[49m\u001B[43m(\u001B[49m\u001B[43mthread\u001B[49m\u001B[43m,\u001B[49m\u001B[43m \u001B[49m\u001B[43mframe\u001B[49m\u001B[43m,\u001B[49m\u001B[43m \u001B[49m\u001B[43mevent\u001B[49m\u001B[43m,\u001B[49m\u001B[43m \u001B[49m\u001B[43marg\u001B[49m\u001B[43m,\u001B[49m\u001B[43m \u001B[49m\u001B[43msuspend_type\u001B[49m\u001B[43m,\u001B[49m\u001B[43m \u001B[49m\u001B[43mfrom_this_thread\u001B[49m\u001B[43m)\u001B[49m\n",
      "File \u001B[1;32m~\\AppData\\Local\\Programs\\PyCharm Professional\\plugins\\python\\helpers\\pydev\\pydevd.py:1199\u001B[0m, in \u001B[0;36mPyDB._do_wait_suspend\u001B[1;34m(self, thread, frame, event, arg, suspend_type, from_this_thread)\u001B[0m\n\u001B[0;32m   1196\u001B[0m             \u001B[38;5;28mself\u001B[39m\u001B[38;5;241m.\u001B[39m_call_mpl_hook()\n\u001B[0;32m   1198\u001B[0m         \u001B[38;5;28mself\u001B[39m\u001B[38;5;241m.\u001B[39mprocess_internal_commands()\n\u001B[1;32m-> 1199\u001B[0m         \u001B[43mtime\u001B[49m\u001B[38;5;241;43m.\u001B[39;49m\u001B[43msleep\u001B[49m\u001B[43m(\u001B[49m\u001B[38;5;241;43m0.01\u001B[39;49m\u001B[43m)\u001B[49m\n\u001B[0;32m   1201\u001B[0m \u001B[38;5;28mself\u001B[39m\u001B[38;5;241m.\u001B[39mcancel_async_evaluation(get_current_thread_id(thread), \u001B[38;5;28mstr\u001B[39m(\u001B[38;5;28mid\u001B[39m(frame)))\n\u001B[0;32m   1203\u001B[0m \u001B[38;5;66;03m# process any stepping instructions\u001B[39;00m\n",
      "\u001B[1;31mKeyboardInterrupt\u001B[0m: "
     ]
    }
   ],
   "source": [
    "import networkx as nx\n",
    "G = nx.DiGraph()\n",
    "fuente='Fuente'\n",
    "prove_1='Provedor_1'\n",
    "prove_2='Provedor_2'\n",
    "fake_sink='Fake_sink'\n",
    "Tienda_1='Tienda_1'\n",
    "G.add_edges_from(\n",
    "    [\n",
    "        (fuente,prove_1, {\"capacity\":9, \"weight\": 0}),\n",
    "        (fuente,prove_2, {\"capacity\": 9, \"weight\": 0}),\n",
    "        (prove_1,fake_sink, {\"capacity\": 80, \"weight\": 80}),\n",
    "        (prove_2,fake_sink,{\"capacity\": 4, \"weight\": 10}),\n",
    "        (fake_sink,\n",
    "         Tienda_1,{\"capacity\": 9,\"weight\": 9}),\n",
    "        \n",
    "    ]\n",
    ")\n",
    "mincostFlow = nx.max_flow_min_cost(G, fuente, Tienda_1)\n",
    "mincost = nx.cost_of_flow(G, mincostFlow)\n",
    "mincost\n",
    "373\n",
    "from networkx.algorithms.flow import maximum_flow\n",
    "#maxFlow = maximum_flow(G, 1, 7)[1]\n",
    "#nx.cost_of_flow(G, maxFlow) >= mincost\n",
    "#True\n",
    "#mincostFlowValue = sum((mincostFlow[u][7] for u in G.predecessors(7))) - sum(\n",
    "#    (mincostFlow[7][v] for v in G.successors(7))\n",
    "#)\n",
    "#mincostFlowValue == nx.maximum_flow_value(G, 1, 7)\n",
    "#True"
   ],
   "metadata": {
    "collapsed": false,
    "ExecuteTime": {
     "end_time": "2024-05-08T14:59:30.821476Z",
     "start_time": "2024-05-08T14:47:39.676163Z"
    }
   },
   "id": "421f247c46a7b60",
   "execution_count": 12
  },
  {
   "cell_type": "code",
   "outputs": [
    {
     "name": "stdout",
     "output_type": "stream",
     "text": [
      "6 8\n"
     ]
    }
   ],
   "source": [
    "# Python3 program to implement\n",
    "# the above approach\n",
    "from sys import maxsize\n",
    "from typing import List\n",
    "\n",
    "# Stores the found edges\n",
    "found = []\n",
    "\n",
    "# Stores the number of nodes\n",
    "N = 0\n",
    "\n",
    "# Stores the capacity\n",
    "# of each edge\n",
    "cap = []\n",
    "\n",
    "flow = []\n",
    "\n",
    "# Stores the cost per\n",
    "# unit flow of each edge\n",
    "cost = []\n",
    "\n",
    "# Stores the distance from each node\n",
    "# and picked edges for each node\n",
    "dad = []\n",
    "dist = []\n",
    "pi = []\n",
    "\n",
    "INF = maxsize // 2 - 1\n",
    "\n",
    "# Function to check if it is possible to\n",
    "# have a flow from the src to sink\n",
    "def search(src: int, sink: int) -> bool:\n",
    "\n",
    "\t# Initialise found[] to false\n",
    "\tfound = [False for _ in range(N)]\n",
    "\n",
    "\t# Initialise the dist[] to INF\n",
    "\tdist = [INF for _ in range(N + 1)]\n",
    "\n",
    "\t# Distance from the source node\n",
    "\tdist[src] = 0\n",
    "\n",
    "\t# Iterate until src reaches N\n",
    "\twhile (src != N):\n",
    "\t\tbest = N\n",
    "\t\tfound[src] = True\n",
    "\n",
    "\t\tfor k in range(N):\n",
    "\n",
    "\t\t\t# If already found\n",
    "\t\t\tif (found[k]):\n",
    "\t\t\t\tcontinue\n",
    "\n",
    "\t\t\t# Evaluate while flow\n",
    "\t\t\t# is still in supply\n",
    "\t\t\tif (flow[k][src] != 0):\n",
    "\n",
    "\t\t\t\t# Obtain the total value\n",
    "\t\t\t\tval = (dist[src] + pi[src] -\n",
    "\t\t\t\t\t\tpi[k] - cost[k][src])\n",
    "\n",
    "\t\t\t\t# If dist[k] is > minimum value\n",
    "\t\t\t\tif (dist[k] > val):\n",
    "\n",
    "\t\t\t\t\t# Update\n",
    "\t\t\t\t\tdist[k] = val\n",
    "\t\t\t\t\tdad[k] = src\n",
    "\n",
    "\t\t\tif (flow[src][k] < cap[src][k]):\n",
    "\t\t\t\tval = (dist[src] + pi[src] -\n",
    "\t\t\t\t\t\tpi[k] + cost[src][k])\n",
    "\n",
    "\t\t\t\t# If dist[k] is > minimum value\n",
    "\t\t\t\tif (dist[k] > val):\n",
    "\n",
    "\t\t\t\t\t# Update\n",
    "\t\t\t\t\tdist[k] = val\n",
    "\t\t\t\t\tdad[k] = src\n",
    "\n",
    "\t\t\tif (dist[k] < dist[best]):\n",
    "\t\t\t\tbest = k\n",
    "\n",
    "\t\t# Update src to best for\n",
    "\t\t# next iteration\n",
    "\t\tsrc = best\n",
    "\n",
    "\tfor k in range(N):\n",
    "\t\tpi[k] = min(pi[k] + dist[k], INF)\n",
    "\n",
    "\t# Return the value obtained at sink\n",
    "\treturn found[sink]\n",
    "\n",
    "# Function to obtain the maximum Flow\n",
    "def getMaxFlow(capi: List[List[int]], \n",
    "\t\t\tcosti: List[List[int]], \n",
    "\t\t\tsrc: int, sink: int) -> List[int]:\n",
    "\n",
    "\tglobal cap, cost, found, dist, pi, N, flow, dad\n",
    "\tcap = capi\n",
    "\tcost = costi\n",
    "\n",
    "\tN = len(capi)\n",
    "\tfound = [False for _ in range(N)]\n",
    "\tflow = [[0 for _ in range(N)]\n",
    "\t\t\tfor _ in range(N)]\n",
    "\tdist = [INF for _ in range(N + 1)]\n",
    "\tdad = [0 for _ in range(N)]\n",
    "\tpi = [0 for _ in range(N)]\n",
    "\n",
    "\ttotflow = 0\n",
    "\ttotcost = 0\n",
    "\n",
    "\t# If a path exist from src to sink\n",
    "\twhile (search(src, sink)):\n",
    "\n",
    "\t\t# Set the default amount\n",
    "\t\tamt = INF\n",
    "\t\tx = sink\n",
    "\t\t\n",
    "\t\twhile x != src:\n",
    "\t\t\tamt = min(\n",
    "\t\t\t\tamt, flow[x][dad[x]] if\n",
    "\t\t\t\t(flow[x][dad[x]] != 0) else\n",
    "\t\t\t\tcap[dad[x]][x] - flow[dad[x]][x])\n",
    "\t\t\tx = dad[x]\n",
    "\n",
    "\t\tx = sink\n",
    "\t\t\n",
    "\t\twhile x != src:\n",
    "\t\t\tif (flow[x][dad[x]] != 0):\n",
    "\t\t\t\tflow[x][dad[x]] -= amt\n",
    "\t\t\t\ttotcost -= amt * cost[x][dad[x]]\n",
    "\n",
    "\t\t\telse:\n",
    "\t\t\t\tflow[dad[x]][x] += amt\n",
    "\t\t\t\ttotcost += amt * cost[dad[x]][x]\n",
    "\t\t\t\t\n",
    "\t\t\tx = dad[x]\n",
    "\n",
    "\t\ttotflow += amt\n",
    "\n",
    "\t# Return pair total cost and sink\n",
    "\treturn [totflow, totcost]\n",
    "\n",
    "# Driver Code\n",
    "if __name__ == \"__main__\":\n",
    "\n",
    "\ts = 0\n",
    "\tt = 4\n",
    "\n",
    "\tcap = [ [ 0, 3, 1, 0, 3 ], \n",
    "\t\t\t[ 0, 0, 2, 0, 0 ], \n",
    "\t\t\t[ 0, 0, 0, 1, 6 ], \n",
    "\t\t\t[ 0, 0, 0, 0, 2 ],\n",
    "\t\t\t[ 0, 0, 0, 0, 0 ] ]\n",
    "\n",
    "\tcost = [ [ 0, 1, 0, 0, 2 ], \n",
    "\t\t\t[ 0, 0, 0, 3, 0 ], \n",
    "\t\t\t[ 0, 0, 0, 0, 0 ], \n",
    "\t\t\t[ 0, 0, 0, 0, 1 ],\n",
    "\t\t\t[ 0, 0, 0, 0, 0 ] ]\n",
    "\n",
    "\tret = getMaxFlow(cap, cost, s, t)\n",
    "\n",
    "\tprint(\"{} {}\".format(ret[0], ret[1]))\n",
    "\n",
    "# This code is contributed by sanjeev2552\n"
   ],
   "metadata": {
    "collapsed": false,
    "ExecuteTime": {
     "end_time": "2024-05-08T14:47:20.930759Z",
     "start_time": "2024-05-08T14:47:20.910438Z"
    }
   },
   "id": "1004ca2d361b6db8",
   "execution_count": 10
  },
  {
   "cell_type": "code",
   "outputs": [],
   "source": [
    "import heapq"
   ],
   "metadata": {
    "collapsed": false,
    "ExecuteTime": {
     "end_time": "2024-05-08T14:47:34.219986Z",
     "start_time": "2024-05-08T14:47:34.194348Z"
    }
   },
   "id": "ddbbb6e52e16a710",
   "execution_count": 11
  },
  {
   "cell_type": "code",
   "outputs": [],
   "source": [
    "def min_cost_max_flow(graph, source, sink):\n",
    "    max_flow = 0\n",
    "    min_cost = 0\n",
    "    parent = {}\n",
    "    dist = {}\n",
    "    paths = []  # Lista para guardar los caminos\n",
    "\n",
    "    def bellman_ford():\n",
    "        for node in graph:\n",
    "            dist[node] = float('inf')\n",
    "        dist[source] = 0\n",
    "        for _ in range(len(graph) - 1):\n",
    "            for node in graph:\n",
    "                for neighbor, (capacity, cost, flow) in graph[node].items():\n",
    "                    if capacity > flow and dist[node] + cost < dist[neighbor]:\n",
    "                        dist[neighbor] = dist[node] + cost\n",
    "                        parent[neighbor] = node\n",
    "\n",
    "    def dijkstra():\n",
    "        heap = [(0, source)]\n",
    "        while heap:\n",
    "            d, node = heapq.heappop(heap)\n",
    "            if d != dist[node]:\n",
    "                continue\n",
    "            for neighbor, (capacity, cost, flow) in graph[node].items():\n",
    "                if capacity > flow and dist[node] + cost < dist[neighbor]:\n",
    "                    dist[neighbor] = dist[node] + cost\n",
    "                    parent[neighbor] = node\n",
    "                    heapq.heappush(heap, (dist[neighbor], neighbor))\n",
    "\n",
    "    while True:\n",
    "        bellman_ford()\n",
    "        if dist[sink] == float('inf'):\n",
    "            break\n",
    "        dijkstra()\n",
    "        if dist[sink] == float('inf'):\n",
    "            break\n",
    "\n",
    "        path_flow = float('inf')\n",
    "        v = sink\n",
    "        while v != source:\n",
    "            u = parent[v]\n",
    "            path_flow = min(path_flow, graph[u][v][0] - graph[u][v][2])\n",
    "            v = u\n",
    "\n",
    "        max_flow += path_flow\n",
    "        min_cost += path_flow * dist[sink]\n",
    "        v = sink\n",
    "        while v != source:\n",
    "            u = parent[v]\n",
    "            graph[u][v] = (graph[u][v][0], graph[u][v][1], graph[u][v][2] + path_flow)\n",
    "            if v in graph and u in graph[v]:\n",
    "                graph[v][u] = (graph[v][u][0], graph[v][u][1], graph[v][u][2] - path_flow)\n",
    "            else:\n",
    "                graph[v][u] = (0, -graph[u][v][1], -path_flow)\n",
    "            v = u\n",
    "\n",
    "        paths.append(parent.copy())  # Guardar el camino\n",
    "\n",
    "    return max_flow, min_cost, graph, paths  # Devolver los caminos junto con los otros resultados"
   ],
   "metadata": {
    "collapsed": false
   },
   "id": "4f196455a99849ec",
   "execution_count": null
  },
  {
   "cell_type": "code",
   "outputs": [],
   "source": [
    "graph=create_graph('Tienda_1',9,[('Proveedor_1',80,80.8),('Proveedor_2',4,4)],[])\n",
    "\n",
    "max_flow, min_cost, graph, paths = min_cost_max_flow(graph, source,'Tienda_1')\n",
    "print(f\"Flujo máximo con costo mínimo: {max_flow}\")"
   ],
   "metadata": {
    "collapsed": false
   },
   "id": "3a6d54e25d18c2ea",
   "execution_count": null
  },
  {
   "cell_type": "code",
   "outputs": [],
   "source": [],
   "metadata": {
    "collapsed": false,
    "ExecuteTime": {
     "start_time": "2024-05-08T14:45:12.111342Z"
    }
   },
   "id": "d4d06f54010ada65"
  },
  {
   "cell_type": "code",
   "outputs": [
    {
     "name": "stdout",
     "output_type": "stream",
     "text": [
      "[4, 5]\n"
     ]
    }
   ],
   "source": [
    "lis=[4]\n",
    "\n",
    "lis.extend([5])\n",
    "\n",
    "print(lis)"
   ],
   "metadata": {
    "collapsed": false,
    "ExecuteTime": {
     "end_time": "2024-05-08T20:01:00.598072Z",
     "start_time": "2024-05-08T20:01:00.590860Z"
    }
   },
   "id": "8714fc8f0decd61",
   "execution_count": 2
  },
  {
   "cell_type": "code",
   "outputs": [],
   "source": [],
   "metadata": {
    "collapsed": false
   },
   "id": "38c9701e4fe07c53"
  }
 ],
 "metadata": {
  "kernelspec": {
   "display_name": "Python 3",
   "language": "python",
   "name": "python3"
  },
  "language_info": {
   "codemirror_mode": {
    "name": "ipython",
    "version": 2
   },
   "file_extension": ".py",
   "mimetype": "text/x-python",
   "name": "python",
   "nbconvert_exporter": "python",
   "pygments_lexer": "ipython2",
   "version": "2.7.6"
  }
 },
 "nbformat": 4,
 "nbformat_minor": 5
}
