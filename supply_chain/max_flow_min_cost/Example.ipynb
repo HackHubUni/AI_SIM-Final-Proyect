{
 "cells": [
  {
   "cell_type": "code",
   "execution_count": 9,
   "id": "initial_id",
   "metadata": {
    "collapsed": true,
    "ExecuteTime": {
     "end_time": "2024-05-08T00:47:50.329942Z",
     "start_time": "2024-05-08T00:47:50.322837Z"
    }
   },
   "outputs": [],
   "source": [
    "graph = { 'source':{'f':(303934,455,0)},\n",
    "                    #    Capacidad max, coste, cuanto se movio si es mayor que cero es importante\n",
    "    'f': {'A': (5, 1, 0), 'D': (2, 2, 0)},\n",
    "    'A': {'C': (12, 3, 0),'sink':(4,7,0)},\n",
    "    'C': { 'D': (20, 7, 0)},\n",
    "    'D': {'C': (7, 8, 0), 'sink': (6, 9, 0)},\n",
    "    'sink': {}\n",
    "}\n"
   ]
  },
  {
   "cell_type": "code",
   "outputs": [
    {
     "name": "stdout",
     "output_type": "stream",
     "text": [
      "{'source': {'f': (303934, 455, 7)}, 'f': {'A': (5, 1, 5), 'D': (2, 2, 2), 'source': (0, -455, -7)}, 'A': {'C': (12, 3, 1), 'sink': (4, 7, 4), 'f': (0, -1, -5)}, 'C': {'D': (20, 7, 1), 'A': (0, -3, -1)}, 'D': {'C': (7, 8, -1), 'sink': (6, 9, 3), 'f': (0, -2, -2)}, 'sink': {'A': (0, -7, -4), 'D': (0, -9, -3)}}\n",
      "Flujo máximo con costo mínimo: 7\n"
     ]
    }
   ],
   "source": [
    "def min_cost_max_flow(graph, source, sink):\n",
    "    max_flow = 0\n",
    "    parent = {}\n",
    "\n",
    "    def bfs():\n",
    "        visited = set()\n",
    "        queue = [(source, float(\"Inf\"))]\n",
    "\n",
    "        while queue:\n",
    "            node, path_flow = queue.pop(0)\n",
    "            visited.add(node)\n",
    "\n",
    "            for neighbor, (capacity, cost, flow) in graph[node].items():\n",
    "                if neighbor not in visited and capacity > flow:\n",
    "                    parent[neighbor] = (node, min(path_flow, capacity - flow))\n",
    "                    if neighbor == sink:\n",
    "                        return parent[neighbor][1]\n",
    "                    queue.append((neighbor, parent[neighbor][1]))\n",
    "\n",
    "        return 0\n",
    "\n",
    "    while True:\n",
    "        path_flow = bfs()\n",
    "        if path_flow == 0:\n",
    "            break\n",
    "\n",
    "        max_flow += path_flow\n",
    "        v = sink\n",
    "        while v != source:\n",
    "            u, flow = parent[v]\n",
    "            graph[u][v] = (graph[u][v][0], graph[u][v][1], graph[u][v][2] + path_flow)\n",
    "            if v in graph and u in graph[v]:\n",
    "                graph[v][u] = (graph[v][u][0], graph[v][u][1], graph[v][u][2] - path_flow)\n",
    "            else:\n",
    "                graph[v][u] = (0, -graph[u][v][1], -path_flow)\n",
    "            v = u\n",
    "    print(graph)\n",
    "    return max_flow, graph\n",
    "\n",
    "source = 'source'\n",
    "sink = 'sink'\n",
    "\n",
    "max_flow,graph = min_cost_max_flow(graph, source, sink)\n",
    "print(f\"Flujo máximo con costo mínimo: {max_flow}\")"
   ],
   "metadata": {
    "collapsed": false,
    "ExecuteTime": {
     "end_time": "2024-05-08T00:47:50.403109Z",
     "start_time": "2024-05-08T00:47:50.384725Z"
    }
   },
   "id": "bfa9d292564817e4",
   "execution_count": 10
  },
  {
   "cell_type": "markdown",
   "source": [
    "# Para crear el grafo"
   ],
   "metadata": {
    "collapsed": false
   },
   "id": "90e41ac4cb5e5c3f"
  },
  {
   "cell_type": "code",
   "outputs": [
    {
     "data": {
      "text/plain": "{'Tienda_1': {},\n 'sink': {'Tienda_1': (8, 0, 0)},\n 'source': {'Proveedor_1': (8, 0, 0), 'Proveedor_2': (8, 0, 0)},\n 'Proveedor_1': {'sink': (80, 80.8, 0)},\n 'Proveedor_2': {'sink': (40, 25.5, 0)}}"
     },
     "execution_count": 11,
     "metadata": {},
     "output_type": "execute_result"
    }
   ],
   "source": [
    "def create_graph(sink_name:str,count_want:int,ware_houses_list:list[tuple[str,int,float]],manufacturer_list:list[tuple]):\n",
    "    \"\"\"\n",
    "    Cada lista recibe tuplas con \n",
    "    nombre de la empresa o su id\n",
    "    cant maxima abastecer y precio por  unidad sumado con el del transportista\n",
    "    :param sink_name: \n",
    "    :param count_want: \n",
    "    :param ware_houses_list: \n",
    "    :param manufacturer_list: \n",
    "    :return: \n",
    "    \"\"\"\n",
    "\n",
    "    fake_sink='sink'\n",
    "    source='source'\n",
    "    graph={sink_name:{},fake_sink:{sink_name:(count_want,0,0)}}\n",
    "    graph[source]={}\n",
    "\n",
    "    for tupple in ware_houses_list:\n",
    "        name,count_supply,price=tupple\n",
    "        a=(count_supply,price,0)\n",
    "        graph[name]={fake_sink:a}\n",
    "        dic=graph[source]\n",
    "\n",
    "        dic[name]=(count_want,0,0)\n",
    "    return graph\n",
    "\n",
    "\n",
    "\n",
    "\n",
    "\n",
    "create_graph('Tienda_1',8,[('Proveedor_1',80,80.8),('Proveedor_2',40,25.5)],[])\n",
    "\n",
    "\n"
   ],
   "metadata": {
    "collapsed": false,
    "ExecuteTime": {
     "end_time": "2024-05-08T00:47:50.431526Z",
     "start_time": "2024-05-08T00:47:50.416720Z"
    }
   },
   "id": "4a87ad64786a6059",
   "execution_count": 11
  },
  {
   "cell_type": "code",
   "outputs": [
    {
     "name": "stdout",
     "output_type": "stream",
     "text": [
      "{'Tienda_1': {'sink': (0, 0, -9)}, 'sink': {'Tienda_1': (9, 0, 9), 'Proveedor_2': (0, -25.5, -9)}, 'source': {'Proveedor_1': (9, 0, 0), 'Proveedor_2': (9, 0, 9)}, 'Proveedor_1': {'sink': (80, 80.8, 0)}, 'Proveedor_2': {'sink': (4, 25.5, 9), 'source': (0, 0, -9)}}\n"
     ]
    }
   ],
   "source": [
    "graph=create_graph('Tienda_1',9,[('Proveedor_1',80,80.8),('Proveedor_2',4,25.5)],[])\n",
    "max_flow,graph = min_cost_max_flow(graph, source,'Tienda_1')\n",
    "print(f\"Flujo máximo con costo mínimo: {max_flow}\")"
   ],
   "metadata": {
    "collapsed": false,
    "ExecuteTime": {
     "start_time": "2024-05-08T00:48:59.502147Z"
    }
   },
   "id": "b2b16038290dc030",
   "execution_count": null
  },
  {
   "cell_type": "markdown",
   "source": [
    "Notar que hay un receptor falso para que envie a la tienda osea el proposito es que no lleguen mas productos de lo que se quiere solo tomar los numeros de extrema derecha de la tupla positivos el resto es de como esta el caudal "
   ],
   "metadata": {
    "collapsed": false
   },
   "id": "3c1c4d490feeb98e"
  },
  {
   "cell_type": "code",
   "outputs": [],
   "source": [],
   "metadata": {
    "collapsed": false,
    "ExecuteTime": {
     "end_time": "2024-05-08T00:47:50.494180Z",
     "start_time": "2024-05-08T00:47:50.490519Z"
    }
   },
   "id": "f80baa80a40aa4ab",
   "execution_count": 12
  }
 ],
 "metadata": {
  "kernelspec": {
   "display_name": "Python 3",
   "language": "python",
   "name": "python3"
  },
  "language_info": {
   "codemirror_mode": {
    "name": "ipython",
    "version": 2
   },
   "file_extension": ".py",
   "mimetype": "text/x-python",
   "name": "python",
   "nbconvert_exporter": "python",
   "pygments_lexer": "ipython2",
   "version": "2.7.6"
  }
 },
 "nbformat": 4,
 "nbformat_minor": 5
}
