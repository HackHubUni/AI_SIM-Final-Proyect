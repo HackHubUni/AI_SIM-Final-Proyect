{
 "cells": [
  {
   "cell_type": "code",
   "execution_count": 6,
   "id": "initial_id",
   "metadata": {
    "collapsed": true,
    "ExecuteTime": {
     "end_time": "2024-05-09T02:38:23.661836Z",
     "start_time": "2024-05-09T02:38:23.593638Z"
    }
   },
   "outputs": [
    {
     "ename": "ModuleNotFoundError",
     "evalue": "No module named 'sim_event'",
     "output_type": "error",
     "traceback": [
      "\u001B[1;31m---------------------------------------------------------------------------\u001B[0m",
      "\u001B[1;31mModuleNotFoundError\u001B[0m                       Traceback (most recent call last)",
      "Cell \u001B[1;32mIn[6], line 6\u001B[0m\n\u001B[0;32m      4\u001B[0m \u001B[38;5;28;01mfrom\u001B[39;00m \u001B[38;5;21;01msupply_chain\u001B[39;00m\u001B[38;5;21;01m.\u001B[39;00m\u001B[38;5;21;01mBuilding\u001B[39;00m\u001B[38;5;21;01m.\u001B[39;00m\u001B[38;5;21;01mBuilder_map\u001B[39;00m \u001B[38;5;28;01mimport\u001B[39;00m BuilderSimMap\n\u001B[0;32m      5\u001B[0m \u001B[38;5;28;01mfrom\u001B[39;00m \u001B[38;5;21;01msupply_chain\u001B[39;00m\u001B[38;5;21;01m.\u001B[39;00m\u001B[38;5;21;01msim_environment\u001B[39;00m \u001B[38;5;28;01mimport\u001B[39;00m SimEnvironment\n\u001B[1;32m----> 6\u001B[0m \u001B[38;5;28;01mfrom\u001B[39;00m \u001B[38;5;21;01msupply_chain\u001B[39;00m\u001B[38;5;21;01m.\u001B[39;00m\u001B[38;5;21;01msimulation\u001B[39;00m \u001B[38;5;28;01mimport\u001B[39;00m SupplyChainSimulator\n\u001B[0;32m      7\u001B[0m \u001B[38;5;28;01mfrom\u001B[39;00m \u001B[38;5;21;01msupply_chain\u001B[39;00m\u001B[38;5;21;01m.\u001B[39;00m\u001B[38;5;21;01mutils\u001B[39;00m\u001B[38;5;21;01m.\u001B[39;00m\u001B[38;5;21;01mpoints_generators\u001B[39;00m \u001B[38;5;28;01mimport\u001B[39;00m poisson_disc_sampling\n",
      "File \u001B[1;32m~\\Documents\\GitHub\\AI_SIM-Final-Proyect\\supply_chain\\simulation.py:1\u001B[0m\n\u001B[1;32m----> 1\u001B[0m \u001B[38;5;28;01mfrom\u001B[39;00m \u001B[38;5;21;01msim_event\u001B[39;00m \u001B[38;5;28;01mimport\u001B[39;00m \u001B[38;5;241m*\u001B[39m\n\u001B[0;32m      2\u001B[0m \u001B[38;5;28;01mimport\u001B[39;00m \u001B[38;5;21;01mheapq\u001B[39;00m\n\u001B[0;32m      4\u001B[0m \u001B[38;5;28;01mfrom\u001B[39;00m \u001B[38;5;21;01msupply_chain\u001B[39;00m\u001B[38;5;21;01m.\u001B[39;00m\u001B[38;5;21;01msim_environment\u001B[39;00m \u001B[38;5;28;01mimport\u001B[39;00m SimEnvironment\n",
      "\u001B[1;31mModuleNotFoundError\u001B[0m: No module named 'sim_event'"
     ]
    }
   ],
   "source": [
    "import matplotlib.pyplot as plt\n",
    "\n",
    "from supply_chain.Building.Builder_agent import *\n",
    "from supply_chain.Building.Builder_map import BuilderSimMap\n",
    "from supply_chain.sim_environment import SimEnvironment\n",
    "from supply_chain.simulation import SupplyChainSimulator\n",
    "from supply_chain.utils.points_generators import poisson_disc_sampling\n"
   ]
  },
  {
   "cell_type": "code",
   "outputs": [],
   "source": [
    "points = poisson_disc_sampling(10 + 5 + 5 + 20, (0, 0), (5000, 5000), 20, 20)\n",
    "plt.scatter([p[0] for p in points], [p[1] for p in points])\n",
    "print(len(points))"
   ],
   "metadata": {
    "collapsed": false
   },
   "id": "bda34377f2ccc529",
   "execution_count": null
  },
  {
   "cell_type": "code",
   "outputs": [],
   "source": [
    "sim_map_builder=BuilderSimMap(55,40)\n",
    "simulation_map=sim_map_builder.create_instance()\n",
    "   ##Crear el enviroment y el simulador"
   ],
   "metadata": {
    "collapsed": false,
    "ExecuteTime": {
     "end_time": "2024-05-09T02:37:49.672782Z",
     "start_time": "2024-05-09T02:37:49.603792Z"
    }
   },
   "id": "fed24c03e7d97f8b",
   "execution_count": 4
  },
  {
   "cell_type": "code",
   "outputs": [
    {
     "ename": "NameError",
     "evalue": "name 'SupplyChainSimulator' is not defined",
     "output_type": "error",
     "traceback": [
      "\u001B[1;31m---------------------------------------------------------------------------\u001B[0m",
      "\u001B[1;31mNameError\u001B[0m                                 Traceback (most recent call last)",
      "Cell \u001B[1;32mIn[5], line 3\u001B[0m\n\u001B[0;32m      1\u001B[0m environment \u001B[38;5;241m=\u001B[39m SimEnvironment(simulation_map)\n\u001B[1;32m----> 3\u001B[0m simulator \u001B[38;5;241m=\u001B[39m \u001B[43mSupplyChainSimulator\u001B[49m(environment, \u001B[38;5;241m60\u001B[39m \u001B[38;5;241m*\u001B[39m \u001B[38;5;241m60\u001B[39m \u001B[38;5;241m*\u001B[39m \u001B[38;5;241m24\u001B[39m \u001B[38;5;241m*\u001B[39m \u001B[38;5;241m7\u001B[39m)\n\u001B[0;32m      4\u001B[0m get_time \u001B[38;5;241m=\u001B[39m environment\u001B[38;5;241m.\u001B[39mget_time\n\u001B[0;32m      5\u001B[0m add_event \u001B[38;5;241m=\u001B[39m simulator\u001B[38;5;241m.\u001B[39madd_event\n",
      "\u001B[1;31mNameError\u001B[0m: name 'SupplyChainSimulator' is not defined"
     ]
    }
   ],
   "source": [
    "environment = SimEnvironment(simulation_map)\n",
    "\n",
    "simulator = SupplyChainSimulator(environment, 60 * 60 * 24 * 7)\n",
    "get_time = environment.get_time\n",
    "add_event = simulator.add_event\n",
    "send_msg = environment.send_message\n",
    "get_agent_by_name = environment.get_agent_by_name\n",
    "seed=1234\n"
   ],
   "metadata": {
    "collapsed": false,
    "ExecuteTime": {
     "end_time": "2024-05-09T02:38:16.520552Z",
     "start_time": "2024-05-09T02:38:16.484052Z"
    }
   },
   "id": "dc6b3af80983a457",
   "execution_count": 5
  },
  {
   "cell_type": "code",
   "outputs": [],
   "source": [],
   "metadata": {
    "collapsed": false
   },
   "id": "c696367a45ab6b2a"
  }
 ],
 "metadata": {
  "kernelspec": {
   "display_name": "Python 3",
   "language": "python",
   "name": "python3"
  },
  "language_info": {
   "codemirror_mode": {
    "name": "ipython",
    "version": 2
   },
   "file_extension": ".py",
   "mimetype": "text/x-python",
   "name": "python",
   "nbconvert_exporter": "python",
   "pygments_lexer": "ipython2",
   "version": "2.7.6"
  }
 },
 "nbformat": 4,
 "nbformat_minor": 5
}
