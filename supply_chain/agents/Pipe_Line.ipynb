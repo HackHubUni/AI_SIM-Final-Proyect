{
 "cells": [
  {
   "cell_type": "code",
   "execution_count": 61,
   "id": "initial_id",
   "metadata": {
    "collapsed": true,
    "ExecuteTime": {
     "end_time": "2024-05-09T16:41:16.755902Z",
     "start_time": "2024-05-09T16:41:16.741753Z"
    }
   },
   "outputs": [],
   "source": [
    "import matplotlib.pyplot as plt\n",
    "\n",
    "from supply_chain.Building.Builder_agent import *\n",
    "from supply_chain.Building.Builder_map import BuilderSimMap\n",
    "from supply_chain.sim_environment import SimEnvironment\n",
    "from supply_chain.simulation import SupplyChainSimulator\n",
    "from supply_chain.utils.points_generators import poisson_disc_sampling\n"
   ]
  },
  {
   "cell_type": "code",
   "outputs": [
    {
     "ename": "KeyboardInterrupt",
     "evalue": "",
     "output_type": "error",
     "traceback": [
      "\u001B[1;31m---------------------------------------------------------------------------\u001B[0m",
      "\u001B[1;31mKeyboardInterrupt\u001B[0m                         Traceback (most recent call last)",
      "Cell \u001B[1;32mIn[64], line 1\u001B[0m\n\u001B[1;32m----> 1\u001B[0m points \u001B[38;5;241m=\u001B[39m \u001B[43mpoisson_disc_sampling\u001B[49m\u001B[43m(\u001B[49m\u001B[38;5;241;43m10000\u001B[39;49m\u001B[43m,\u001B[49m\u001B[43m \u001B[49m\u001B[43m(\u001B[49m\u001B[38;5;241;43m0\u001B[39;49m\u001B[43m,\u001B[49m\u001B[43m \u001B[49m\u001B[38;5;241;43m0\u001B[39;49m\u001B[43m)\u001B[49m\u001B[43m,\u001B[49m\u001B[43m \u001B[49m\u001B[43m(\u001B[49m\u001B[38;5;241;43m5000\u001B[39;49m\u001B[43m,\u001B[49m\u001B[43m \u001B[49m\u001B[38;5;241;43m5000\u001B[39;49m\u001B[43m)\u001B[49m\u001B[43m,\u001B[49m\u001B[43m \u001B[49m\u001B[38;5;241;43m5\u001B[39;49m\u001B[43m,\u001B[49m\u001B[43m \u001B[49m\u001B[38;5;241;43m30\u001B[39;49m\u001B[43m)\u001B[49m\n\u001B[0;32m      2\u001B[0m plt\u001B[38;5;241m.\u001B[39mscatter([p[\u001B[38;5;241m0\u001B[39m] \u001B[38;5;28;01mfor\u001B[39;00m p \u001B[38;5;129;01min\u001B[39;00m points], [p[\u001B[38;5;241m1\u001B[39m] \u001B[38;5;28;01mfor\u001B[39;00m p \u001B[38;5;129;01min\u001B[39;00m points])\n\u001B[0;32m      3\u001B[0m \u001B[38;5;28mprint\u001B[39m(\u001B[38;5;28mlen\u001B[39m(points))\n",
      "File \u001B[1;32m~\\Documents\\GitHub\\AI_SIM-Final-Proyect\\supply_chain\\utils\\points_generators.py:29\u001B[0m, in \u001B[0;36mpoisson_disc_sampling\u001B[1;34m(number_of_points, bottom_left_point_boundary, upper_right_point_boundary, minimum_distance, max_rejection)\u001B[0m\n\u001B[0;32m     27\u001B[0m \u001B[38;5;28;01mfor\u001B[39;00m _ \u001B[38;5;129;01min\u001B[39;00m \u001B[38;5;28mrange\u001B[39m(max_rejection):\n\u001B[0;32m     28\u001B[0m     new_point \u001B[38;5;241m=\u001B[39m _generate_point(spawn_point, minimum_distance)\n\u001B[1;32m---> 29\u001B[0m     points \u001B[38;5;241m=\u001B[39m \u001B[43mspace\u001B[49m\u001B[38;5;241;43m.\u001B[39;49m\u001B[43mget_points_in_circle\u001B[49m\u001B[43m(\u001B[49m\u001B[43mnew_point\u001B[49m\u001B[43m,\u001B[49m\u001B[43m \u001B[49m\u001B[43mminimum_distance\u001B[49m\u001B[43m)\u001B[49m\n\u001B[0;32m     30\u001B[0m     \u001B[38;5;28;01mif\u001B[39;00m \u001B[38;5;28mlen\u001B[39m(points) \u001B[38;5;241m>\u001B[39m \u001B[38;5;241m0\u001B[39m:\n\u001B[0;32m     31\u001B[0m         \u001B[38;5;28;01mcontinue\u001B[39;00m\n",
      "File \u001B[1;32m~\\Documents\\GitHub\\AI_SIM-Final-Proyect\\supply_chain\\utils\\quad_tree.py:253\u001B[0m, in \u001B[0;36mQuadTree.get_points_in_circle\u001B[1;34m(self, center, radius)\u001B[0m\n\u001B[0;32m    249\u001B[0m \u001B[38;5;28;01mdef\u001B[39;00m \u001B[38;5;21mget_points_in_circle\u001B[39m(\n\u001B[0;32m    250\u001B[0m     \u001B[38;5;28mself\u001B[39m, center: \u001B[38;5;28mtuple\u001B[39m[\u001B[38;5;28mfloat\u001B[39m, \u001B[38;5;28mfloat\u001B[39m], radius: \u001B[38;5;28mfloat\u001B[39m\n\u001B[0;32m    251\u001B[0m ) \u001B[38;5;241m-\u001B[39m\u001B[38;5;241m>\u001B[39m \u001B[38;5;28mlist\u001B[39m[\u001B[38;5;28mtuple\u001B[39m[\u001B[38;5;28mfloat\u001B[39m, \u001B[38;5;28mfloat\u001B[39m]]:\n\u001B[0;32m    252\u001B[0m \u001B[38;5;250m    \u001B[39m\u001B[38;5;124;03m\"\"\"Returns the list of points that lay inside the circle\"\"\"\u001B[39;00m\n\u001B[1;32m--> 253\u001B[0m     \u001B[38;5;28;01mreturn\u001B[39;00m \u001B[38;5;28;43mself\u001B[39;49m\u001B[38;5;241;43m.\u001B[39;49m\u001B[43mroot\u001B[49m\u001B[38;5;241;43m.\u001B[39;49m\u001B[43mget_points_inside_circle\u001B[49m\u001B[43m(\u001B[49m\u001B[43mcenter\u001B[49m\u001B[43m,\u001B[49m\u001B[43m \u001B[49m\u001B[43mradius\u001B[49m\u001B[43m)\u001B[49m\n",
      "File \u001B[1;32m~\\Documents\\GitHub\\AI_SIM-Final-Proyect\\supply_chain\\utils\\quad_tree.py:177\u001B[0m, in \u001B[0;36mQuadTreeNode.get_points_inside_circle\u001B[1;34m(self, circle_center, radius)\u001B[0m\n\u001B[0;32m    173\u001B[0m \u001B[38;5;28;01mif\u001B[39;00m \u001B[38;5;28mself\u001B[39m\u001B[38;5;241m.\u001B[39msplitted:\n\u001B[0;32m    174\u001B[0m     up_left_points \u001B[38;5;241m=\u001B[39m \u001B[38;5;28mself\u001B[39m\u001B[38;5;241m.\u001B[39mup_left\u001B[38;5;241m.\u001B[39mget_points_inside_circle(\n\u001B[0;32m    175\u001B[0m         circle_center, radius\n\u001B[0;32m    176\u001B[0m     )\n\u001B[1;32m--> 177\u001B[0m     up_right_points \u001B[38;5;241m=\u001B[39m \u001B[38;5;28;43mself\u001B[39;49m\u001B[38;5;241;43m.\u001B[39;49m\u001B[43mup_right\u001B[49m\u001B[38;5;241;43m.\u001B[39;49m\u001B[43mget_points_inside_circle\u001B[49m\u001B[43m(\u001B[49m\n\u001B[0;32m    178\u001B[0m \u001B[43m        \u001B[49m\u001B[43mcircle_center\u001B[49m\u001B[43m,\u001B[49m\u001B[43m \u001B[49m\u001B[43mradius\u001B[49m\n\u001B[0;32m    179\u001B[0m \u001B[43m    \u001B[49m\u001B[43m)\u001B[49m\n\u001B[0;32m    180\u001B[0m     bottom_left_points \u001B[38;5;241m=\u001B[39m \u001B[38;5;28mself\u001B[39m\u001B[38;5;241m.\u001B[39mbottom_left\u001B[38;5;241m.\u001B[39mget_points_inside_circle(\n\u001B[0;32m    181\u001B[0m         circle_center, radius\n\u001B[0;32m    182\u001B[0m     )\n\u001B[0;32m    183\u001B[0m     bottom_right_points \u001B[38;5;241m=\u001B[39m \u001B[38;5;28mself\u001B[39m\u001B[38;5;241m.\u001B[39mbottom_right\u001B[38;5;241m.\u001B[39mget_points_inside_circle(\n\u001B[0;32m    184\u001B[0m         circle_center, radius\n\u001B[0;32m    185\u001B[0m     )\n",
      "File \u001B[1;32m~\\Documents\\GitHub\\AI_SIM-Final-Proyect\\supply_chain\\utils\\quad_tree.py:180\u001B[0m, in \u001B[0;36mQuadTreeNode.get_points_inside_circle\u001B[1;34m(self, circle_center, radius)\u001B[0m\n\u001B[0;32m    174\u001B[0m up_left_points \u001B[38;5;241m=\u001B[39m \u001B[38;5;28mself\u001B[39m\u001B[38;5;241m.\u001B[39mup_left\u001B[38;5;241m.\u001B[39mget_points_inside_circle(\n\u001B[0;32m    175\u001B[0m     circle_center, radius\n\u001B[0;32m    176\u001B[0m )\n\u001B[0;32m    177\u001B[0m up_right_points \u001B[38;5;241m=\u001B[39m \u001B[38;5;28mself\u001B[39m\u001B[38;5;241m.\u001B[39mup_right\u001B[38;5;241m.\u001B[39mget_points_inside_circle(\n\u001B[0;32m    178\u001B[0m     circle_center, radius\n\u001B[0;32m    179\u001B[0m )\n\u001B[1;32m--> 180\u001B[0m bottom_left_points \u001B[38;5;241m=\u001B[39m \u001B[38;5;28;43mself\u001B[39;49m\u001B[38;5;241;43m.\u001B[39;49m\u001B[43mbottom_left\u001B[49m\u001B[38;5;241;43m.\u001B[39;49m\u001B[43mget_points_inside_circle\u001B[49m\u001B[43m(\u001B[49m\n\u001B[0;32m    181\u001B[0m \u001B[43m    \u001B[49m\u001B[43mcircle_center\u001B[49m\u001B[43m,\u001B[49m\u001B[43m \u001B[49m\u001B[43mradius\u001B[49m\n\u001B[0;32m    182\u001B[0m \u001B[43m\u001B[49m\u001B[43m)\u001B[49m\n\u001B[0;32m    183\u001B[0m bottom_right_points \u001B[38;5;241m=\u001B[39m \u001B[38;5;28mself\u001B[39m\u001B[38;5;241m.\u001B[39mbottom_right\u001B[38;5;241m.\u001B[39mget_points_inside_circle(\n\u001B[0;32m    184\u001B[0m     circle_center, radius\n\u001B[0;32m    185\u001B[0m )\n\u001B[0;32m    186\u001B[0m \u001B[38;5;28;01mreturn\u001B[39;00m (\n\u001B[0;32m    187\u001B[0m     up_left_points\n\u001B[0;32m    188\u001B[0m     \u001B[38;5;241m+\u001B[39m up_right_points\n\u001B[0;32m    189\u001B[0m     \u001B[38;5;241m+\u001B[39m bottom_left_points\n\u001B[0;32m    190\u001B[0m     \u001B[38;5;241m+\u001B[39m bottom_right_points\n\u001B[0;32m    191\u001B[0m )\n",
      "File \u001B[1;32m~\\Documents\\GitHub\\AI_SIM-Final-Proyect\\supply_chain\\utils\\quad_tree.py:180\u001B[0m, in \u001B[0;36mQuadTreeNode.get_points_inside_circle\u001B[1;34m(self, circle_center, radius)\u001B[0m\n\u001B[0;32m    174\u001B[0m up_left_points \u001B[38;5;241m=\u001B[39m \u001B[38;5;28mself\u001B[39m\u001B[38;5;241m.\u001B[39mup_left\u001B[38;5;241m.\u001B[39mget_points_inside_circle(\n\u001B[0;32m    175\u001B[0m     circle_center, radius\n\u001B[0;32m    176\u001B[0m )\n\u001B[0;32m    177\u001B[0m up_right_points \u001B[38;5;241m=\u001B[39m \u001B[38;5;28mself\u001B[39m\u001B[38;5;241m.\u001B[39mup_right\u001B[38;5;241m.\u001B[39mget_points_inside_circle(\n\u001B[0;32m    178\u001B[0m     circle_center, radius\n\u001B[0;32m    179\u001B[0m )\n\u001B[1;32m--> 180\u001B[0m bottom_left_points \u001B[38;5;241m=\u001B[39m \u001B[38;5;28;43mself\u001B[39;49m\u001B[38;5;241;43m.\u001B[39;49m\u001B[43mbottom_left\u001B[49m\u001B[38;5;241;43m.\u001B[39;49m\u001B[43mget_points_inside_circle\u001B[49m\u001B[43m(\u001B[49m\n\u001B[0;32m    181\u001B[0m \u001B[43m    \u001B[49m\u001B[43mcircle_center\u001B[49m\u001B[43m,\u001B[49m\u001B[43m \u001B[49m\u001B[43mradius\u001B[49m\n\u001B[0;32m    182\u001B[0m \u001B[43m\u001B[49m\u001B[43m)\u001B[49m\n\u001B[0;32m    183\u001B[0m bottom_right_points \u001B[38;5;241m=\u001B[39m \u001B[38;5;28mself\u001B[39m\u001B[38;5;241m.\u001B[39mbottom_right\u001B[38;5;241m.\u001B[39mget_points_inside_circle(\n\u001B[0;32m    184\u001B[0m     circle_center, radius\n\u001B[0;32m    185\u001B[0m )\n\u001B[0;32m    186\u001B[0m \u001B[38;5;28;01mreturn\u001B[39;00m (\n\u001B[0;32m    187\u001B[0m     up_left_points\n\u001B[0;32m    188\u001B[0m     \u001B[38;5;241m+\u001B[39m up_right_points\n\u001B[0;32m    189\u001B[0m     \u001B[38;5;241m+\u001B[39m bottom_left_points\n\u001B[0;32m    190\u001B[0m     \u001B[38;5;241m+\u001B[39m bottom_right_points\n\u001B[0;32m    191\u001B[0m )\n",
      "    \u001B[1;31m[... skipping similar frames: QuadTreeNode.get_points_inside_circle at line 180 (1 times)]\u001B[0m\n",
      "File \u001B[1;32m~\\Documents\\GitHub\\AI_SIM-Final-Proyect\\supply_chain\\utils\\quad_tree.py:180\u001B[0m, in \u001B[0;36mQuadTreeNode.get_points_inside_circle\u001B[1;34m(self, circle_center, radius)\u001B[0m\n\u001B[0;32m    174\u001B[0m up_left_points \u001B[38;5;241m=\u001B[39m \u001B[38;5;28mself\u001B[39m\u001B[38;5;241m.\u001B[39mup_left\u001B[38;5;241m.\u001B[39mget_points_inside_circle(\n\u001B[0;32m    175\u001B[0m     circle_center, radius\n\u001B[0;32m    176\u001B[0m )\n\u001B[0;32m    177\u001B[0m up_right_points \u001B[38;5;241m=\u001B[39m \u001B[38;5;28mself\u001B[39m\u001B[38;5;241m.\u001B[39mup_right\u001B[38;5;241m.\u001B[39mget_points_inside_circle(\n\u001B[0;32m    178\u001B[0m     circle_center, radius\n\u001B[0;32m    179\u001B[0m )\n\u001B[1;32m--> 180\u001B[0m bottom_left_points \u001B[38;5;241m=\u001B[39m \u001B[38;5;28;43mself\u001B[39;49m\u001B[38;5;241;43m.\u001B[39;49m\u001B[43mbottom_left\u001B[49m\u001B[38;5;241;43m.\u001B[39;49m\u001B[43mget_points_inside_circle\u001B[49m\u001B[43m(\u001B[49m\n\u001B[0;32m    181\u001B[0m \u001B[43m    \u001B[49m\u001B[43mcircle_center\u001B[49m\u001B[43m,\u001B[49m\u001B[43m \u001B[49m\u001B[43mradius\u001B[49m\n\u001B[0;32m    182\u001B[0m \u001B[43m\u001B[49m\u001B[43m)\u001B[49m\n\u001B[0;32m    183\u001B[0m bottom_right_points \u001B[38;5;241m=\u001B[39m \u001B[38;5;28mself\u001B[39m\u001B[38;5;241m.\u001B[39mbottom_right\u001B[38;5;241m.\u001B[39mget_points_inside_circle(\n\u001B[0;32m    184\u001B[0m     circle_center, radius\n\u001B[0;32m    185\u001B[0m )\n\u001B[0;32m    186\u001B[0m \u001B[38;5;28;01mreturn\u001B[39;00m (\n\u001B[0;32m    187\u001B[0m     up_left_points\n\u001B[0;32m    188\u001B[0m     \u001B[38;5;241m+\u001B[39m up_right_points\n\u001B[0;32m    189\u001B[0m     \u001B[38;5;241m+\u001B[39m bottom_left_points\n\u001B[0;32m    190\u001B[0m     \u001B[38;5;241m+\u001B[39m bottom_right_points\n\u001B[0;32m    191\u001B[0m )\n",
      "File \u001B[1;32m~\\Documents\\GitHub\\AI_SIM-Final-Proyect\\supply_chain\\utils\\quad_tree.py:183\u001B[0m, in \u001B[0;36mQuadTreeNode.get_points_inside_circle\u001B[1;34m(self, circle_center, radius)\u001B[0m\n\u001B[0;32m    177\u001B[0m     up_right_points \u001B[38;5;241m=\u001B[39m \u001B[38;5;28mself\u001B[39m\u001B[38;5;241m.\u001B[39mup_right\u001B[38;5;241m.\u001B[39mget_points_inside_circle(\n\u001B[0;32m    178\u001B[0m         circle_center, radius\n\u001B[0;32m    179\u001B[0m     )\n\u001B[0;32m    180\u001B[0m     bottom_left_points \u001B[38;5;241m=\u001B[39m \u001B[38;5;28mself\u001B[39m\u001B[38;5;241m.\u001B[39mbottom_left\u001B[38;5;241m.\u001B[39mget_points_inside_circle(\n\u001B[0;32m    181\u001B[0m         circle_center, radius\n\u001B[0;32m    182\u001B[0m     )\n\u001B[1;32m--> 183\u001B[0m     bottom_right_points \u001B[38;5;241m=\u001B[39m \u001B[38;5;28;43mself\u001B[39;49m\u001B[38;5;241;43m.\u001B[39;49m\u001B[43mbottom_right\u001B[49m\u001B[38;5;241;43m.\u001B[39;49m\u001B[43mget_points_inside_circle\u001B[49m\u001B[43m(\u001B[49m\n\u001B[0;32m    184\u001B[0m \u001B[43m        \u001B[49m\u001B[43mcircle_center\u001B[49m\u001B[43m,\u001B[49m\u001B[43m \u001B[49m\u001B[43mradius\u001B[49m\n\u001B[0;32m    185\u001B[0m \u001B[43m    \u001B[49m\u001B[43m)\u001B[49m\n\u001B[0;32m    186\u001B[0m     \u001B[38;5;28;01mreturn\u001B[39;00m (\n\u001B[0;32m    187\u001B[0m         up_left_points\n\u001B[0;32m    188\u001B[0m         \u001B[38;5;241m+\u001B[39m up_right_points\n\u001B[0;32m    189\u001B[0m         \u001B[38;5;241m+\u001B[39m bottom_left_points\n\u001B[0;32m    190\u001B[0m         \u001B[38;5;241m+\u001B[39m bottom_right_points\n\u001B[0;32m    191\u001B[0m     )\n\u001B[0;32m    192\u001B[0m \u001B[38;5;28;01mif\u001B[39;00m boundary_inside_circle(\n\u001B[0;32m    193\u001B[0m     \u001B[38;5;28mself\u001B[39m\u001B[38;5;241m.\u001B[39mbottom_left_point_boundary,\n\u001B[0;32m    194\u001B[0m     \u001B[38;5;28mself\u001B[39m\u001B[38;5;241m.\u001B[39mupper_right_point_boundary,\n\u001B[0;32m    195\u001B[0m     circle_center,\n\u001B[0;32m    196\u001B[0m     radius,\n\u001B[0;32m    197\u001B[0m ):\n",
      "File \u001B[1;32m~\\Documents\\GitHub\\AI_SIM-Final-Proyect\\supply_chain\\utils\\quad_tree.py:180\u001B[0m, in \u001B[0;36mQuadTreeNode.get_points_inside_circle\u001B[1;34m(self, circle_center, radius)\u001B[0m\n\u001B[0;32m    174\u001B[0m up_left_points \u001B[38;5;241m=\u001B[39m \u001B[38;5;28mself\u001B[39m\u001B[38;5;241m.\u001B[39mup_left\u001B[38;5;241m.\u001B[39mget_points_inside_circle(\n\u001B[0;32m    175\u001B[0m     circle_center, radius\n\u001B[0;32m    176\u001B[0m )\n\u001B[0;32m    177\u001B[0m up_right_points \u001B[38;5;241m=\u001B[39m \u001B[38;5;28mself\u001B[39m\u001B[38;5;241m.\u001B[39mup_right\u001B[38;5;241m.\u001B[39mget_points_inside_circle(\n\u001B[0;32m    178\u001B[0m     circle_center, radius\n\u001B[0;32m    179\u001B[0m )\n\u001B[1;32m--> 180\u001B[0m bottom_left_points \u001B[38;5;241m=\u001B[39m \u001B[38;5;28;43mself\u001B[39;49m\u001B[38;5;241;43m.\u001B[39;49m\u001B[43mbottom_left\u001B[49m\u001B[38;5;241;43m.\u001B[39;49m\u001B[43mget_points_inside_circle\u001B[49m\u001B[43m(\u001B[49m\n\u001B[0;32m    181\u001B[0m \u001B[43m    \u001B[49m\u001B[43mcircle_center\u001B[49m\u001B[43m,\u001B[49m\u001B[43m \u001B[49m\u001B[43mradius\u001B[49m\n\u001B[0;32m    182\u001B[0m \u001B[43m\u001B[49m\u001B[43m)\u001B[49m\n\u001B[0;32m    183\u001B[0m bottom_right_points \u001B[38;5;241m=\u001B[39m \u001B[38;5;28mself\u001B[39m\u001B[38;5;241m.\u001B[39mbottom_right\u001B[38;5;241m.\u001B[39mget_points_inside_circle(\n\u001B[0;32m    184\u001B[0m     circle_center, radius\n\u001B[0;32m    185\u001B[0m )\n\u001B[0;32m    186\u001B[0m \u001B[38;5;28;01mreturn\u001B[39;00m (\n\u001B[0;32m    187\u001B[0m     up_left_points\n\u001B[0;32m    188\u001B[0m     \u001B[38;5;241m+\u001B[39m up_right_points\n\u001B[0;32m    189\u001B[0m     \u001B[38;5;241m+\u001B[39m bottom_left_points\n\u001B[0;32m    190\u001B[0m     \u001B[38;5;241m+\u001B[39m bottom_right_points\n\u001B[0;32m    191\u001B[0m )\n",
      "File \u001B[1;32m~\\Documents\\GitHub\\AI_SIM-Final-Proyect\\supply_chain\\utils\\quad_tree.py:177\u001B[0m, in \u001B[0;36mQuadTreeNode.get_points_inside_circle\u001B[1;34m(self, circle_center, radius)\u001B[0m\n\u001B[0;32m    173\u001B[0m \u001B[38;5;28;01mif\u001B[39;00m \u001B[38;5;28mself\u001B[39m\u001B[38;5;241m.\u001B[39msplitted:\n\u001B[0;32m    174\u001B[0m     up_left_points \u001B[38;5;241m=\u001B[39m \u001B[38;5;28mself\u001B[39m\u001B[38;5;241m.\u001B[39mup_left\u001B[38;5;241m.\u001B[39mget_points_inside_circle(\n\u001B[0;32m    175\u001B[0m         circle_center, radius\n\u001B[0;32m    176\u001B[0m     )\n\u001B[1;32m--> 177\u001B[0m     up_right_points \u001B[38;5;241m=\u001B[39m \u001B[38;5;28;43mself\u001B[39;49m\u001B[38;5;241;43m.\u001B[39;49m\u001B[43mup_right\u001B[49m\u001B[38;5;241;43m.\u001B[39;49m\u001B[43mget_points_inside_circle\u001B[49m\u001B[43m(\u001B[49m\n\u001B[0;32m    178\u001B[0m \u001B[43m        \u001B[49m\u001B[43mcircle_center\u001B[49m\u001B[43m,\u001B[49m\u001B[43m \u001B[49m\u001B[43mradius\u001B[49m\n\u001B[0;32m    179\u001B[0m \u001B[43m    \u001B[49m\u001B[43m)\u001B[49m\n\u001B[0;32m    180\u001B[0m     bottom_left_points \u001B[38;5;241m=\u001B[39m \u001B[38;5;28mself\u001B[39m\u001B[38;5;241m.\u001B[39mbottom_left\u001B[38;5;241m.\u001B[39mget_points_inside_circle(\n\u001B[0;32m    181\u001B[0m         circle_center, radius\n\u001B[0;32m    182\u001B[0m     )\n\u001B[0;32m    183\u001B[0m     bottom_right_points \u001B[38;5;241m=\u001B[39m \u001B[38;5;28mself\u001B[39m\u001B[38;5;241m.\u001B[39mbottom_right\u001B[38;5;241m.\u001B[39mget_points_inside_circle(\n\u001B[0;32m    184\u001B[0m         circle_center, radius\n\u001B[0;32m    185\u001B[0m     )\n",
      "File \u001B[1;32m~\\Documents\\GitHub\\AI_SIM-Final-Proyect\\supply_chain\\utils\\quad_tree.py:202\u001B[0m, in \u001B[0;36mQuadTreeNode.get_points_inside_circle\u001B[1;34m(self, circle_center, radius)\u001B[0m\n\u001B[0;32m    192\u001B[0m \u001B[38;5;28;01mif\u001B[39;00m boundary_inside_circle(\n\u001B[0;32m    193\u001B[0m     \u001B[38;5;28mself\u001B[39m\u001B[38;5;241m.\u001B[39mbottom_left_point_boundary,\n\u001B[0;32m    194\u001B[0m     \u001B[38;5;28mself\u001B[39m\u001B[38;5;241m.\u001B[39mupper_right_point_boundary,\n\u001B[0;32m    195\u001B[0m     circle_center,\n\u001B[0;32m    196\u001B[0m     radius,\n\u001B[0;32m    197\u001B[0m ):\n\u001B[0;32m    198\u001B[0m     \u001B[38;5;28;01mreturn\u001B[39;00m \u001B[38;5;28mself\u001B[39m\u001B[38;5;241m.\u001B[39mget_all_points()\n\u001B[0;32m    199\u001B[0m out_points: \u001B[38;5;28mlist\u001B[39m[\u001B[38;5;28mtuple\u001B[39m[\u001B[38;5;28mfloat\u001B[39m, \u001B[38;5;28mfloat\u001B[39m]] \u001B[38;5;241m=\u001B[39m [\n\u001B[0;32m    200\u001B[0m     point\n\u001B[0;32m    201\u001B[0m     \u001B[38;5;28;01mfor\u001B[39;00m point \u001B[38;5;129;01min\u001B[39;00m \u001B[38;5;28mself\u001B[39m\u001B[38;5;241m.\u001B[39mpoints\n\u001B[1;32m--> 202\u001B[0m     \u001B[38;5;28;01mif\u001B[39;00m \u001B[43mpoint_inside_circle\u001B[49m\u001B[43m(\u001B[49m\u001B[43mpoint\u001B[49m\u001B[43m,\u001B[49m\u001B[43m \u001B[49m\u001B[43mcircle_center\u001B[49m\u001B[43m,\u001B[49m\u001B[43m \u001B[49m\u001B[43mradius\u001B[49m\u001B[43m)\u001B[49m\n\u001B[0;32m    203\u001B[0m ]\n\u001B[0;32m    204\u001B[0m \u001B[38;5;28;01mreturn\u001B[39;00m out_points\n",
      "File \u001B[1;32m~\\Documents\\GitHub\\AI_SIM-Final-Proyect\\supply_chain\\utils\\utility_functions.py:31\u001B[0m, in \u001B[0;36mpoint_inside_circle\u001B[1;34m(point, center, radius)\u001B[0m\n\u001B[0;32m     27\u001B[0m \u001B[38;5;28;01mdef\u001B[39;00m \u001B[38;5;21mpoint_inside_circle\u001B[39m(\n\u001B[0;32m     28\u001B[0m     point: \u001B[38;5;28mtuple\u001B[39m[\u001B[38;5;28mfloat\u001B[39m, \u001B[38;5;28mfloat\u001B[39m], center: \u001B[38;5;28mtuple\u001B[39m[\u001B[38;5;28mfloat\u001B[39m, \u001B[38;5;28mfloat\u001B[39m], radius: \u001B[38;5;28mfloat\u001B[39m\n\u001B[0;32m     29\u001B[0m ) \u001B[38;5;241m-\u001B[39m\u001B[38;5;241m>\u001B[39m \u001B[38;5;28mbool\u001B[39m:\n\u001B[0;32m     30\u001B[0m \u001B[38;5;250m    \u001B[39m\u001B[38;5;124;03m\"\"\"Returns True if the point is inside the circle\"\"\"\u001B[39;00m\n\u001B[1;32m---> 31\u001B[0m     \u001B[38;5;28;01mreturn\u001B[39;00m \u001B[43mdistance_between_points\u001B[49m\u001B[43m(\u001B[49m\u001B[43mpoint\u001B[49m\u001B[43m,\u001B[49m\u001B[43m \u001B[49m\u001B[43mcenter\u001B[49m\u001B[43m)\u001B[49m \u001B[38;5;241m<\u001B[39m radius\n",
      "File \u001B[1;32m~\\Documents\\GitHub\\AI_SIM-Final-Proyect\\supply_chain\\utils\\utility_functions.py:22\u001B[0m, in \u001B[0;36mdistance_between_points\u001B[1;34m(p1, p2)\u001B[0m\n\u001B[0;32m     18\u001B[0m \u001B[38;5;250m    \u001B[39m\u001B[38;5;124;03m\"\"\"This function multiplies a point with a scalar\"\"\"\u001B[39;00m\n\u001B[0;32m     19\u001B[0m     \u001B[38;5;28;01mreturn\u001B[39;00m (p1[\u001B[38;5;241m0\u001B[39m] \u001B[38;5;241m*\u001B[39m scalar, p1[\u001B[38;5;241m1\u001B[39m] \u001B[38;5;241m*\u001B[39m scalar)\n\u001B[1;32m---> 22\u001B[0m \u001B[38;5;28;01mdef\u001B[39;00m \u001B[38;5;21mdistance_between_points\u001B[39m(p1: \u001B[38;5;28mtuple\u001B[39m[\u001B[38;5;28mfloat\u001B[39m, \u001B[38;5;28mfloat\u001B[39m], p2: \u001B[38;5;28mtuple\u001B[39m[\u001B[38;5;28mfloat\u001B[39m, \u001B[38;5;28mfloat\u001B[39m]) \u001B[38;5;241m-\u001B[39m\u001B[38;5;241m>\u001B[39m \u001B[38;5;28mfloat\u001B[39m:\n\u001B[0;32m     23\u001B[0m \u001B[38;5;250m    \u001B[39m\u001B[38;5;124;03m\"\"\"Return the distance between points\"\"\"\u001B[39;00m\n\u001B[0;32m     24\u001B[0m     \u001B[38;5;28;01mreturn\u001B[39;00m norm([p1[\u001B[38;5;241m0\u001B[39m] \u001B[38;5;241m-\u001B[39m p2[\u001B[38;5;241m0\u001B[39m], p1[\u001B[38;5;241m1\u001B[39m] \u001B[38;5;241m-\u001B[39m p2[\u001B[38;5;241m1\u001B[39m]])\n",
      "\u001B[1;31mKeyboardInterrupt\u001B[0m: "
     ]
    }
   ],
   "source": [
    "points = poisson_disc_sampling(10000, (0, 0), (5000, 5000), 5, 30)\n",
    "plt.scatter([p[0] for p in points], [p[1] for p in points])\n",
    "print(len(points))"
   ],
   "metadata": {
    "collapsed": false,
    "ExecuteTime": {
     "end_time": "2024-05-09T16:46:58.210159Z",
     "start_time": "2024-05-09T16:45:23.704224Z"
    }
   },
   "id": "bda34377f2ccc529",
   "execution_count": 64
  },
  {
   "cell_type": "code",
   "outputs": [],
   "source": [
    "sim_map_builder=BuilderSimMap(55,40)\n",
    "simulation_map=sim_map_builder.create_instance()\n",
    "   ##Crear el enviroment y el simulador"
   ],
   "metadata": {
    "collapsed": false,
    "ExecuteTime": {
     "end_time": "2024-05-09T02:37:49.672782Z",
     "start_time": "2024-05-09T02:37:49.603792Z"
    }
   },
   "id": "fed24c03e7d97f8b",
   "execution_count": 4
  },
  {
   "cell_type": "code",
   "outputs": [
    {
     "ename": "NameError",
     "evalue": "name 'SupplyChainSimulator' is not defined",
     "output_type": "error",
     "traceback": [
      "\u001B[1;31m---------------------------------------------------------------------------\u001B[0m",
      "\u001B[1;31mNameError\u001B[0m                                 Traceback (most recent call last)",
      "Cell \u001B[1;32mIn[5], line 3\u001B[0m\n\u001B[0;32m      1\u001B[0m environment \u001B[38;5;241m=\u001B[39m SimEnvironment(simulation_map)\n\u001B[1;32m----> 3\u001B[0m simulator \u001B[38;5;241m=\u001B[39m \u001B[43mSupplyChainSimulator\u001B[49m(environment, \u001B[38;5;241m60\u001B[39m \u001B[38;5;241m*\u001B[39m \u001B[38;5;241m60\u001B[39m \u001B[38;5;241m*\u001B[39m \u001B[38;5;241m24\u001B[39m \u001B[38;5;241m*\u001B[39m \u001B[38;5;241m7\u001B[39m)\n\u001B[0;32m      4\u001B[0m get_time \u001B[38;5;241m=\u001B[39m environment\u001B[38;5;241m.\u001B[39mget_time\n\u001B[0;32m      5\u001B[0m add_event \u001B[38;5;241m=\u001B[39m simulator\u001B[38;5;241m.\u001B[39madd_event\n",
      "\u001B[1;31mNameError\u001B[0m: name 'SupplyChainSimulator' is not defined"
     ]
    }
   ],
   "source": [
    "environment = SimEnvironment(simulation_map)\n",
    "\n",
    "simulator = SupplyChainSimulator(environment, 60 * 60 * 24 * 7)\n",
    "get_time = environment.get_time\n",
    "add_event = simulator.add_event\n",
    "send_msg = environment.send_message\n",
    "get_agent_by_name = environment.get_agent_by_name\n",
    "seed=1234\n"
   ],
   "metadata": {
    "collapsed": false,
    "ExecuteTime": {
     "end_time": "2024-05-09T02:38:16.520552Z",
     "start_time": "2024-05-09T02:38:16.484052Z"
    }
   },
   "id": "dc6b3af80983a457",
   "execution_count": 5
  },
  {
   "cell_type": "code",
   "outputs": [],
   "source": [],
   "metadata": {
    "collapsed": false
   },
   "id": "c696367a45ab6b2a"
  },
  {
   "cell_type": "code",
   "outputs": [
    {
     "ename": "IndexError",
     "evalue": "tuple index out of range",
     "output_type": "error",
     "traceback": [
      "\u001B[1;31m---------------------------------------------------------------------------\u001B[0m",
      "\u001B[1;31mIndexError\u001B[0m                                Traceback (most recent call last)",
      "Cell \u001B[1;32mIn[8], line 17\u001B[0m\n\u001B[0;32m     14\u001B[0m     d[\u001B[38;5;124m'\u001B[39m\u001B[38;5;124mweight\u001B[39m\u001B[38;5;124m'\u001B[39m] \u001B[38;5;241m=\u001B[39m random\u001B[38;5;241m.\u001B[39mrandint(\u001B[38;5;241m1\u001B[39m, \u001B[38;5;241m100\u001B[39m)  \u001B[38;5;66;03m# Asignar un peso aleatorio entre 1 y 100\u001B[39;00m\n\u001B[0;32m     16\u001B[0m \u001B[38;5;66;03m# Añadir atributos de costo basados en los pesos\u001B[39;00m\n\u001B[1;32m---> 17\u001B[0m nx\u001B[38;5;241m.\u001B[39mset_edge_attributes(G, {e: \u001B[43me\u001B[49m\u001B[43m[\u001B[49m\u001B[38;5;241;43m2\u001B[39;49m\u001B[43m]\u001B[49m[\u001B[38;5;124m'\u001B[39m\u001B[38;5;124mweight\u001B[39m\u001B[38;5;124m'\u001B[39m] \u001B[38;5;28;01mfor\u001B[39;00m e \u001B[38;5;129;01min\u001B[39;00m G\u001B[38;5;241m.\u001B[39medges()}, \u001B[38;5;124m\"\u001B[39m\u001B[38;5;124mcost\u001B[39m\u001B[38;5;124m\"\u001B[39m)\n\u001B[0;32m     19\u001B[0m \u001B[38;5;66;03m# Definir el nodo origen y destino\u001B[39;00m\n\u001B[0;32m     20\u001B[0m source \u001B[38;5;241m=\u001B[39m (\u001B[38;5;241m0\u001B[39m, \u001B[38;5;241m0\u001B[39m)\n",
      "\u001B[1;31mIndexError\u001B[0m: tuple index out of range"
     ]
    }
   ],
   "source": [
    "import networkx as nx\n",
    "import matplotlib.pyplot as plt\n",
    "\n",
    "def dist(a, b):\n",
    "    (x1, y1) = a\n",
    "    (x2, y2) = b\n",
    "    return ((x1 - x2) ** 2 + (y1 - y2) ** 2) ** 0.5\n",
    "\n",
    "# Crear un grafo aleatorio\n",
    "G = nx.gnp_random_graph(10, 0.5)  # 10 nodos, probabilidad de conexión 0.5\n",
    "\n",
    "# Añadir pesos aleatorios a los bordes\n",
    "for u, v, d in G.edges(data=True):\n",
    "    d['weight'] = random.randint(1, 100)  # Asignar un peso aleatorio entre 1 y 100\n",
    "\n",
    "# Añadir atributos de costo basados en los pesos\n",
    "nx.set_edge_attributes(G, {e: e[1]['weight'] for e in G.edges()}, \"cost\")\n",
    "\n",
    "# Definir el nodo origen y destino\n",
    "source = (0, 0)\n",
    "target = (9, 9)\n",
    "\n",
    "# Calcular el camino más corto usando A*\n",
    "path = nx.astar_path(G, source, target, heuristic=dist, weight=\"cost\")\n",
    "length = nx.astar_path_length(G, source, target, heuristic=dist, weight=\"cost\")\n",
    "\n",
    "print(\"Path: \", path)\n",
    "print(\"Path length: \", length)\n",
    "\n",
    "# Visualizar el grafo\n",
    "pos = nx.spring_layout(G)\n",
    "nx.draw(G, pos, with_labels=True, node_color=\"#f86e00\")\n",
    "edge_labels = nx.get_edge_attributes(G, \"cost\")\n",
    "nx.draw_networkx_edge_labels(G, pos, edge_labels=edge_labels)\n",
    "plt.show()\n"
   ],
   "metadata": {
    "collapsed": false,
    "ExecuteTime": {
     "end_time": "2024-05-09T12:01:46.304859Z",
     "start_time": "2024-05-09T12:01:46.258250Z"
    }
   },
   "id": "c01540e336036a70",
   "execution_count": 8
  },
  {
   "cell_type": "code",
   "outputs": [
    {
     "ename": "TypeError",
     "evalue": "cannot unpack non-iterable int object",
     "output_type": "error",
     "traceback": [
      "\u001B[1;31m---------------------------------------------------------------------------\u001B[0m",
      "\u001B[1;31mTypeError\u001B[0m                                 Traceback (most recent call last)",
      "Cell \u001B[1;32mIn[14], line 27\u001B[0m\n\u001B[0;32m     25\u001B[0m \u001B[38;5;66;03m# Calcular el camino más corto usando A*\u001B[39;00m\n\u001B[0;32m     26\u001B[0m \u001B[38;5;28;01mtry\u001B[39;00m:\n\u001B[1;32m---> 27\u001B[0m     path \u001B[38;5;241m=\u001B[39m \u001B[43mnx\u001B[49m\u001B[38;5;241;43m.\u001B[39;49m\u001B[43mastar_path\u001B[49m\u001B[43m(\u001B[49m\u001B[43mG\u001B[49m\u001B[43m,\u001B[49m\u001B[43m \u001B[49m\u001B[43msource\u001B[49m\u001B[43m,\u001B[49m\u001B[43m \u001B[49m\u001B[43mtarget\u001B[49m\u001B[43m,\u001B[49m\u001B[43m \u001B[49m\u001B[43mheuristic\u001B[49m\u001B[38;5;241;43m=\u001B[39;49m\u001B[43mdist\u001B[49m\u001B[43m,\u001B[49m\u001B[43m \u001B[49m\u001B[43mweight\u001B[49m\u001B[38;5;241;43m=\u001B[39;49m\u001B[38;5;124;43m\"\u001B[39;49m\u001B[38;5;124;43mcost\u001B[39;49m\u001B[38;5;124;43m\"\u001B[39;49m\u001B[43m)\u001B[49m\n\u001B[0;32m     28\u001B[0m     length \u001B[38;5;241m=\u001B[39m nx\u001B[38;5;241m.\u001B[39mastar_path_length(G, source, target, heuristic\u001B[38;5;241m=\u001B[39mdist, weight\u001B[38;5;241m=\u001B[39m\u001B[38;5;124m\"\u001B[39m\u001B[38;5;124mcost\u001B[39m\u001B[38;5;124m\"\u001B[39m)\n\u001B[0;32m     30\u001B[0m     \u001B[38;5;28mprint\u001B[39m(\u001B[38;5;124m\"\u001B[39m\u001B[38;5;124mPath: \u001B[39m\u001B[38;5;124m\"\u001B[39m, path)\n",
      "File \u001B[1;32m~\\Documents\\GitHub\\AI_SIM-Final-Proyect\\venv\\Lib\\site-packages\\networkx\\utils\\decorators.py:789\u001B[0m, in \u001B[0;36margmap.__call__.<locals>.func\u001B[1;34m(_argmap__wrapper, *args, **kwargs)\u001B[0m\n\u001B[0;32m    788\u001B[0m \u001B[38;5;28;01mdef\u001B[39;00m \u001B[38;5;21mfunc\u001B[39m(\u001B[38;5;241m*\u001B[39margs, __wrapper\u001B[38;5;241m=\u001B[39m\u001B[38;5;28;01mNone\u001B[39;00m, \u001B[38;5;241m*\u001B[39m\u001B[38;5;241m*\u001B[39mkwargs):\n\u001B[1;32m--> 789\u001B[0m     \u001B[38;5;28;01mreturn\u001B[39;00m \u001B[43margmap\u001B[49m\u001B[38;5;241;43m.\u001B[39;49m\u001B[43m_lazy_compile\u001B[49m\u001B[43m(\u001B[49m\u001B[43m__wrapper\u001B[49m\u001B[43m)\u001B[49m\u001B[43m(\u001B[49m\u001B[38;5;241;43m*\u001B[39;49m\u001B[43margs\u001B[49m\u001B[43m,\u001B[49m\u001B[43m \u001B[49m\u001B[38;5;241;43m*\u001B[39;49m\u001B[38;5;241;43m*\u001B[39;49m\u001B[43mkwargs\u001B[49m\u001B[43m)\u001B[49m\n",
      "File \u001B[1;32m<class 'networkx.utils.decorators.argmap'> compilation 9:3\u001B[0m, in \u001B[0;36margmap_astar_path_6\u001B[1;34m(G, source, target, heuristic, weight, cutoff, backend, **backend_kwargs)\u001B[0m\n\u001B[0;32m      1\u001B[0m \u001B[38;5;28;01mimport\u001B[39;00m \u001B[38;5;21;01mbz2\u001B[39;00m\n\u001B[0;32m      2\u001B[0m \u001B[38;5;28;01mimport\u001B[39;00m \u001B[38;5;21;01mcollections\u001B[39;00m\n\u001B[1;32m----> 3\u001B[0m \u001B[38;5;28;01mimport\u001B[39;00m \u001B[38;5;21;01mgzip\u001B[39;00m\n\u001B[0;32m      4\u001B[0m \u001B[38;5;28;01mimport\u001B[39;00m \u001B[38;5;21;01minspect\u001B[39;00m\n\u001B[0;32m      5\u001B[0m \u001B[38;5;28;01mimport\u001B[39;00m \u001B[38;5;21;01mitertools\u001B[39;00m\n",
      "File \u001B[1;32m~\\Documents\\GitHub\\AI_SIM-Final-Proyect\\venv\\Lib\\site-packages\\networkx\\utils\\backends.py:633\u001B[0m, in \u001B[0;36m_dispatchable.__call__\u001B[1;34m(self, backend, *args, **kwargs)\u001B[0m\n\u001B[0;32m    628\u001B[0m \u001B[38;5;250m\u001B[39m\u001B[38;5;124;03m\"\"\"Returns the result of the original function, or the backend function if\u001B[39;00m\n\u001B[0;32m    629\u001B[0m \u001B[38;5;124;03mthe backend is specified and that backend implements `func`.\"\"\"\u001B[39;00m\n\u001B[0;32m    631\u001B[0m \u001B[38;5;28;01mif\u001B[39;00m \u001B[38;5;129;01mnot\u001B[39;00m backends:\n\u001B[0;32m    632\u001B[0m     \u001B[38;5;66;03m# Fast path if no backends are installed\u001B[39;00m\n\u001B[1;32m--> 633\u001B[0m     \u001B[38;5;28;01mreturn\u001B[39;00m \u001B[38;5;28;43mself\u001B[39;49m\u001B[38;5;241;43m.\u001B[39;49m\u001B[43morig_func\u001B[49m\u001B[43m(\u001B[49m\u001B[38;5;241;43m*\u001B[39;49m\u001B[43margs\u001B[49m\u001B[43m,\u001B[49m\u001B[43m \u001B[49m\u001B[38;5;241;43m*\u001B[39;49m\u001B[38;5;241;43m*\u001B[39;49m\u001B[43mkwargs\u001B[49m\u001B[43m)\u001B[49m\n\u001B[0;32m    635\u001B[0m \u001B[38;5;66;03m# Use `backend_name` in this function instead of `backend`\u001B[39;00m\n\u001B[0;32m    636\u001B[0m backend_name \u001B[38;5;241m=\u001B[39m backend\n",
      "File \u001B[1;32m~\\Documents\\GitHub\\AI_SIM-Final-Proyect\\venv\\Lib\\site-packages\\networkx\\algorithms\\shortest_paths\\astar.py:163\u001B[0m, in \u001B[0;36mastar_path\u001B[1;34m(G, source, target, heuristic, weight, cutoff)\u001B[0m\n\u001B[0;32m    161\u001B[0m         \u001B[38;5;28;01mcontinue\u001B[39;00m\n\u001B[0;32m    162\u001B[0m \u001B[38;5;28;01melse\u001B[39;00m:\n\u001B[1;32m--> 163\u001B[0m     h \u001B[38;5;241m=\u001B[39m \u001B[43mheuristic\u001B[49m\u001B[43m(\u001B[49m\u001B[43mneighbor\u001B[49m\u001B[43m,\u001B[49m\u001B[43m \u001B[49m\u001B[43mtarget\u001B[49m\u001B[43m)\u001B[49m\n\u001B[0;32m    165\u001B[0m \u001B[38;5;28;01mif\u001B[39;00m cutoff \u001B[38;5;129;01mand\u001B[39;00m ncost \u001B[38;5;241m+\u001B[39m h \u001B[38;5;241m>\u001B[39m cutoff:\n\u001B[0;32m    166\u001B[0m     \u001B[38;5;28;01mcontinue\u001B[39;00m\n",
      "Cell \u001B[1;32mIn[14], line 6\u001B[0m, in \u001B[0;36mdist\u001B[1;34m(a, b)\u001B[0m\n\u001B[0;32m      5\u001B[0m \u001B[38;5;28;01mdef\u001B[39;00m \u001B[38;5;21mdist\u001B[39m(a, b):\n\u001B[1;32m----> 6\u001B[0m     (x1, y1) \u001B[38;5;241m=\u001B[39m a\n\u001B[0;32m      7\u001B[0m     (x2, y2) \u001B[38;5;241m=\u001B[39m b\n\u001B[0;32m      8\u001B[0m     \u001B[38;5;28;01mreturn\u001B[39;00m ((x1 \u001B[38;5;241m-\u001B[39m x2) \u001B[38;5;241m*\u001B[39m\u001B[38;5;241m*\u001B[39m \u001B[38;5;241m2\u001B[39m \u001B[38;5;241m+\u001B[39m (y1 \u001B[38;5;241m-\u001B[39m y2) \u001B[38;5;241m*\u001B[39m\u001B[38;5;241m*\u001B[39m \u001B[38;5;241m2\u001B[39m) \u001B[38;5;241m*\u001B[39m\u001B[38;5;241m*\u001B[39m \u001B[38;5;241m0.5\u001B[39m\n",
      "\u001B[1;31mTypeError\u001B[0m: cannot unpack non-iterable int object"
     ]
    }
   ],
   "source": [
    "import networkx as nx\n",
    "import matplotlib.pyplot as plt\n",
    "import random\n",
    "\n",
    "def dist(a, b):\n",
    "    (x1, y1) = a\n",
    "    (x2, y2) = b\n",
    "    return ((x1 - x2) ** 2 + (y1 - y2) ** 2) ** 0.5\n",
    "\n",
    "# Crear un grafo aleatorio\n",
    "G = nx.gnp_random_graph(10, 0.5)  # 10 nodos, probabilidad de conexión 0.5\n",
    "\n",
    "# Añadir pesos aleatorios a los bordes\n",
    "for u, v, d in G.edges(data=True):\n",
    "    d['weight'] = random.randint(1, 100)  # Asignar un peso aleatorio entre 1 y 100\n",
    "\n",
    "# Añadir atributos de costo basados en los pesos\n",
    "#nx.set_edge_attributes(G, {e: (e[0], e[1], e[2]['weight']) for e in #\n",
    "# G.edges(data=True)}, \"cost\")\n",
    "\n",
    "# Definir el nodo origen y destino\n",
    "source = list(G.nodes())[0]\n",
    "target = list(G.nodes())[-1]\n",
    "\n",
    "# Calcular el camino más corto usando A*\n",
    "try:\n",
    "    path = nx.astar_path(G, source, target, heuristic=dist, weight=\"cost\")\n",
    "    length = nx.astar_path_length(G, source, target, heuristic=dist, weight=\"cost\")\n",
    "\n",
    "    print(\"Path: \", path)\n",
    "    print(\"Path length: \", length)\n",
    "except nx.NetworkXNoPath:\n",
    "    print(\"No path between source and target\")\n",
    "\n",
    "# Visualizar el grafo\n",
    "pos = nx.spring_layout(G)\n",
    "nx.draw(G, pos, with_labels=True, node_color=\"#f86e00\")\n",
    "edge_labels = nx.get_edge_attributes(G, \"cost\")\n",
    "nx.draw_networkx_edge_labels(G, pos, edge_labels=edge_labels)\n",
    "plt.show()"
   ],
   "metadata": {
    "collapsed": false,
    "ExecuteTime": {
     "end_time": "2024-05-09T12:08:16.455420Z",
     "start_time": "2024-05-09T12:08:15.708115Z"
    }
   },
   "id": "7ea3cfb83bf551b1",
   "execution_count": 14
  },
  {
   "cell_type": "code",
   "outputs": [],
   "source": [
    "import networkx as nx\n",
    "import random\n",
    "\n",
    "def generate_random_weighted_digraph(num_nodes, num_edges):\n",
    "    G = nx.DiGraph()\n",
    "    for i in range(num_nodes):\n",
    "        G.add_node(i)\n",
    "        #G.number_of_edges()\n",
    "    a=0\n",
    "    while a < num_edges:\n",
    "        a+=1\n",
    "        u, v = random.sample(list(G.nodes()), 2)\n",
    "        weight = random.randint(1, 100)  # Peso aleatorio entre 1 y 100\n",
    "        G.add_edge(u, v, weight=weight)\n",
    "    return G\n",
    "\n",
    "G = generate_random_weighted_digraph(100000, 3000)"
   ],
   "metadata": {
    "collapsed": false,
    "ExecuteTime": {
     "end_time": "2024-05-09T16:36:18.563998Z",
     "start_time": "2024-05-09T16:36:14.753797Z"
    }
   },
   "id": "1c40dd1139877dff",
   "execution_count": 58
  },
  {
   "cell_type": "code",
   "outputs": [],
   "source": [
    "import random\n",
    "\n",
    "def generate_random_weighted_digraph(num_nodes, num_edges):\n",
    "    G = nx.DiGraph()\n",
    "    for i in range(num_nodes):\n",
    "        G.add_node(i)\n",
    "        #G.number_of_edges()\n",
    "    a=0\n",
    "    \n",
    "    while a < num_edges:\n",
    "        a+=1\n",
    "        #u, v = random.sample(list(G.nodes()), 2)\n",
    "        u=random.randint(0,num_nodes)\n",
    "        v=random.randint(0,num_edges)\n",
    "        weight = random.randint(1, 100)  # Peso aleatorio entre 1 y 100\n",
    "        G.add_edge(u, v, weight=weight)\n",
    "        G.add_edge(v,u,weight=weight)\n",
    "    return G\n",
    "\n",
    "G = generate_random_weighted_digraph(100000, 3000000)"
   ],
   "metadata": {
    "collapsed": false,
    "is_executing": true,
    "ExecuteTime": {
     "start_time": "2024-05-09T13:02:14.445445Z"
    }
   },
   "id": "ad973e9fc615ea7f",
   "execution_count": null
  },
  {
   "cell_type": "code",
   "outputs": [],
   "source": [
    "import matplotlib.pyplot as plt\n",
    "\n",
    "def draw_graph(G):\n",
    "    pos = nx.spring_layout(G)  # Posiciones de los nodos\n",
    "    nx.draw(G, pos, with_labels=True, node_color=\"#f86e00\")  # Dibuja los nodos\n",
    "    edge_labels = nx.get_edge_attributes(G, \"weight\")  # Obtiene los pesos de las aristas\n",
    "    nx.draw_networkx_edge_labels(G, pos, edge_labels=edge_labels)  # Dibuja las etiquetas de las aristas\n",
    "    plt.show()  # Muestra el gráfico\n",
    "\n",
    "draw_graph(G)"
   ],
   "metadata": {
    "collapsed": false
   },
   "id": "ba4b6cca2b81f0f7",
   "execution_count": null
  },
  {
   "cell_type": "code",
   "outputs": [],
   "source": [
    "def assign_element_to_unique_node(G, element, assigned_nodes):\n",
    "    available_nodes = [node for node in G.nodes() if node not in assigned_nodes]\n",
    "    if not available_nodes:\n",
    "        raise ValueError(\"No more available nodes to assign elements.\")\n",
    "    random_node = random.choice(available_nodes)\n",
    "    G.nodes[random_node]['element'] = element\n",
    "    assigned_nodes.add(random_node)\n",
    "    return G\n",
    "\n",
    "# Uso de la función\n",
    "element = \"MiElemento\"\n",
    "assigned_nodes = set()\n",
    "G = assign_element_to_unique_node(G, element, assigned_nodes)"
   ],
   "metadata": {
    "collapsed": false
   },
   "id": "2b172fd4915752e0",
   "execution_count": null
  },
  {
   "cell_type": "code",
   "outputs": [],
   "source": [
    "import networkx as nx\n",
    "number_of_nodes=G.number_of_nodes()\n",
    "# Assume we have some positions associated with nodes\n",
    "positions = {i: (random.random(), random.random()) for i in range(number_of_nodes*15)}\n",
    "\n",
    "def dist(a, b):\n",
    "    while a not in positions:\n",
    "        a=random.randint(1,number_of_nodes)\n",
    "    while b not in positions:\n",
    "        b=random.randint(1,number_of_nodes)\n",
    "    (x1, y1) = positions[a]\n",
    "    (x2, y2) = positions[b]\n",
    "    return ((x1 - x2) ** 2 + (y1 - y2) ** 2) ** 0.5\n",
    "\n",
    "# Definir el nodo origen y destino\n",
    "source = list(G.nodes())[0]\n",
    "target = list(G.nodes())[3567]\n",
    "\n",
    "# Calcular el camino más corto usando A*\n",
    "try:\n",
    "    path = nx.astar_path(G, source, target, heuristic=dist, weight=\"weight\")\n",
    "    print(\"Path: \", path)\n",
    "except nx.NetworkXNoPath:\n",
    "    print(\"No path between source and target\")"
   ],
   "metadata": {
    "collapsed": false,
    "ExecuteTime": {
     "start_time": "2024-05-09T12:56:15.060358Z"
    }
   },
   "id": "2894462e25fdbba4",
   "execution_count": null
  },
  {
   "cell_type": "code",
   "outputs": [],
   "source": [
    "  "
   ],
   "metadata": {
    "collapsed": false
   },
   "id": "527b9f6ad3c5c3e8"
  }
 ],
 "metadata": {
  "kernelspec": {
   "display_name": "Python 3",
   "language": "python",
   "name": "python3"
  },
  "language_info": {
   "codemirror_mode": {
    "name": "ipython",
    "version": 2
   },
   "file_extension": ".py",
   "mimetype": "text/x-python",
   "name": "python",
   "nbconvert_exporter": "python",
   "pygments_lexer": "ipython2",
   "version": "2.7.6"
  }
 },
 "nbformat": 4,
 "nbformat_minor": 5
}
