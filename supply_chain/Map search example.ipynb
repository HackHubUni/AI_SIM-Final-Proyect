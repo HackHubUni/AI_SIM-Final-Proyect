{
 "cells": [
  {
   "cell_type": "markdown",
   "metadata": {},
   "source": [
    "# Como buscar en el mapa de la simulación\n",
    "\n",
    "Este corto notebook explica como buscar en el mapa de la simulación"
   ]
  },
  {
   "cell_type": "markdown",
   "metadata": {},
   "source": [
    "### Creando el mapa\n",
    "\n",
    "Ahora creemos un nuevo mapa. Pero antes de esto debemos crear un nuevo conjunto de puntos. Para esto usaremos la clase ``"
   ]
  },
  {
   "cell_type": "code",
   "execution_count": 1,
   "metadata": {
    "ExecuteTime": {
     "end_time": "2024-05-03T17:00:47.696253Z",
     "start_time": "2024-05-03T17:00:46.910498Z"
    }
   },
   "outputs": [
    {
     "ename": "ModuleNotFoundError",
     "evalue": "No module named 'supply_chain.products.specific_products.base_products.water'",
     "output_type": "error",
     "traceback": [
      "\u001B[1;31m---------------------------------------------------------------------------\u001B[0m",
      "\u001B[1;31mModuleNotFoundError\u001B[0m                       Traceback (most recent call last)",
      "Cell \u001B[1;32mIn[1], line 1\u001B[0m\n\u001B[1;32m----> 1\u001B[0m \u001B[38;5;28;01mfrom\u001B[39;00m \u001B[38;5;21;01msupply_chain\u001B[39;00m\u001B[38;5;21;01m.\u001B[39;00m\u001B[38;5;21;01mproducts\u001B[39;00m\u001B[38;5;21;01m.\u001B[39;00m\u001B[38;5;21;01mspecific_products\u001B[39;00m\u001B[38;5;21;01m.\u001B[39;00m\u001B[38;5;21;01mbase_products\u001B[39;00m\u001B[38;5;21;01m.\u001B[39;00m\u001B[38;5;21;01mwater\u001B[39;00m \u001B[38;5;28;01mimport\u001B[39;00m Water\n\u001B[0;32m      2\u001B[0m \u001B[38;5;28;01mfrom\u001B[39;00m \u001B[38;5;21;01mutils\u001B[39;00m\u001B[38;5;21;01m.\u001B[39;00m\u001B[38;5;21;01mpoints_generators\u001B[39;00m \u001B[38;5;28;01mimport\u001B[39;00m poisson_disc_sampling\n\u001B[0;32m      3\u001B[0m \u001B[38;5;28;01mimport\u001B[39;00m \u001B[38;5;21;01mmatplotlib\u001B[39;00m\u001B[38;5;21;01m.\u001B[39;00m\u001B[38;5;21;01mpyplot\u001B[39;00m \u001B[38;5;28;01mas\u001B[39;00m \u001B[38;5;21;01mplt\u001B[39;00m\n",
      "\u001B[1;31mModuleNotFoundError\u001B[0m: No module named 'supply_chain.products.specific_products.base_products.water'"
     ]
    }
   ],
   "source": [
    "from supply_chain.products.specific_products.base_products.water import Water\n",
    "from utils.points_generators import poisson_disc_sampling\n",
    "import matplotlib.pyplot as plt\n",
    "import random as rnd\n",
    "\n",
    "points = poisson_disc_sampling(10 + 5 + 5 + 20, (0, 0), (5000, 5000), 20, 20)\n",
    "plt.scatter([p[0] for p in points], [p[1] for p in points])\n",
    "print(len(points))\n",
    "\n"
   ]
  },
  {
   "cell_type": "code",
   "execution_count": null,
   "metadata": {
    "ExecuteTime": {
     "start_time": "2024-05-03T17:00:47.699272Z"
    }
   },
   "outputs": [],
   "source": [
    "def plot_map(\n",
    "        points: tuple[float, float],\n",
    "        connections: list[tuple[tuple[float, float], tuple[float, float]]],\n",
    "        path: tuple[list[float], list[float]] = None,\n",
    "):\n",
    "    plt.scatter([p[0] for p in points], [p[1] for p in points])\n",
    "    for p1, p2 in connections:\n",
    "        plt.plot([p1[0], p2[0]], [p1[1], p2[1]], color=\"grey\")\n",
    "    if path is not None:\n",
    "        plt.plot(path[0], path[1], color=\"green\")\n",
    "    plt.xlabel(\"X-axis\")\n",
    "    plt.ylabel(\"Y-axis\")\n",
    "    plt.title(\"Plot of Points and Connections\")\n",
    "    plt.grid(True)\n",
    "    plt.show()"
   ]
  },
  {
   "cell_type": "code",
   "execution_count": null,
   "metadata": {},
   "outputs": [],
   "source": [
    "from sim_map import SimMap, MapNode\n",
    "\n",
    "# Now let's create some connections\n",
    "\n",
    "number_of_connections = 50\n",
    "connections: list[tuple[tuple[float, float], tuple[float, float]]] = []\n",
    "\n",
    "simulation_map: SimMap = SimMap()\n",
    "\n",
    "for _ in range(number_of_connections):\n",
    "    p1, p2 = rnd.sample(points, 2)\n",
    "    connections.append((p1, p2))\n",
    "    simulation_map.add_bidirectional_connection_with_random_distance(p1, p2, 50, True)\n",
    "\n",
    "plot_map(points, connections, None)\n"
   ]
  },
  {
   "cell_type": "markdown",
   "metadata": {},
   "source": [
    "## Buscando en el mapa\n",
    "\n",
    "Ahora que tenemos un mapa creado solo hace falta buscar en este"
   ]
  },
  {
   "cell_type": "code",
   "execution_count": null,
   "metadata": {},
   "outputs": [],
   "source": [
    "from map_search_problem import MapSearchProblem\n",
    "from sim_ai.search_problem.search_algorithms import *\n",
    "from utils.utility_functions import distance_between_points\n",
    "\n",
    "\n",
    "def map_heuristic(\n",
    "        actual_position: tuple[float, float], final_position: tuple[float, float]\n",
    ") -> float:\n",
    "    return distance_between_points(actual_position, final_position)\n",
    "\n",
    "\n",
    "def path(node: SearchNode) -> tuple[list[float], list[float]]:\n",
    "    result = node.get_path()\n",
    "    x_coordinates = [p[0] for p in result]\n",
    "    y_coordinates = [p[1] for p in result]\n",
    "    return (x_coordinates, y_coordinates)\n",
    "\n",
    "\n",
    "initial_position, final_position = rnd.sample(points, 2)\n",
    "\n",
    "map_problem = MapSearchProblem(\n",
    "    initial_position=initial_position,\n",
    "    final_position=final_position,\n",
    "    city_map=simulation_map,\n",
    ")\n",
    "found, final_node = a_star_search(\n",
    "    map_problem, lambda node: map_heuristic(node.state, final_position)\n",
    ")\n",
    "\n",
    "if found:\n",
    "    print(f\"A path was found\")\n",
    "    original_path = final_node.get_path()\n",
    "    for state in original_path:\n",
    "        print(state)\n",
    "    plot_map(points, connections, path(final_node))\n",
    "    print(f\"The distance is {final_node.path_cost:2f}\")\n",
    "    # plt.show()\n",
    "else:\n",
    "    print(\"A path was not found\")"
   ]
  },
  {
   "cell_type": "markdown",
   "metadata": {},
   "source": [
    "## Como entran las empresas en este mapa\n",
    "\n",
    "Simple, el mapa es un mapa de puntos y las empresas tienen una propiedad llamada `position_in_map` que dice en que punto del mapa se encuentran.\n",
    "Para que el **Agente Logístico** diga un precio por su transportación, primero debe computar la distancia entre el punto de salida y el punto de llegada usando la búsqueda anteriormente implementada, luego decide el precio y el tiempo que se demorará en llegar en base a la distancia y la cantidad de unidades a transportar.\n",
    "> Nota: El tiempo de llegada del transportista es dependiendo de la velocidad de su equipo de transportación. Cada transportista tiene una propiedad que dice su velocidad. Pero el tiempo de llegada real depende de una variable aleatoria que dice como se comporta su retraso."
   ]
  },
  {
   "cell_type": "code",
   "execution_count": null,
   "metadata": {
    "collapsed": false,
    "ExecuteTime": {
     "start_time": "2024-05-03T17:00:47.706277Z"
    }
   },
   "outputs": [],
   "source": [
    "from sim_environment import SimEnvironment\n"
   ]
  },
  {
   "cell_type": "code",
   "execution_count": null,
   "metadata": {
    "collapsed": false
   },
   "outputs": [],
   "source": [
    "from simulation import SupplyChainSimulator"
   ]
  },
  {
   "cell_type": "code",
   "execution_count": null,
   "metadata": {
    "collapsed": false
   },
   "outputs": [],
   "source": [
    "\n",
    "environment = SimEnvironment(simulation_map)\n",
    "\n",
    "simulator = SupplyChainSimulator(environment, 60 * 60 * 24 * 7)\n"
   ]
  },
  {
   "cell_type": "markdown",
   "metadata": {
    "collapsed": false
   },
   "source": [
    "Lambda para dar el tiempo"
   ]
  },
  {
   "cell_type": "code",
   "execution_count": null,
   "metadata": {
    "collapsed": false
   },
   "outputs": [],
   "source": [
    "get_time = environment.get_time"
   ]
  },
  {
   "cell_type": "code",
   "execution_count": null,
   "metadata": {
    "collapsed": false,
    "ExecuteTime": {
     "start_time": "2024-05-03T17:00:47.713784Z"
    }
   },
   "outputs": [],
   "source": [
    "add_event = simulator.add_event"
   ]
  },
  {
   "cell_type": "markdown",
   "metadata": {
    "collapsed": false
   },
   "source": [
    "Lambda para enviar mensaje"
   ]
  },
  {
   "cell_type": "code",
   "execution_count": null,
   "metadata": {
    "collapsed": false
   },
   "outputs": [],
   "source": [
    "send_msg = environment.send_message"
   ]
  },
  {
   "cell_type": "markdown",
   "metadata": {},
   "source": [
    "## Creación de las empresas de la compañía\n",
    "\n",
    "Creemos entonces algunas compañías para la simulación\n"
   ]
  },
  {
   "cell_type": "markdown",
   "metadata": {
    "collapsed": false
   },
   "source": [
    "Crear el stock manager"
   ]
  },
  {
   "cell_type": "code",
   "execution_count": null,
   "metadata": {
    "collapsed": false,
    "ExecuteTime": {
     "start_time": "2024-05-03T17:00:47.718797Z"
    }
   },
   "outputs": [],
   "source": [
    "from Company.stock_manager.productor_stock_manager import *"
   ]
  },
  {
   "cell_type": "code",
   "execution_count": 2,
   "metadata": {
    "collapsed": false
   },
   "outputs": [],
   "source": [
    "def create_product(count=1):\n",
    "    lis = []\n",
    "    for _ in range(0, count):\n",
    "        lis.append(Water(10))\n",
    "\n",
    "    return lis\n",
    "\n",
    "\n",
    "\n"
   ]
  },
  {
   "cell_type": "code",
   "execution_count": 3,
   "metadata": {
    "collapsed": false,
    "ExecuteTime": {
     "end_time": "2024-05-03T17:00:47.905390Z",
     "start_time": "2024-05-03T17:00:47.897670Z"
    }
   },
   "outputs": [],
   "source": [
    "products_names = [\"Water\"]\n",
    "create_product_lambda = {}\n",
    "create_product_lambda[products_names[0]] = create_product"
   ]
  },
  {
   "cell_type": "code",
   "execution_count": 4,
   "metadata": {
    "ExecuteTime": {
     "end_time": "2024-05-03T17:00:48.171404Z",
     "start_time": "2024-05-03T17:00:48.151490Z"
    }
   },
   "outputs": [
    {
     "ename": "IndentationError",
     "evalue": "unexpected indent (build_stock_manager.py, line 87)",
     "output_type": "error",
     "traceback": [
      "Traceback \u001B[1;36m(most recent call last)\u001B[0m:\n",
      "\u001B[0m  File \u001B[0;32m~\\Documents\\GitHub\\AI_SIM-Final-Proyect\\venv\\Lib\\site-packages\\IPython\\core\\interactiveshell.py:3577\u001B[0m in \u001B[0;35mrun_code\u001B[0m\n    exec(code_obj, self.user_global_ns, self.user_ns)\u001B[0m\n",
      "\u001B[1;36m  Cell \u001B[1;32mIn[4], line 1\u001B[1;36m\n\u001B[1;33m    from supply_chain.Building.build_stock_manager import BuildProductorStockManager\u001B[1;36m\n",
      "\u001B[1;36m  File \u001B[1;32m~\\Documents\\GitHub\\AI_SIM-Final-Proyect\\supply_chain\\Building\\build_stock_manager.py:87\u001B[1;36m\u001B[0m\n\u001B[1;33m    products_min_stock: dict[str, int],\u001B[0m\n\u001B[1;37m    ^\u001B[0m\n\u001B[1;31mIndentationError\u001B[0m\u001B[1;31m:\u001B[0m unexpected indent\n"
     ]
    }
   ],
   "source": [
    "from supply_chain.Building.build_stock_manager import BuildProductorStockManager\n",
    "from supply_chain.Company.companies_types.Producer_Company import *\n",
    "\n",
    "stock_manager_1 = BuildProductorStockManager(add_event=add_event,\n",
    "                                             get_time=get_time,\n",
    "                                             create_product_lambda=create_product_lambda,\n",
    "                                             list_products_can_sell_name=products_names\n",
    "                                             ).create_ProductorStockManager()\n",
    "\n"
   ]
  },
  {
   "cell_type": "code",
   "execution_count": 5,
   "metadata": {
    "collapsed": false,
    "ExecuteTime": {
     "end_time": "2024-05-03T17:00:48.406117Z",
     "start_time": "2024-05-03T17:00:48.346882Z"
    }
   },
   "outputs": [
    {
     "ename": "NameError",
     "evalue": "name 'ProducerCompany' is not defined",
     "output_type": "error",
     "traceback": [
      "\u001B[1;31m---------------------------------------------------------------------------\u001B[0m",
      "\u001B[1;31mNameError\u001B[0m                                 Traceback (most recent call last)",
      "Cell \u001B[1;32mIn[5], line 3\u001B[0m\n\u001B[0;32m      1\u001B[0m \u001B[38;5;28;01mfrom\u001B[39;00m \u001B[38;5;21;01msupply_chain\u001B[39;00m\u001B[38;5;21;01m.\u001B[39;00m\u001B[38;5;21;01mCompany\u001B[39;00m\u001B[38;5;21;01m.\u001B[39;00m\u001B[38;5;21;01mstock_manager\u001B[39;00m \u001B[38;5;28;01mimport\u001B[39;00m stock_manager\n\u001B[1;32m----> 3\u001B[0m producer_1 \u001B[38;5;241m=\u001B[39m \u001B[43mProducerCompany\u001B[49m(\u001B[38;5;124m\"\u001B[39m\u001B[38;5;124mEmpresa_1\u001B[39m\u001B[38;5;124m\"\u001B[39m, get_time, add_event, stock_manager_1)\n\u001B[0;32m      4\u001B[0m producer_1\u001B[38;5;241m.\u001B[39mstart()\n",
      "\u001B[1;31mNameError\u001B[0m: name 'ProducerCompany' is not defined"
     ]
    }
   ],
   "source": [
    "from supply_chain.Company.stock_manager import stock_manager\n",
    "\n",
    "producer_1 = ProducerCompany(\"Empresa_1\", get_time, add_event, stock_manager_1)\n",
    "producer_1.start()"
   ]
  },
  {
   "cell_type": "markdown",
   "metadata": {
    "collapsed": false
   },
   "source": [
    "# Crear el visualizador para el agente"
   ]
  },
  {
   "cell_type": "markdown",
   "metadata": {
    "collapsed": false
   },
   "source": [
    "## Crear los hechos del inferenciador"
   ]
  },
  {
   "cell_type": "code",
   "execution_count": null,
   "metadata": {
    "collapsed": false,
    "ExecuteTime": {
     "start_time": "2024-05-03T17:00:48.409129Z"
    }
   },
   "outputs": [],
   "source": [
    "def get_dict_valoracion_inicial() -> dict[TypeCompany, dict[str, float]]:\n",
    "    dict_return = {}\n",
    "    dict_2 = {\"MAtrix_1\": 7}\n",
    "    dict_return[TypeCompany.Matrix] = dict_2\n",
    "    return dict_return"
   ]
  },
  {
   "cell_type": "code",
   "execution_count": 6,
   "metadata": {
    "collapsed": false,
    "ExecuteTime": {
     "end_time": "2024-05-03T17:00:48.637804Z",
     "start_time": "2024-05-03T17:00:48.625680Z"
    }
   },
   "outputs": [
    {
     "ename": "IndentationError",
     "evalue": "expected an indented block after function definition on line 4 (1487482908.py, line 7)",
     "output_type": "error",
     "traceback": [
      "\u001B[1;36m  Cell \u001B[1;32mIn[6], line 7\u001B[1;36m\u001B[0m\n\u001B[1;33m    cliente_x = ClientWrapped('x')  #Cliente(x)\u001B[0m\n\u001B[1;37m    ^\u001B[0m\n\u001B[1;31mIndentationError\u001B[0m\u001B[1;31m:\u001B[0m expected an indented block after function definition on line 4\n"
     ]
    }
   ],
   "source": [
    "from supply_chain.agents.utils import *\n",
    "\n",
    "\n",
    "def  get_logic_implication () -> list[ImplicationLogicWrapped]:\n",
    "\n",
    "\n",
    "cliente_x = ClientWrapped('x')  #Cliente(x)\n",
    "valoracion_x_bien = Valoracion(\"x\", ValoracionTag.Bien)  #Valoracion_(x,Bien)\n",
    "\n",
    "product_y = ProductWrapped('y')  #Product_(y)\n",
    "\n",
    "\n",
    "\n",
    "pedir_precio_hecho = PedirPrecio('x', 'y', NumberWrapped(1))  #Pedir_precio(x,y,1) persona # # producto factor=1\n",
    "\n",
    "pedir_cant_suplir_hecho = PedirCantidad('x', 'y', NumberWrapped(1))\n",
    "left_part = AndLogicWrapped(\n",
    "    [cliente_x, valoracion_x_bien, product_y])\n",
    "implication_ = ImplicationLogicWrapped(\n",
    "    [left_part], [pedir_precio_hecho]\n",
    ")\n",
    "\n",
    "implication_pedir_cant_suplir = ImplicationLogicWrapped(\n",
    "    [left_part], [pedir_cant_suplir_hecho]\n",
    ")\n",
    "return [implication_, implication_pedir_cant_suplir]\n"
   ]
  },
  {
   "cell_type": "code",
   "outputs": [
    {
     "ename": "NameError",
     "evalue": "name 'ClientWrapped' is not defined",
     "output_type": "error",
     "traceback": [
      "\u001B[1;31m---------------------------------------------------------------------------\u001B[0m",
      "\u001B[1;31mNameError\u001B[0m                                 Traceback (most recent call last)",
      "Cell \u001B[1;32mIn[7], line 1\u001B[0m\n\u001B[1;32m----> 1\u001B[0m cliente_x \u001B[38;5;241m=\u001B[39m \u001B[43mClientWrapped\u001B[49m(\u001B[38;5;124m'\u001B[39m\u001B[38;5;124mx\u001B[39m\u001B[38;5;124m'\u001B[39m)  \u001B[38;5;66;03m#Cliente(x)\u001B[39;00m\n\u001B[0;32m      2\u001B[0m valoracion_x_bien \u001B[38;5;241m=\u001B[39m Valoracion(\u001B[38;5;124m\"\u001B[39m\u001B[38;5;124mx\u001B[39m\u001B[38;5;124m\"\u001B[39m, ValoracionTag\u001B[38;5;241m.\u001B[39mBien)  \u001B[38;5;66;03m#Valoracion_(x,Bien)\u001B[39;00m\n\u001B[0;32m      4\u001B[0m product_y \u001B[38;5;241m=\u001B[39m ProductWrapped(\u001B[38;5;124m'\u001B[39m\u001B[38;5;124my\u001B[39m\u001B[38;5;124m'\u001B[39m)  \u001B[38;5;66;03m#Product_(y)\u001B[39;00m\n",
      "\u001B[1;31mNameError\u001B[0m: name 'ClientWrapped' is not defined"
     ]
    }
   ],
   "source": [
    "    cliente_x = ClientWrapped('x')  #Cliente(x)\n",
    "valoracion_x_bien = Valoracion(\"x\", ValoracionTag.Bien)  #Valoracion_(x,Bien)\n",
    "\n",
    "product_y = ProductWrapped('y')  #Product_(y)\n",
    "\n",
    "\n",
    "\n",
    "pedir_precio_hecho = PedirPrecio('x', 'y', NumberWrapped(1))  #Pedir_precio(x,y,1) persona # # producto factor=1\n",
    "\n",
    "\n",
    "left_part = AndLogicWrapped(\n",
    "    [cliente_x, valoracion_x_bien, product_y])\n",
    "implication_ = ImplicationLogicWrapped(\n",
    "    [left_part], [pedir_precio_hecho]\n",
    ")\n",
    "print(implication_.show())"
   ],
   "metadata": {
    "collapsed": false,
    "ExecuteTime": {
     "end_time": "2024-05-03T17:00:48.749245Z",
     "start_time": "2024-05-03T17:00:48.695934Z"
    }
   },
   "execution_count": 7
  },
  {
   "cell_type": "code",
   "execution_count": 8,
   "metadata": {
    "collapsed": false,
    "ExecuteTime": {
     "end_time": "2024-05-03T17:00:48.950568Z",
     "start_time": "2024-05-03T17:00:48.902965Z"
    }
   },
   "outputs": [
    {
     "ename": "ModuleNotFoundError",
     "evalue": "No module named 'supply_chain.Comunicator'",
     "output_type": "error",
     "traceback": [
      "\u001B[1;31m---------------------------------------------------------------------------\u001B[0m",
      "\u001B[1;31mModuleNotFoundError\u001B[0m                       Traceback (most recent call last)",
      "Cell \u001B[1;32mIn[8], line 1\u001B[0m\n\u001B[1;32m----> 1\u001B[0m \u001B[38;5;28;01mfrom\u001B[39;00m \u001B[38;5;21;01msupply_chain\u001B[39;00m\u001B[38;5;21;01m.\u001B[39;00m\u001B[38;5;21;01mComunicator\u001B[39;00m \u001B[38;5;28;01mimport\u001B[39;00m EnvVisualizer\n\u001B[0;32m      3\u001B[0m env \u001B[38;5;241m=\u001B[39m EnvVisualizer(get_time,\n\u001B[0;32m      4\u001B[0m                     send_msg,\n\u001B[0;32m      5\u001B[0m                     get_dict_valoracion_inicial,\n\u001B[0;32m      6\u001B[0m                     get_logic_implication,\n\u001B[0;32m      7\u001B[0m                     \u001B[38;5;28;01mNone\u001B[39;00m\n\u001B[0;32m      8\u001B[0m                     )\n",
      "\u001B[1;31mModuleNotFoundError\u001B[0m: No module named 'supply_chain.Comunicator'"
     ]
    }
   ],
   "source": [
    "from supply_chain.Comunicator import EnvVisualizer\n",
    "\n",
    "env = EnvVisualizer(get_time,\n",
    "                    send_msg,\n",
    "                    get_dict_valoracion_inicial,\n",
    "                    get_logic_implication,\n",
    "                    None\n",
    "                    )"
   ]
  },
  {
   "cell_type": "code",
   "execution_count": 9,
   "metadata": {
    "collapsed": false,
    "ExecuteTime": {
     "end_time": "2024-05-03T17:00:49.651407Z",
     "start_time": "2024-05-03T17:00:49.014904Z"
    }
   },
   "outputs": [
    {
     "name": "stdout",
     "output_type": "stream",
     "text": [
      "3.14159\n"
     ]
    },
    {
     "ename": "ImportError",
     "evalue": "cannot import name 'make_valoracion' from partially initialized module 'supply_chain.agents.Producer_Agent' (most likely due to a circular import) (C:\\Users\\paco2\\Documents\\GitHub\\AI_SIM-Final-Proyect\\supply_chain\\agents\\Producer_Agent.py)",
     "output_type": "error",
     "traceback": [
      "\u001B[1;31m---------------------------------------------------------------------------\u001B[0m",
      "\u001B[1;31mImportError\u001B[0m                               Traceback (most recent call last)",
      "Cell \u001B[1;32mIn[9], line 1\u001B[0m\n\u001B[1;32m----> 1\u001B[0m \u001B[38;5;28;01mfrom\u001B[39;00m \u001B[38;5;21;01msupply_chain\u001B[39;00m\u001B[38;5;21;01m.\u001B[39;00m\u001B[38;5;21;01magents\u001B[39;00m\u001B[38;5;21;01m.\u001B[39;00m\u001B[38;5;21;01mProducer_Agent\u001B[39;00m \u001B[38;5;28;01mimport\u001B[39;00m ProducerAgent\n\u001B[0;32m      3\u001B[0m agent_producer_1 \u001B[38;5;241m=\u001B[39m ProducerAgent(\u001B[38;5;124m\"\u001B[39m\u001B[38;5;124mEmpresa_1\u001B[39m\u001B[38;5;124m\"\u001B[39m,\n\u001B[0;32m      4\u001B[0m                                  producer_1,\n\u001B[0;32m      5\u001B[0m                                  env\n\u001B[0;32m      6\u001B[0m \n\u001B[0;32m      7\u001B[0m                                  )\n",
      "File \u001B[1;32m~\\Documents\\GitHub\\AI_SIM-Final-Proyect\\supply_chain\\agents\\Producer_Agent.py:1\u001B[0m\n\u001B[1;32m----> 1\u001B[0m \u001B[38;5;28;01mfrom\u001B[39;00m \u001B[38;5;21;01msupply_chain\u001B[39;00m\u001B[38;5;21;01m.\u001B[39;00m\u001B[38;5;21;01magents\u001B[39;00m\u001B[38;5;21;01m.\u001B[39;00m\u001B[38;5;21;01mAgentWrapped\u001B[39;00m \u001B[38;5;28;01mimport\u001B[39;00m \u001B[38;5;241m*\u001B[39m\n\u001B[0;32m      7\u001B[0m \u001B[38;5;28;01mclass\u001B[39;00m \u001B[38;5;21;01mProducerAgent\u001B[39;00m(AgentWrapped):\n\u001B[0;32m      9\u001B[0m     \u001B[38;5;28;01mdef\u001B[39;00m \u001B[38;5;21mupdate_products\u001B[39m(\u001B[38;5;28mself\u001B[39m):\n",
      "File \u001B[1;32m~\\Documents\\GitHub\\AI_SIM-Final-Proyect\\supply_chain\\agents\\AgentWrapped.py:4\u001B[0m\n\u001B[0;32m      2\u001B[0m \u001B[38;5;28;01mfrom\u001B[39;00m \u001B[38;5;21;01msupply_chain\u001B[39;00m\u001B[38;5;21;01m.\u001B[39;00m\u001B[38;5;21;01mMensajes\u001B[39;00m\u001B[38;5;21;01m.\u001B[39;00m\u001B[38;5;21;01mask_msg\u001B[39;00m \u001B[38;5;28;01mimport\u001B[39;00m \u001B[38;5;241m*\u001B[39m\n\u001B[0;32m      3\u001B[0m \u001B[38;5;28;01mfrom\u001B[39;00m \u001B[38;5;21;01msupply_chain\u001B[39;00m\u001B[38;5;21;01m.\u001B[39;00m\u001B[38;5;21;01magent\u001B[39;00m \u001B[38;5;28;01mimport\u001B[39;00m Agent, AgentException\n\u001B[1;32m----> 4\u001B[0m \u001B[38;5;28;01mfrom\u001B[39;00m \u001B[38;5;21;01msupply_chain\u001B[39;00m\u001B[38;5;21;01m.\u001B[39;00m\u001B[38;5;21;01magents\u001B[39;00m\u001B[38;5;21;01m.\u001B[39;00m\u001B[38;5;21;01mProducer_Agent\u001B[39;00m \u001B[38;5;28;01mimport\u001B[39;00m make_valoracion\n\u001B[0;32m      5\u001B[0m \u001B[38;5;28;01mfrom\u001B[39;00m \u001B[38;5;21;01msupply_chain\u001B[39;00m\u001B[38;5;21;01m.\u001B[39;00m\u001B[38;5;21;01magents\u001B[39;00m\u001B[38;5;21;01m.\u001B[39;00m\u001B[38;5;21;01mSistema_experto\u001B[39;00m \u001B[38;5;28;01mimport\u001B[39;00m SistExperto\n\u001B[0;32m      6\u001B[0m \u001B[38;5;28;01mfrom\u001B[39;00m \u001B[38;5;21;01msupply_chain\u001B[39;00m\u001B[38;5;21;01m.\u001B[39;00m\u001B[38;5;21;01magents\u001B[39;00m\u001B[38;5;21;01m.\u001B[39;00m\u001B[38;5;21;01menviroment_visulizer\u001B[39;00m \u001B[38;5;28;01mimport\u001B[39;00m EnvVisualizer\n",
      "\u001B[1;31mImportError\u001B[0m: cannot import name 'make_valoracion' from partially initialized module 'supply_chain.agents.Producer_Agent' (most likely due to a circular import) (C:\\Users\\paco2\\Documents\\GitHub\\AI_SIM-Final-Proyect\\supply_chain\\agents\\Producer_Agent.py)"
     ]
    }
   ],
   "source": [
    "from supply_chain.agents.Producer_Agent import ProducerAgent\n",
    "\n",
    "agent_producer_1 = ProducerAgent(\"Empresa_1\",\n",
    "                                 producer_1,\n",
    "                                 env\n",
    "\n",
    "                                 )"
   ]
  },
  {
   "cell_type": "code",
   "execution_count": null,
   "metadata": {
    "collapsed": false,
    "ExecuteTime": {
     "start_time": "2024-05-03T17:00:49.655424Z"
    }
   },
   "outputs": [],
   "source": [
    "from supply_chain.Comunicator import MessageWantProductOffer\n",
    "\n",
    "ask_pizza_to_producto_1 = MessageWantProductOffer(\n",
    "    company_from=\"MAtrix_1\",\n",
    "    company_from_type=TypeCompany.Matrix,\n",
    "    company_destination_name=producer_1.name,\n",
    "    company_destination_type=producer_1.tag,\n",
    "    product_want_name=products_names[0]\n",
    "\n",
    ")"
   ]
  },
  {
   "cell_type": "code",
   "execution_count": null,
   "metadata": {
    "collapsed": false,
    "ExecuteTime": {
     "start_time": "2024-05-03T17:00:49.657422Z"
    }
   },
   "outputs": [],
   "source": [
    "agent_producer_1.recive_msg(ask_pizza_to_producto_1)"
   ]
  },
  {
   "cell_type": "code",
   "outputs": [],
   "source": [
    "from supply_chain.agents.new.Testeo.planificar import *"
   ],
   "metadata": {
    "collapsed": false,
    "ExecuteTime": {
     "start_time": "2024-05-03T17:00:49.659422Z"
    }
   },
   "execution_count": null
  },
  {
   "cell_type": "code",
   "outputs": [],
   "source": [
    "print(example())"
   ],
   "metadata": {
    "collapsed": false,
    "ExecuteTime": {
     "start_time": "2024-05-03T17:00:49.662422Z"
    }
   },
   "execution_count": null
  },
  {
   "cell_type": "code",
   "outputs": [],
   "source": [],
   "metadata": {
    "collapsed": false
   }
  }
 ],
 "metadata": {
  "kernelspec": {
   "display_name": "Python 3 (ipykernel)",
   "language": "python",
   "name": "python3"
  },
  "language_info": {
   "codemirror_mode": {
    "name": "ipython",
    "version": 3
   },
   "file_extension": ".py",
   "mimetype": "text/x-python",
   "name": "python",
   "nbconvert_exporter": "python",
   "pygments_lexer": "ipython3",
   "version": "3.12.2"
  }
 },
 "nbformat": 4,
 "nbformat_minor": 4
}
