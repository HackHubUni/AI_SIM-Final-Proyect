{
 "cells": [
  {
   "cell_type": "markdown",
   "metadata": {},
   "source": [
    "# Como buscar en el mapa de la simulación\n",
    "\n",
    "Este corto notebook explica como buscar en el mapa de la simulación"
   ]
  },
  {
   "cell_type": "markdown",
   "metadata": {},
   "source": [
    "### Creando el mapa\n",
    "\n",
    "Ahora creemos un nuevo mapa. Pero antes de esto debemos crear un nuevo conjunto de puntos. Para esto usaremos la clase ``"
   ]
  },
  {
   "cell_type": "code",
   "execution_count": 9,
   "metadata": {
    "ExecuteTime": {
     "end_time": "2024-05-09T14:06:56.326316Z",
     "start_time": "2024-05-09T13:45:00.265693Z"
    }
   },
   "source": [
    "from supply_chain.products.specific_products.base_products.pizza_base_products import PizzaDough\n",
    "from utils.points_generators import poisson_disc_sampling\n",
    "import matplotlib.pyplot as plt\n",
    "import random as rnd\n",
    "\n",
    "points = poisson_disc_sampling(5000 , (0, 0), (5000, 5000), 20, 20)\n",
    "plt.scatter([p[0] for p in points], [p[1] for p in points])\n",
    "print(len(points))\n",
    "\n"
   ],
   "outputs": [
    {
     "name": "stdout",
     "output_type": "stream",
     "text": [
      "5000\n"
     ]
    },
    {
     "data": {
      "text/plain": "<Figure size 640x480 with 1 Axes>",
      "image/png": "[encoded data removed]"
     },
     "metadata": {},
     "output_type": "display_data"
    }
   ]
  },
  {
   "cell_type": "code",
   "execution_count": 16,
   "metadata": {
    "ExecuteTime": {
     "end_time": "2024-05-05T21:22:11.112046Z",
     "start_time": "2024-05-05T21:22:11.103518Z"
    }
   },
   "source": [
    "def plot_map(\n",
    "        points: tuple[float, float],\n",
    "        connections: list[tuple[tuple[float, float], tuple[float, float]]],\n",
    "        path: tuple[list[float], list[float]] = None,\n",
    "):\n",
    "    plt.scatter([p[0] for p in points], [p[1] for p in points])\n",
    "    for p1, p2 in connections:\n",
    "        plt.plot([p1[0], p2[0]], [p1[1], p2[1]], color=\"grey\")\n",
    "    if path is not None:\n",
    "        plt.plot(path[0], path[1], color=\"green\")\n",
    "    plt.xlabel(\"X-axis\")\n",
    "    plt.ylabel(\"Y-axis\")\n",
    "    plt.title(\"Plot of Points and Connections\")\n",
    "    plt.grid(True)\n",
    "    plt.show()"
   ],
   "outputs": []
  },
  {
   "cell_type": "code",
   "execution_count": 17,
   "metadata": {
    "ExecuteTime": {
     "end_time": "2024-05-05T21:22:11.790128Z",
     "start_time": "2024-05-05T21:22:11.114803Z"
    }
   },
   "source": [
    "from sim_map import SimMap, MapNode\n",
    "\n",
    "# Now let's create some connections\n",
    "\n",
    "number_of_connections = 50\n",
    "connections: list[tuple[tuple[float, float], tuple[float, float]]] = []\n",
    "\n",
    "simulation_map: SimMap = SimMap()\n",
    "\n",
    "for _ in range(number_of_connections):\n",
    "    p1, p2 = rnd.sample(points, 2)\n",
    "    connections.append((p1, p2))\n",
    "    simulation_map.add_bidirectional_connection_with_random_distance(p1, p2, 50, True)\n",
    "\n",
    "plot_map(points, connections, None)\n"
   ],
   "outputs": []
  },
  {
   "cell_type": "markdown",
   "metadata": {},
   "source": [
    "## Buscando en el mapa\n",
    "\n",
    "Ahora que tenemos un mapa creado solo hace falta buscar en este"
   ]
  },
  {
   "cell_type": "code",
   "execution_count": 18,
   "metadata": {
    "ExecuteTime": {
     "end_time": "2024-05-05T21:22:12.190635Z",
     "start_time": "2024-05-05T21:22:11.794011Z"
    }
   },
   "source": [
    "from map_search_problem import MapSearchProblem\n",
    "from sim_ai.search_problem.search_algorithms import *\n",
    "from utils.utility_functions import distance_between_points\n",
    "\n",
    "\n",
    "def map_heuristic(\n",
    "        actual_position: tuple[float, float], final_position: tuple[float, float]\n",
    ") -> float:\n",
    "    return distance_between_points(actual_position, final_position)\n",
    "\n",
    "\n",
    "def path(node: SearchNode) -> tuple[list[float], list[float]]:\n",
    "    result = node.get_path()\n",
    "    x_coordinates = [p[0] for p in result]\n",
    "    y_coordinates = [p[1] for p in result]\n",
    "    return (x_coordinates, y_coordinates)\n",
    "\n",
    "\n",
    "initial_position, final_position = rnd.sample(points, 2)\n",
    "\n",
    "map_problem = MapSearchProblem(\n",
    "    initial_position=initial_position,\n",
    "    final_position=final_position,\n",
    "    city_map=simulation_map,\n",
    ")\n",
    "found, final_node = a_star_search(\n",
    "    map_problem, lambda node: map_heuristic(node.state, final_position)\n",
    ")\n",
    "\n",
    "if found:\n",
    "    print(f\"A path was found\")\n",
    "    original_path = final_node.get_path()\n",
    "    for state in original_path:\n",
    "        print(state)\n",
    "    plot_map(points, connections, path(final_node))\n",
    "    print(f\"The distance is {final_node.path_cost:2f}\")\n",
    "    # plt.show()\n",
    "else:\n",
    "    print(\"A path was not found\")"
   ],
   "outputs": []
  },
  {
   "cell_type": "markdown",
   "metadata": {},
   "source": [
    "## Como entran las empresas en este mapa\n",
    "\n",
    "Simple, el mapa es un mapa de puntos y las empresas tienen una propiedad llamada `position_in_map` que dice en que punto del mapa se encuentran.\n",
    "Para que el **Agente Logístico** diga un precio por su transportación, primero debe computar la distancia entre el punto de salida y el punto de llegada usando la búsqueda anteriormente implementada, luego decide el precio y el tiempo que se demorará en llegar en base a la distancia y la cantidad de unidades a transportar.\n",
    "> Nota: El tiempo de llegada del transportista es dependiendo de la velocidad de su equipo de transportación. Cada transportista tiene una propiedad que dice su velocidad. Pero el tiempo de llegada real depende de una variable aleatoria que dice como se comporta su retraso."
   ]
  },
  {
   "cell_type": "code",
   "execution_count": 19,
   "metadata": {
    "collapsed": false,
    "ExecuteTime": {
     "end_time": "2024-05-05T21:22:12.200117Z",
     "start_time": "2024-05-05T21:22:12.193137Z"
    }
   },
   "source": [
    "from supply_chain.sim_environment import SimEnvironment\n"
   ],
   "outputs": []
  },
  {
   "cell_type": "code",
   "execution_count": 20,
   "metadata": {
    "collapsed": false,
    "ExecuteTime": {
     "end_time": "2024-05-05T21:22:12.287497Z",
     "start_time": "2024-05-05T21:22:12.204209Z"
    }
   },
   "source": [
    "from supply_chain.simulation import SupplyChainSimulator"
   ],
   "outputs": []
  },
  {
   "cell_type": "code",
   "execution_count": 21,
   "metadata": {
    "collapsed": false,
    "ExecuteTime": {
     "end_time": "2024-05-05T21:22:12.296420Z",
     "start_time": "2024-05-05T21:22:12.290858Z"
    }
   },
   "source": [
    "\n",
    "environment = SimEnvironment(simulation_map)\n",
    "\n",
    "simulator = SupplyChainSimulator(environment, 60 * 60 * 24 * 7)\n"
   ],
   "outputs": []
  },
  {
   "cell_type": "markdown",
   "metadata": {
    "collapsed": false
   },
   "source": [
    "Lambda para dar el tiempo"
   ]
  },
  {
   "cell_type": "code",
   "execution_count": 22,
   "metadata": {
    "collapsed": false,
    "ExecuteTime": {
     "end_time": "2024-05-05T21:22:12.305287Z",
     "start_time": "2024-05-05T21:22:12.299602Z"
    }
   },
   "source": [
    "get_time = environment.get_time"
   ],
   "outputs": []
  },
  {
   "cell_type": "code",
   "execution_count": 23,
   "metadata": {
    "collapsed": false,
    "ExecuteTime": {
     "end_time": "2024-05-05T21:22:12.314456Z",
     "start_time": "2024-05-05T21:22:12.307979Z"
    }
   },
   "source": [
    "add_event = simulator.add_event"
   ],
   "outputs": []
  },
  {
   "cell_type": "markdown",
   "metadata": {
    "collapsed": false
   },
   "source": [
    "Lambda para enviar mensaje"
   ]
  },
  {
   "cell_type": "code",
   "execution_count": 24,
   "metadata": {
    "collapsed": false,
    "ExecuteTime": {
     "end_time": "2024-05-05T21:22:12.324769Z",
     "start_time": "2024-05-05T21:22:12.318998Z"
    }
   },
   "source": [
    "send_msg = environment.send_message"
   ],
   "outputs": []
  },
  {
   "cell_type": "markdown",
   "metadata": {},
   "source": [
    "## Creación de las empresas de la compañía\n",
    "\n",
    "Creemos entonces algunas compañías para la simulación\n"
   ]
  },
  {
   "cell_type": "markdown",
   "metadata": {
    "collapsed": false
   },
   "source": [
    "Crear el stock manager"
   ]
  },
  {
   "cell_type": "code",
   "execution_count": 25,
   "metadata": {
    "collapsed": false,
    "ExecuteTime": {
     "end_time": "2024-05-05T21:22:12.368032Z",
     "start_time": "2024-05-05T21:22:12.360742Z"
    }
   },
   "source": [
    "from supply_chain.Company.stock_manager.productor_stock_manager import *"
   ],
   "outputs": []
  },
  {
   "cell_type": "code",
   "execution_count": 26,
   "metadata": {
    "collapsed": false,
    "ExecuteTime": {
     "end_time": "2024-05-05T21:22:12.728537Z",
     "start_time": "2024-05-05T21:22:12.721855Z"
    }
   },
   "source": [
    "def create_product(count=1):\n",
    "    lis = []\n",
    "    for _ in range(0, count):\n",
    "        lis.append(PizzaDough(10))\n",
    "\n",
    "    return lis\n",
    "\n",
    "\n",
    "\n"
   ],
   "outputs": []
  },
  {
   "cell_type": "code",
   "execution_count": 27,
   "metadata": {
    "collapsed": false,
    "ExecuteTime": {
     "end_time": "2024-05-05T21:22:12.901750Z",
     "start_time": "2024-05-05T21:22:12.896143Z"
    }
   },
   "source": [
    "products_names = [\"Pizza\"]\n",
    "create_product_lambda = {}\n",
    "create_product_lambda[products_names[0]] = create_product"
   ],
   "outputs": []
  },
  {
   "cell_type": "code",
   "execution_count": 28,
   "metadata": {
    "ExecuteTime": {
     "end_time": "2024-05-05T21:22:13.284224Z",
     "start_time": "2024-05-05T21:22:12.969383Z"
    }
   },
   "source": [
    "from supply_chain.Building.build_stock_manager import BuildProductorStockManager\n",
    "from supply_chain.Company.companies_types.Producer_Company import *\n",
    "\n",
    "stock_manager_1 = BuildProductorStockManager(add_event=add_event,\n",
    "                                             get_time=get_time,\n",
    "                                             create_product_lambda=create_product_lambda,\n",
    "                                             list_products_can_sell_name=products_names\n",
    "                                             ).create_ProductorStockManager()\n",
    "\n"
   ],
   "outputs": []
  },
  {
   "cell_type": "code",
   "execution_count": null,
   "metadata": {
    "collapsed": false
   },
   "source": [
    "from supply_chain.Company.stock_manager import stock_manager\n",
    "\n",
    "producer_1 = ProducerCompany(\"Empresa_1\", get_time, add_event, stock_manager_1)\n",
    "producer_1.start()"
   ],
   "outputs": []
  },
  {
   "cell_type": "markdown",
   "metadata": {
    "collapsed": false
   },
   "source": [
    "# Crear el visualizador para el agente"
   ]
  },
  {
   "cell_type": "markdown",
   "metadata": {
    "collapsed": false
   },
   "source": [
    "## Crear los hechos del inferenciador"
   ]
  },
  {
   "cell_type": "code",
   "execution_count": null,
   "metadata": {
    "collapsed": false
   },
   "source": [
    "def get_dict_valoracion_inicial() -> dict[TypeCompany, dict[str, float]]:\n",
    "    dict_return = {}\n",
    "    dict_2 = {\"MAtrix_1\": 7}\n",
    "    dict_return[TypeCompany.Matrix] = dict_2\n",
    "    return dict_return"
   ],
   "outputs": []
  },
  {
   "cell_type": "code",
   "execution_count": null,
   "metadata": {
    "collapsed": false
   },
   "source": [
    "from supply_chain.agents.utils import *\n",
    "\n",
    "\n",
    "def  get_logic_implication () -> list[ImplicationLogicWrapped]:\n",
    "\n",
    "    cliente_x = ClientWrapped('x')  #Cliente(x)\n",
    "    valoracion_x_bien = Valoracion(\"x\", ValoracionTag.Bien)  #Valoracion_(x,Bien)\n",
    "    \n",
    "    product_y = ProductWrapped('y')  #Product_(y)\n",
    "    \n",
    "    \n",
    "    \n",
    "    pedir_precio_hecho = PedirPrecio('x', 'y', NumberWrapped(1))  #Pedir_precio(x,y,1) persona # # producto factor=1\n",
    "    \n",
    "    pedir_cant_suplir_hecho = PedirCantidad('x', 'y', NumberWrapped(1))\n",
    "    left_part = AndLogicWrapped(\n",
    "        [cliente_x, valoracion_x_bien, product_y])\n",
    "    implication_ = ImplicationLogicWrapped(\n",
    "        [left_part], [pedir_precio_hecho]\n",
    "    )\n",
    "    \n",
    "    implication_pedir_cant_suplir = ImplicationLogicWrapped(\n",
    "        [left_part], [pedir_cant_suplir_hecho]\n",
    "    )\n",
    "    return [implication_, implication_pedir_cant_suplir]\n",
    "    "
   ],
   "outputs": []
  },
  {
   "cell_type": "code",
   "source": [
    "from supply_chain.agents.utils import *\n",
    "cliente_x = ClientWrapped('x')  #Cliente(x)\n",
    "valoracion_x_bien = Valoracion(\"x\", ValoracionTag.Bien)  #Valoracion_(x,Bien)\n",
    "\n",
    "product_y = ProductWrapped('y')  #Product_(y)\n",
    "\n",
    "\n",
    "\n",
    "pedir_precio_hecho = PedirPrecio('x', 'y', NumberWrapped(1))  #Pedir_precio(x,y,1) persona # # producto factor=1\n",
    "\n",
    "\n",
    "left_part = AndLogicWrapped(\n",
    "    [cliente_x, valoracion_x_bien, product_y])\n",
    "implication_ = ImplicationLogicWrapped(\n",
    "    [left_part], [pedir_precio_hecho]\n",
    ")\n",
    "print(implication_.show())"
   ],
   "metadata": {
    "collapsed": false,
    "ExecuteTime": {
     "end_time": "2024-05-05T21:23:28.844594Z",
     "start_time": "2024-05-05T21:23:28.835475Z"
    }
   },
   "execution_count": 34,
   "outputs": []
  },
  {
   "cell_type": "code",
   "execution_count": 35,
   "metadata": {
    "collapsed": false,
    "ExecuteTime": {
     "end_time": "2024-05-05T21:23:34.366109Z",
     "start_time": "2024-05-05T21:23:34.337952Z"
    }
   },
   "source": [
    "from supply_chain.agents.enviroment_visulizer import EnvVisualizer\n",
    "\n",
    "env = EnvVisualizer(get_time,\n",
    "                    send_msg,\n",
    "                    get_dict_valoracion_inicial,\n",
    "                    get_logic_implication,\n",
    "                    None\n",
    "                    )"
   ],
   "outputs": []
  },
  {
   "cell_type": "code",
   "execution_count": null,
   "metadata": {
    "collapsed": false,
    "ExecuteTime": {
     "start_time": "2024-05-05T21:22:13.547329Z"
    }
   },
   "source": [
    "from supply_chain.agents.Producer_Agent import ProducerAgent\n",
    "\n",
    "agent_producer_1 = ProducerAgent(\"Empresa_1\",\n",
    "                                 producer_1,\n",
    "                                 env\n",
    "\n",
    "                                 )"
   ],
   "outputs": []
  },
  {
   "cell_type": "code",
   "execution_count": 31,
   "metadata": {
    "collapsed": false,
    "ExecuteTime": {
     "end_time": "2024-05-05T21:22:13.742283Z",
     "start_time": "2024-05-05T21:22:13.675677Z"
    }
   },
   "source": [
    "from supply_chain.Mensajes.ask_msg import MessageWantProductOffer\n",
    "\n",
    "ask_pizza_to_producto_1 = MessageWantProductOffer(\n",
    "    company_from=\"MAtrix_1\",\n",
    "    company_from_type=TypeCompany.Matrix,\n",
    "    company_destination_name=producer_1.name,\n",
    "    company_destination_type=producer_1.tag,\n",
    "    product_want_name=products_names[0]\n",
    "\n",
    ")"
   ],
   "outputs": []
  },
  {
   "cell_type": "code",
   "execution_count": 32,
   "metadata": {
    "collapsed": false,
    "ExecuteTime": {
     "end_time": "2024-05-05T21:22:13.790022Z",
     "start_time": "2024-05-05T21:22:13.752297Z"
    }
   },
   "source": [
    "agent_producer_1.recive_msg(ask_pizza_to_producto_1)"
   ],
   "outputs": []
  },
  {
   "cell_type": "code",
   "source": [],
   "metadata": {
    "collapsed": false,
    "ExecuteTime": {
     "end_time": "2024-05-05T21:22:13.936514Z",
     "start_time": "2024-05-05T21:22:13.932985Z"
    }
   },
   "execution_count": 32,
   "outputs": []
  },
  {
   "cell_type": "code",
   "source": [],
   "metadata": {
    "collapsed": false,
    "ExecuteTime": {
     "end_time": "2024-05-05T21:22:14.076353Z",
     "start_time": "2024-05-05T21:22:14.072369Z"
    }
   },
   "execution_count": 32,
   "outputs": []
  },
  {
   "cell_type": "code",
   "source": [],
   "metadata": {
    "collapsed": false,
    "ExecuteTime": {
     "end_time": "2024-05-05T21:22:14.175950Z",
     "start_time": "2024-05-05T21:22:14.171896Z"
    }
   },
   "execution_count": 32,
   "outputs": []
  }
 ],
 "metadata": {
  "kernelspec": {
   "display_name": "Python 3 (ipykernel)",
   "language": "python",
   "name": "python3"
  },
  "language_info": {
   "codemirror_mode": {
    "name": "ipython",
    "version": 3
   },
   "file_extension": ".py",
   "mimetype": "text/x-python",
   "name": "python",
   "nbconvert_exporter": "python",
   "pygments_lexer": "ipython3",
   "version": "3.12.2"
  }
 },
 "nbformat": 4,
 "nbformat_minor": 4
}
