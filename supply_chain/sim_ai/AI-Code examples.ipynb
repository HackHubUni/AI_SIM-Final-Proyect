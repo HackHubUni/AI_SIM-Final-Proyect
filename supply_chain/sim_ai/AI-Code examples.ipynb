{
 "cells": [
  {
   "cell_type": "markdown",
   "metadata": {},
   "source": [
    "# Ejemplos de como usar la API de inteligencia artificial creada\n",
    "\n",
    "La api actualmente comprende 2 grandes módulos:\n",
    "- `search_problem`: Este modulo contiene código para resolver problemas de búsqueda.\n",
    "- `metaheuristics`: Este modulo contiene implementaciones de distintas metaheurísticas para resolver problemas complejos de búsqueda donde se está casi a ciegas."
   ]
  },
  {
   "cell_type": "markdown",
   "metadata": {},
   "source": [
    "## Modulo de búsqueda\n",
    "\n"
   ]
  },
  {
   "cell_type": "code",
   "execution_count": 2,
   "metadata": {},
   "outputs": [],
   "source": [
    "from search_problem.problem import SearchProblem\n",
    "from search_problem.search_node import SearchNode\n",
    "from search_problem.search_algorithms import a_star_search, breadth_first_search\n",
    "\n",
    "\n",
    "def hamming_distance(A, B):\n",
    "    \"Number of positions where vectors A and B are different.\"\n",
    "    return sum(a != b for a, b in zip(A, B))"
   ]
  },
  {
   "cell_type": "code",
   "execution_count": 3,
   "metadata": {},
   "outputs": [],
   "source": [
    "class JumpingPuzzle(SearchProblem):\n",
    "    \"\"\"Try to exchange L and R by moving one ahead or hopping two ahead.\"\"\"\n",
    "\n",
    "    def __init__(self, N=2):\n",
    "        # self.initial = N * \"L\" + \".\" + N * \"R\"\n",
    "        super().__init__(N * \"L\" + \".\" + N * \"R\")\n",
    "        self.goal = self.initial_state[::-1]\n",
    "\n",
    "    def get_actions(self, state):\n",
    "        # \"\"\"Find all possible move or hop moves.\"\"\"\n",
    "        idxs = range(len(state))\n",
    "        return (\n",
    "            {(i, i + 1) for i in idxs if state[i : i + 2] == \"L.\"}  # Slide\n",
    "            | {(i, i + 2) for i in idxs if state[i : i + 3] == \"LR.\"}  # Hop\n",
    "            | {(i + 1, i) for i in idxs if state[i : i + 2] == \".R\"}  # Slide\n",
    "            | {(i + 2, i) for i in idxs if state[i : i + 3] == \".LR\"}\n",
    "        )  # Hop\n",
    "\n",
    "    def apply_action(self, state, action):\n",
    "        \"\"\"An action (i, j) means swap the pieces at positions i and j.\"\"\"\n",
    "        i, j = action\n",
    "        result = list(state)\n",
    "        result[i], result[j] = state[j], state[i]\n",
    "        return \"\".join(result)\n",
    "\n",
    "    def is_final(self, state) -> bool:\n",
    "        return state == self.goal\n",
    "\n",
    "    def h(self, node):\n",
    "        return hamming_distance(node.state, self.goal)"
   ]
  },
  {
   "cell_type": "code",
   "execution_count": 4,
   "metadata": {},
   "outputs": [
    {
     "name": "stdout",
     "output_type": "stream",
     "text": [
      "The solution was found\n",
      "LLL.RRR\n",
      "LLLR.RR\n",
      "LL.RLRR\n",
      "L.LRLRR\n",
      "LRL.LRR\n",
      "LRLRL.R\n",
      "LRLRLR.\n",
      "LRLR.RL\n",
      "LR.RLRL\n",
      ".RLRLRL\n",
      "R.LRLRL\n",
      "RRL.LRL\n",
      "RRLRL.L\n",
      "RRLR.LL\n",
      "RR.RLLL\n",
      "RRR.LLL\n",
      "The cost of the path was 15\n"
     ]
    }
   ],
   "source": [
    "j3 = JumpingPuzzle(N=3)\n",
    "j9 = JumpingPuzzle(N=9)\n",
    "# path_states(astar_search(j3))\n",
    "solution, node = a_star_search(j3, j3.h)\n",
    "# solution, node = breadth_first_search(j3)\n",
    "if solution:\n",
    "    print(\"The solution was found\")\n",
    "    path = node.get_path()\n",
    "    for state in path:\n",
    "        print(state)\n",
    "    print(f\"The cost of the path was {node.path_cost}\")\n",
    "else:\n",
    "    print(\"Solution not found\")"
   ]
  }
 ],
 "metadata": {
  "kernelspec": {
   "display_name": ".py_environment",
   "language": "python",
   "name": "python3"
  },
  "language_info": {
   "codemirror_mode": {
    "name": "ipython",
    "version": 3
   },
   "file_extension": ".py",
   "mimetype": "text/x-python",
   "name": "python",
   "nbconvert_exporter": "python",
   "pygments_lexer": "ipython3",
   "version": "3.12.2"
  }
 },
 "nbformat": 4,
 "nbformat_minor": 2
}
