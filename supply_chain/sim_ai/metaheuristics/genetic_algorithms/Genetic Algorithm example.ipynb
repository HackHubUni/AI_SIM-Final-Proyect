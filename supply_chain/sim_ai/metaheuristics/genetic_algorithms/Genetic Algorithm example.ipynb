{
 "cells": [
  {
   "cell_type": "markdown",
   "metadata": {},
   "source": [
    "# Genetic Algorithms\n",
    "\n",
    "Aquí estará la implementación de los algoritmos genéticos"
   ]
  },
  {
   "cell_type": "markdown",
   "metadata": {},
   "source": [
    "## Genes"
   ]
  },
  {
   "cell_type": "code",
   "execution_count": 46,
   "metadata": {},
   "outputs": [],
   "source": [
    "gene_set = \" abcdefghijklmnopqrstuvwxyzABCDEFGHIJKLMNOPQRSTUVWXYZ?!.\"\n",
    "target = \"Hello World!\"\n",
    "target = \"Que tan veloz encontraras este texto?!\""
   ]
  },
  {
   "cell_type": "markdown",
   "metadata": {},
   "source": [
    "## Generate a Guess"
   ]
  },
  {
   "cell_type": "code",
   "execution_count": 47,
   "metadata": {},
   "outputs": [
    {
     "name": "stdout",
     "output_type": "stream",
     "text": [
      "['element3', 'element2']\n"
     ]
    }
   ],
   "source": [
    "import random\n",
    "\n",
    "\n",
    "def generate_parent(length):\n",
    "    genes = []\n",
    "    while len(genes) < length:\n",
    "        sample_size = min(length - len(genes), len(gene_set))\n",
    "        genes.extend(random.sample(gene_set, sample_size))\n",
    "    return \"\".join(genes)\n",
    "\n",
    "\n",
    "elements = [\n",
    "    \"element1\",\n",
    "    \"element2\",\n",
    "    \"element3\",\n",
    "    \"element4\",\n",
    "    \"element5\",\n",
    "    \"element6\",\n",
    "    \"element7\",\n",
    "]\n",
    "# values = [0.1, 0.5, 0.8, 0.3, 0.6, 0.4, 0.7]\n",
    "values = [10, 50, 80, 30, 60, 40, 70]\n",
    "\n",
    "sampled_elements = random.choices(elements, weights=values, k=2)\n",
    "print(sampled_elements)"
   ]
  },
  {
   "cell_type": "markdown",
   "metadata": {},
   "source": [
    "## Fitness\n"
   ]
  },
  {
   "cell_type": "code",
   "execution_count": 48,
   "metadata": {},
   "outputs": [],
   "source": [
    "def get_fitness(guess):\n",
    "    return sum(1 for expected, actual in zip(target, guess) if expected == actual)"
   ]
  },
  {
   "cell_type": "markdown",
   "metadata": {},
   "source": [
    "## Mutate\n"
   ]
  },
  {
   "cell_type": "code",
   "execution_count": 49,
   "metadata": {},
   "outputs": [],
   "source": [
    "def mutate(parent):\n",
    "    index = random.randrange(0, len(parent))\n",
    "    child_genes = list(parent)\n",
    "    new_gene, alternate = random.sample(gene_set, 2)\n",
    "    child_genes[index] = alternate if new_gene == child_genes[index] else new_gene\n",
    "    return ''.join(child_genes)"
   ]
  },
  {
   "cell_type": "markdown",
   "metadata": {},
   "source": [
    "## Display"
   ]
  },
  {
   "cell_type": "code",
   "execution_count": 50,
   "metadata": {},
   "outputs": [],
   "source": [
    "import datetime\n",
    "\n",
    "def display(guess, start_time):\n",
    "    timeDiff = datetime.datetime.now() - start_time\n",
    "    fitness = get_fitness(guess)\n",
    "    print(\"{0}\\t{1}\\t{2}\".format(guess, fitness, str(timeDiff)))"
   ]
  },
  {
   "cell_type": "markdown",
   "metadata": {},
   "source": [
    "## Main\n"
   ]
  },
  {
   "cell_type": "code",
   "execution_count": 51,
   "metadata": {},
   "outputs": [
    {
     "name": "stdout",
     "output_type": "stream",
     "text": [
      "RiDSYZpInkWQ.c ?fJPGTrgEvNtodVzsaLhHXu\t0\t0:00:00.000141\n"
     ]
    }
   ],
   "source": [
    "random.seed()\n",
    "start_time = datetime.datetime.now()\n",
    "best_parent = generate_parent(len(target))\n",
    "best_fitness = get_fitness(best_parent)\n",
    "display(best_parent, start_time)"
   ]
  },
  {
   "cell_type": "code",
   "execution_count": 52,
   "metadata": {},
   "outputs": [
    {
     "name": "stdout",
     "output_type": "stream",
     "text": [
      "RiDSYZpInkWQ.c nfJPGTrgEvNtodVzsaLhHXu\t1\t0:00:00.010657\n",
      "RiDSYZpIneWQ.c nfJPGTrgEvNtodVzsaLhHXu\t2\t0:00:00.011801\n",
      "RiDSYZpIneWQ.c nfJPGTrgEvNtodV saLhHXu\t3\t0:00:00.011956\n",
      "RiDSYZpIneWQ.c nfJPGTrgEsNtodV saLhHXu\t4\t0:00:00.012365\n",
      "RiDSYZpInelQ.c nfJPGTrgEsNtodV saLhHXu\t5\t0:00:00.012822\n",
      "RiDSYZpInelQ.c nfJPGTrrEsNtodV saLhHXu\t6\t0:00:00.013580\n",
      "RiDSYZpInelQ.c nfJPGTrrEsNtodV saxhHXu\t7\t0:00:00.014019\n",
      "RiDSYZpInelQ.c nfJPGTrrEsNtodV saxhHX!\t8\t0:00:00.015310\n",
      "RiDSYZp nelQ.c nfJPGTrrEsNtodV saxhHX!\t9\t0:00:00.015793\n",
      "RiDSYZp nelQ.c nfJPGTrrEsNeodV saxhHX!\t10\t0:00:00.015826\n",
      "RiDSYZp nelQ.c nfJPGTrrEsNeodV sexhHX!\t11\t0:00:00.016319\n",
      "RiDSYZp nelQ.c nfJPtTrrEsNeodV sexhHX!\t12\t0:00:00.017134\n",
      "RiDSYZp nelQ.c nfJPtTrrEsNeodV sextHX!\t13\t0:00:00.017729\n",
      "QiDSYZp nelQ.c nfJPtTrrEsNeodV sextHX!\t14\t0:00:00.018071\n",
      "QiD YZp nelQ.c nfJPtTrrEsNeodV sextHX!\t15\t0:00:00.018186\n",
      "QiD tZp nelQ.c nfJPtTrrEsNeodV sextHX!\t16\t0:00:00.021870\n",
      "QiD tZp nelQ.c nfJPtrrrEsNeodV sextHX!\t17\t0:00:00.022351\n",
      "QiD tZp nelQ.c nfJPtrrrEsNeodV textHX!\t18\t0:00:00.023353\n",
      "QiD tZp nelQ.c nfJntrrrEsNeodV textHX!\t19\t0:00:00.023975\n",
      "QiD tZn nelQ.c nfJntrrrEsNeodV textHX!\t20\t0:00:00.026010\n",
      "QiD tZn nelQ.  nfJntrrrEsNeodV textHX!\t21\t0:00:00.026257\n",
      "Qie tZn nelQ.  nfJntrrrEsNeodV textHX!\t22\t0:00:00.028937\n",
      "Qie tZn velQ.  nfJntrrrEsNeodV textHX!\t23\t0:00:00.029341\n",
      "Qie tZn velQ.  ncJntrrrEsNeodV textHX!\t24\t0:00:00.029941\n",
      "Qie tZn velQ.  ncJntrrrEsNesdV textHX!\t25\t0:00:00.030950\n",
      "Qie tZn velQ.  ncJntrrrEsNestV textHX!\t26\t0:00:00.032583\n",
      "Qie tZn velQ.  ncJntrarEsNestV textHX!\t27\t0:00:00.033507\n",
      "Que tZn velQ.  ncJntrarEsNestV textHX!\t28\t0:00:00.034000\n",
      "Que tZn velQ.  ncontrarEsNestV textHX!\t29\t0:00:00.036367\n",
      "Que tZn velQ.  ncontrarasNestV textHX!\t30\t0:00:00.037782\n",
      "Que tan velQ.  ncontrarasNestV textHX!\t31\t0:00:00.042248\n",
      "Que tan velQz  ncontrarasNestV textHX!\t32\t0:00:00.042373\n",
      "Que tan velQz encontrarasNestV textHX!\t33\t0:00:00.044844\n",
      "Que tan velQz encontrarasNeste textHX!\t34\t0:00:00.053485\n",
      "Que tan veloz encontrarasNeste textHX!\t35\t0:00:00.054911\n",
      "Que tan veloz encontrarasNeste textH?!\t36\t0:00:00.065711\n",
      "Que tan veloz encontrarasNeste texto?!\t37\t0:00:00.065988\n",
      "Que tan veloz encontraras este texto?!\t38\t0:00:00.100237\n"
     ]
    }
   ],
   "source": [
    "while True:\n",
    "    child = mutate(best_parent)\n",
    "    child_fitness = get_fitness(child)\n",
    "    if best_fitness >= child_fitness:\n",
    "        continue\n",
    "    display(child, start_time)\n",
    "    if child_fitness >= len(best_parent):\n",
    "        break\n",
    "    best_fitness = child_fitness\n",
    "    best_parent = child"
   ]
  },
  {
   "cell_type": "markdown",
   "metadata": {},
   "source": [
    "## Implementación en Clases\n",
    "\n",
    "Primero hay que implementar la clase base para representar un **Gen**. Esta clase debe tener funcionalidades para generar aleatoriamente valores validos para el Gen.\n",
    "Luego hay que crear una clase **Cromosoma** que se encargará de tener una lista de genes y también tendrá funcionalidades como mezclar un cromosoma con otro de su mismo tipo (que tenga el mismo tamaño y tenga los mismos tipos de genes).\n"
   ]
  },
  {
   "cell_type": "markdown",
   "metadata": {},
   "source": [
    "### Genes\n"
   ]
  },
  {
   "cell_type": "code",
   "execution_count": 53,
   "metadata": {},
   "outputs": [],
   "source": [
    "from typing import Self\n",
    "from abc import abstractmethod\n",
    "\n",
    "\n",
    "class Gene:\n",
    "    \"\"\"Base class for all genes\"\"\"\n",
    "\n",
    "    def __init__(self, identifier: str, initial_value=None) -> None:\n",
    "        self.identifier: str = identifier\n",
    "        \"\"\"The unique identifier of the Gene\"\"\"\n",
    "        self.value = initial_value\n",
    "        \"\"\"The value of the Gene\"\"\"\n",
    "\n",
    "    @abstractmethod\n",
    "    def mutate(self) -> None:\n",
    "        \"\"\"Mutate the gene in place\"\"\"\n",
    "        pass\n",
    "\n",
    "    @abstractmethod\n",
    "    def clone(self, with_mutation: bool = False) -> Self:\n",
    "        \"\"\"Returns a clone of this gene\"\"\"\n",
    "        pass\n",
    "\n",
    "    def __str__(self) -> str:\n",
    "        return str(self.value)\n",
    "\n",
    "    def __repr__(self) -> str:\n",
    "        return str(self.value)\n",
    "\n",
    "    def __eq__(self, value: object) -> bool:\n",
    "        return isinstance(value, Gene) and self.identifier == value.identifier"
   ]
  },
  {
   "cell_type": "code",
   "execution_count": 54,
   "metadata": {},
   "outputs": [],
   "source": [
    "import random as rnd\n",
    "import uuid\n",
    "\n",
    "\n",
    "class ChoiceGene(Gene):\n",
    "    def __init__(\n",
    "        self,\n",
    "        elements: list | str,\n",
    "        identifier: str = str(uuid.uuid4()),\n",
    "        initial_value=None,\n",
    "    ) -> None:\n",
    "        super().__init__(identifier, initial_value)\n",
    "        if elements is None or len(elements) == 0:\n",
    "            raise Exception(f\"The elements parameter should not be empty\")\n",
    "        self.elements: list = elements\n",
    "        self.value = (\n",
    "            rnd.choice(self.elements)\n",
    "            if initial_value is None or initial_value not in self.elements\n",
    "            else initial_value\n",
    "        )\n",
    "\n",
    "    def mutate(self) -> None:\n",
    "        v1, v2 = rnd.sample(self.elements, 2)\n",
    "        self.value = v1 if self.value == v2 else v2\n",
    "\n",
    "    def clone(self, with_mutation: bool = False) -> Self:\n",
    "        return ChoiceGene(\n",
    "            self.elements, self.identifier, None if with_mutation else self.value\n",
    "        )\n",
    "\n",
    "    def __str__(self) -> str:\n",
    "        return str(self.value)\n",
    "\n",
    "    def __repr__(self) -> str:\n",
    "        return str(self.value)\n",
    "\n",
    "    def __eq__(self, value: object) -> bool:\n",
    "        return super().__eq__(value) and isinstance(value, ChoiceGene)"
   ]
  },
  {
   "cell_type": "markdown",
   "metadata": {},
   "source": [
    "### Chromosome"
   ]
  },
  {
   "cell_type": "code",
   "execution_count": 55,
   "metadata": {},
   "outputs": [],
   "source": [
    "class Chromosome:\n",
    "    \"\"\"Base class for all chromosomes\"\"\"\n",
    "\n",
    "    def __init__(\n",
    "        self,\n",
    "        genes: list[Gene],\n",
    "        maximization_problem: bool,\n",
    "    ) -> None:\n",
    "        if genes is None or len(genes) == 0:\n",
    "            raise Exception(f\"The genes parameter is None or is empty\")\n",
    "        self.genes: list[Gene] = genes\n",
    "        \"\"\"The list of all the genes\"\"\"\n",
    "        self.maximization_problem: bool = maximization_problem\n",
    "        \"\"\"Represents if the problem is a maximization problem\"\"\"\n",
    "\n",
    "    @abstractmethod\n",
    "    def mate(self, other: Self) -> Self:\n",
    "        \"\"\"This method mates two chromosomes and generate a new chromosome child\"\"\"\n",
    "        pass\n",
    "\n",
    "    @abstractmethod\n",
    "    def mutate(self, mutation_rate: float = 0.3) -> Self:\n",
    "        \"\"\"Returns a mutation of this chromosome\"\"\"\n",
    "        pass\n",
    "\n",
    "    @abstractmethod\n",
    "    def calculate_fitness(self) -> float:\n",
    "        \"\"\"A function for calculate the fitness of this chromosome\"\"\"\n",
    "        pass\n",
    "\n",
    "    def get_solution(self):\n",
    "        \"\"\"This method converts the genes in a solution of the domain problem\"\"\"\n",
    "        pass\n",
    "\n",
    "    @abstractmethod\n",
    "    def clone(self, with_mutation: bool) -> Self:\n",
    "        \"\"\"Returns a clone of this chromosome\"\"\"\n",
    "        pass\n",
    "\n",
    "    def equal(self, other_chromosome: Self) -> bool:\n",
    "        \"\"\"Says if two chromosomes are equals, meaning that they could mate\"\"\"\n",
    "        return len(self.genes) == len(other_chromosome.genes) and all(\n",
    "            gene1 == gene2 for gene1, gene2 in zip(self.genes, other_chromosome.genes)\n",
    "        )"
   ]
  },
  {
   "cell_type": "code",
   "execution_count": 56,
   "metadata": {},
   "outputs": [],
   "source": [
    "from typing import Callable, Any\n",
    "\n",
    "\n",
    "class BasicChromosome(Chromosome):\n",
    "    \"\"\"This chromosome mates with the single point strategy\"\"\"\n",
    "\n",
    "    def __init__(\n",
    "        self,\n",
    "        genes: list[Gene],\n",
    "        generate_solution: Callable[[list[Gene]], Any],\n",
    "        fitness_function: Callable[[Any], float],\n",
    "        maximization_problem: bool,\n",
    "    ) -> None:\n",
    "        super().__init__(genes, maximization_problem)\n",
    "        self.generate_solution: Callable[[list[Gene]],] = generate_solution\n",
    "        \"\"\"This function represents how to convert the genes to a solution in the domain problem\"\"\"\n",
    "        self.fitness_function: Callable[[list], float] = fitness_function\n",
    "        \"\"\"The fitness function\"\"\"\n",
    "        self.fitness: float = None\n",
    "        \"\"\"The fitness of this chromosome\"\"\"\n",
    "        self.dirty: bool = True\n",
    "\n",
    "    def get_solution(self):\n",
    "        return self.generate_solution(self.genes)\n",
    "\n",
    "    def calculate_fitness(self) -> float:\n",
    "        if self.fitness is not None and not self.dirty:\n",
    "            return self.fitness\n",
    "        solution = self.get_solution()\n",
    "        self.fitness = self.fitness_function(solution)\n",
    "        self.dirty = False\n",
    "        return self.fitness\n",
    "\n",
    "    def mate(self, other: Self) -> Self:\n",
    "        if not self.equal(other):\n",
    "            raise Exception(\"The chromosomes for mating are not compatibles\")\n",
    "        pivot_point = rnd.randrange(0, len(self.genes))\n",
    "        clone = lambda genes: [gene.clone() for gene in genes]\n",
    "        first1, last1 = (\n",
    "            clone(self.genes[:pivot_point]),\n",
    "            clone(self.genes[pivot_point:]),\n",
    "        )\n",
    "        first2, last2 = (\n",
    "            clone(other.genes[:pivot_point]),\n",
    "            clone(other.genes[pivot_point:]),\n",
    "        )\n",
    "        child1, child2 = (\n",
    "            BasicChromosome(\n",
    "                first1 + last2,\n",
    "                self.generate_solution,\n",
    "                self.fitness_function,\n",
    "                self.maximization_problem,\n",
    "            ),\n",
    "            BasicChromosome(\n",
    "                first2 + last1,\n",
    "                self.generate_solution,\n",
    "                self.fitness_function,\n",
    "                self.maximization_problem,\n",
    "            ),\n",
    "        )\n",
    "        cmp = lambda x, y: x > y if self.maximization_problem else x < y\n",
    "        best = (\n",
    "            child1\n",
    "            if cmp(child1.calculate_fitness(), child2.calculate_fitness())\n",
    "            else child2\n",
    "        )\n",
    "        return best\n",
    "\n",
    "    def clone(self, with_mutation: bool) -> Self:\n",
    "        cloned_genes = [gene.clone(with_mutation) for gene in self.genes]\n",
    "        return BasicChromosome(\n",
    "            cloned_genes,\n",
    "            self.generate_solution,\n",
    "            self.fitness_function,\n",
    "            self.maximization_problem,\n",
    "        )\n",
    "\n",
    "    def mutate(self, mutation_rate: float = 0.3):\n",
    "        for i in range(len(self.genes)):\n",
    "            if rnd.random() < mutation_rate:\n",
    "                self.genes[i].mutate()\n",
    "        self.dirty = True\n",
    "        self.calculate_fitness()"
   ]
  },
  {
   "cell_type": "markdown",
   "metadata": {},
   "source": [
    "### Now the Genetic Algorithm\n",
    "\n",
    "Este algoritmo funciona de la siguiente forma"
   ]
  },
  {
   "cell_type": "code",
   "execution_count": 57,
   "metadata": {},
   "outputs": [],
   "source": [
    "class GeneticAlgorithm:\n",
    "    \"\"\"Base class for all implementations of Genetic Algorithms\"\"\"\n",
    "\n",
    "    def __init__(self, sample_chromosome: Chromosome) -> None:\n",
    "        self.sample_chromosome: Chromosome = sample_chromosome\n",
    "        \"\"\"The chromosome that represents a solution in the genetic algorithm\"\"\"\n",
    "        self.maximization_problem: bool = self.sample_chromosome.maximization_problem\n",
    "        \"\"\"Tells if the problem to solve is a maximization problem\"\"\"\n",
    "\n",
    "    @abstractmethod\n",
    "    def selection(\n",
    "        self,\n",
    "        population: list[Chromosome],\n",
    "    ) -> list[tuple[Chromosome, Chromosome]]:\n",
    "        \"\"\"This method returns a list of tuples where each tuple represents the parents to mate.\n",
    "        Remember each chromosome has the fitness function inside\"\"\"\n",
    "        pass\n",
    "\n",
    "    def best_chromosome(\n",
    "        self,\n",
    "        chromosome1: Chromosome,\n",
    "        chromosome2: Chromosome,\n",
    "    ) -> Chromosome:\n",
    "        \"\"\"Returns the best chromosome\"\"\"\n",
    "        cmp = lambda x, y: x > y if self.maximization_problem else x < y\n",
    "        if cmp(chromosome1.calculate_fitness(), chromosome2.calculate_fitness()):\n",
    "            return chromosome1\n",
    "        return chromosome2\n",
    "\n",
    "    def get_best_solution(self, population: list[Chromosome]) -> Chromosome:\n",
    "        \"\"\"Returns the best chromosome in a population\"\"\"\n",
    "        if population is None or len(population) == 0:\n",
    "            raise Exception(f\"The population passed is None or Empty\")\n",
    "        best = population[0]\n",
    "        # cmp = lambda x, y: x > y if self.maximization_problem else x < y\n",
    "        # TODO: Make the comparison more effective by storing the fitness once and not calculating it every time\n",
    "        for i in range(1, len(population)):\n",
    "            actual = population[i]\n",
    "            best = self.best_chromosome(actual, best)\n",
    "        return best\n",
    "\n",
    "    def mate_population(self, population: list[Chromosome]) -> list[Chromosome]:\n",
    "        \"\"\"This method generate a new population of individuals from a population.\n",
    "        This method calls internally the selection and the cross_over method\"\"\"\n",
    "        new_population: list[Chromosome] = []\n",
    "        parents: list[tuple[Chromosome, Chromosome]] = self.selection(population)\n",
    "        for parent1, parent2 in parents:\n",
    "            child: Chromosome = parent1.mate(parent2)\n",
    "            new_population.append(child)\n",
    "        return new_population\n",
    "\n",
    "    def solve(\n",
    "        self,\n",
    "        population_size: int,\n",
    "        max_iterations: int,\n",
    "        stop_criteria: Callable[\n",
    "            [float], bool\n",
    "        ],  # Stop criteria takes as parameter the fitness\n",
    "        mutation_rate: float = 0.3,\n",
    "    ) -> Chromosome:\n",
    "        \"\"\"This returns the population whose fitness was the best\"\"\"\n",
    "        population: list[Chromosome] = [\n",
    "            self.sample_chromosome.clone(True) for _ in range(population_size)\n",
    "        ]\n",
    "        best_solution = self.sample_chromosome.clone(True)\n",
    "        for _ in range(max_iterations):\n",
    "            # all_fitness = [c for c in ]\n",
    "            for individual in population:\n",
    "                individual.calculate_fitness()\n",
    "            # Updating the best solution so far\n",
    "            best_solution = self.best_chromosome(\n",
    "                best_solution, self.get_best_solution(population)\n",
    "            )\n",
    "            # Generate new population\n",
    "            new_population = self.mate_population(population)\n",
    "            # Apply mutation\n",
    "            for offspring in new_population:\n",
    "                offspring.mutate(mutation_rate)\n",
    "            # Check for stopping criteria\n",
    "            if stop_criteria(best_solution.calculate_fitness()):\n",
    "                return best_solution\n",
    "            population = new_population\n",
    "        return best_solution"
   ]
  },
  {
   "cell_type": "code",
   "execution_count": 58,
   "metadata": {},
   "outputs": [],
   "source": [
    "class BasicGeneticAlgorithm(GeneticAlgorithm):\n",
    "    \"\"\"This class implements the genetic algorithm by using single point crossover\"\"\"\n",
    "\n",
    "    def __init__(self, sample_chromosome: Chromosome) -> None:\n",
    "        super().__init__(sample_chromosome)\n",
    "\n",
    "    def selection(\n",
    "        self, population: list[Chromosome]\n",
    "    ) -> list[tuple[Chromosome, Chromosome]]:\n",
    "        progenitor_list: list[tuple[Chromosome, Chromosome]] = []\n",
    "        weights = [c.calculate_fitness() for c in population]\n",
    "        for _ in range(len(population)):\n",
    "            # idx, idy = rnd.sample(range(len(population)), 2)\n",
    "            p1, p2 = rnd.choices(population, weights, k=2)\n",
    "            progenitor_list.append((p1, p2))\n",
    "        return progenitor_list"
   ]
  },
  {
   "cell_type": "markdown",
   "metadata": {},
   "source": [
    "### Ahora chequeemos como se soluciona el problema inicial con esta nueva implementación"
   ]
  },
  {
   "cell_type": "code",
   "execution_count": 59,
   "metadata": {},
   "outputs": [],
   "source": [
    "gene_set = \" abcdefghijklmnopqrstuvwxyzABCDEFGHIJKLMNOPQRSTUVWXYZ!.\"\n",
    "target = \"Hello World!\"\n",
    "target = \"Que tan veloz encontraras este texto?!\"\n",
    "\n",
    "\n",
    "def get_word_fitness(guess: str):\n",
    "    return sum(1 for expected, actual in zip(target, guess) if expected == actual)"
   ]
  },
  {
   "cell_type": "code",
   "execution_count": 60,
   "metadata": {},
   "outputs": [
    {
     "name": "stdout",
     "output_type": "stream",
     "text": [
      "MjuTGBOAOqPIPttXHbiRYeNmzCLvZz BecwVtc\n"
     ]
    }
   ],
   "source": [
    "word_gene = ChoiceGene(gene_set)\n",
    "\n",
    "\n",
    "def generate_word_solution(word_gene: list[ChoiceGene]) -> str:\n",
    "    solution = [gene.value for gene in word_gene]\n",
    "    return \"\".join(solution)\n",
    "\n",
    "\n",
    "def generate_word_chromosome(\n",
    "    word_gene: ChoiceGene, target_length: int\n",
    ") -> BasicChromosome:\n",
    "    genes = [word_gene.clone(True) for _ in range(target_length)]\n",
    "    sample_chromosome = BasicChromosome(\n",
    "        genes, generate_word_solution, get_word_fitness, maximization_problem=True\n",
    "    )\n",
    "    return sample_chromosome\n",
    "\n",
    "\n",
    "sample_chromosome = generate_word_chromosome(\n",
    "    word_gene=word_gene, target_length=len(target)\n",
    ")\n",
    "algorithm = BasicGeneticAlgorithm(sample_chromosome=sample_chromosome)\n",
    "result = algorithm.solve(10, 1000, lambda value: value >= len(target))\n",
    "solution = result.get_solution()\n",
    "print(solution)"
   ]
  }
 ],
 "metadata": {
  "kernelspec": {
   "display_name": ".py_environment",
   "language": "python",
   "name": "python3"
  },
  "language_info": {
   "codemirror_mode": {
    "name": "ipython",
    "version": 3
   },
   "file_extension": ".py",
   "mimetype": "text/x-python",
   "name": "python",
   "nbconvert_exporter": "python",
   "pygments_lexer": "ipython3",
   "version": "3.12.2"
  }
 },
 "nbformat": 4,
 "nbformat_minor": 2
}
