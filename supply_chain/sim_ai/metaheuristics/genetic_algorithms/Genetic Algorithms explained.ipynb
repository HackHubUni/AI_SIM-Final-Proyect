{
 "cells": [
  {
   "cell_type": "markdown",
   "metadata": {},
   "source": [
    "# Implementación de los algoritmos genéticos\n"
   ]
  },
  {
   "cell_type": "markdown",
   "metadata": {},
   "source": [
    "## Genes\n",
    "\n",
    "Los genes representan el menor pedazo que compone una solución. Cada característica de una solución debe tener un conjunto de valores posibles. Entonces, los genes deben tener una forma de cambiar su valor, esto se hará mediante el método `mutate` que devolverá una nueva instancia del Gen con un nuevo valor."
   ]
  },
  {
   "cell_type": "code",
   "execution_count": 289,
   "metadata": {
    "ExecuteTime": {
     "end_time": "2024-05-07T05:49:03.782925Z",
     "start_time": "2024-05-07T05:49:03.771715Z"
    }
   },
   "outputs": [],
   "source": [
    "from uuid import uuid4\n",
    "from typing import *\n",
    "from abc import ABC, abstractmethod\n",
    "\n",
    "\n",
    "class Gene(ABC):\n",
    "    \"\"\"This class represents the smallest unit of a part of a problem\"\"\"\n",
    "\n",
    "    def __init__(\n",
    "        self,\n",
    "        value,\n",
    "        identifier: str = str(uuid4()),\n",
    "    ) -> None:\n",
    "        self.value = value\n",
    "        \"\"\"This is the value of the gene\"\"\"\n",
    "        self.identifier: str = identifier\n",
    "        \"\"\"The unique identifier of a gene\"\"\"\n",
    "\n",
    "    @abstractmethod\n",
    "    def mutate(self) -> Self:\n",
    "        \"\"\"This method returns a new gene with a new value\"\"\"\n",
    "        pass\n",
    "\n",
    "    @abstractmethod\n",
    "    def clone(self) -> Self:\n",
    "        \"\"\"This method returns an identical copy of this gene\"\"\"\n",
    "        pass\n",
    "\n",
    "    def __eq__(self, value: object) -> bool:\n",
    "        return isinstance(value, Gene) and self.identifier == value.identifier\n",
    "\n",
    "    def __hash__(self) -> int:\n",
    "        return hash(self.identifier)\n",
    "\n",
    "    def __str__(self) -> str:\n",
    "        return str(self.value)"
   ]
  },
  {
   "cell_type": "markdown",
   "metadata": {},
   "source": [
    "Ahora implementemos un gen muy sencillo que solamente tendrá una lista de opciones para escoger y su valor será una de estas opciones."
   ]
  },
  {
   "cell_type": "code",
   "execution_count": 290,
   "metadata": {
    "ExecuteTime": {
     "end_time": "2024-05-07T05:49:04.195105Z",
     "start_time": "2024-05-07T05:49:04.180758Z"
    }
   },
   "outputs": [],
   "source": [
    "from uuid import uuid4\n",
    "import random as rnd\n",
    "\n",
    "\n",
    "class ChoiceGene(Gene):\n",
    "    \"\"\"This gene selects a value from a pool of available values\"\"\"\n",
    "\n",
    "    def __init__(\n",
    "        self, available_values: list | str, value=None, identifier: str = str(uuid4())\n",
    "    ) -> None:\n",
    "        if available_values is None:\n",
    "            raise Exception(f\"The available values is None\")\n",
    "        if len(available_values) == 0:\n",
    "            raise Exception(\n",
    "                \"The list of available values must have at least one element\"\n",
    "            )\n",
    "        if value is None:\n",
    "            value = rnd.choice(available_values)\n",
    "        super().__init__(value, identifier)\n",
    "        self.available_values = available_values\n",
    "        \"\"\"The list of available values for choose\"\"\"\n",
    "\n",
    "    def mutate(self) -> Self:\n",
    "        v1, v2 = rnd.sample(self.available_values, 2)\n",
    "        new_value = v1 if self.value == v2 else v2\n",
    "        return ChoiceGene(self.available_values, new_value, self.identifier)\n",
    "\n",
    "    def clone(self) -> Self:\n",
    "        return ChoiceGene(self.available_values, self.value, self.identifier)"
   ]
  },
  {
   "cell_type": "markdown",
   "metadata": {},
   "source": [
    "Probemos este nuevo gen implementado"
   ]
  },
  {
   "cell_type": "code",
   "execution_count": 291,
   "metadata": {
    "ExecuteTime": {
     "end_time": "2024-05-07T05:49:04.284584Z",
     "start_time": "2024-05-07T05:49:04.276428Z"
    }
   },
   "outputs": [
    {
     "name": "stdout",
     "output_type": "stream",
     "text": [
      "y\n"
     ]
    }
   ],
   "source": [
    "available_letters = \" abcdefghijklmnopqrstuvwxyzABCDEFGHIJKLMNOPQRSTUVWXYZ=?!-*+.\"\n",
    "\n",
    "letter_gene = ChoiceGene(available_values=available_letters)\n",
    "print(letter_gene)"
   ]
  },
  {
   "cell_type": "markdown",
   "metadata": {},
   "source": [
    "## Cromosoma\n",
    "\n",
    "Un cromosoma representa una solución a un problema y este está formado por pedazos de soluciones aka `Genes`. Un cromosoma debe tener alguna funcionalidad para decodificar sus genes y devolver una solución en términos del problema original.\n"
   ]
  },
  {
   "cell_type": "code",
   "execution_count": 292,
   "metadata": {
    "ExecuteTime": {
     "end_time": "2024-05-07T05:49:04.419011Z",
     "start_time": "2024-05-07T05:49:04.400458Z"
    }
   },
   "outputs": [],
   "source": [
    "class Chromosome(ABC):\n",
    "    \"\"\"This is the base class for chromosomes\"\"\"\n",
    "\n",
    "    def __init__(\n",
    "        self,\n",
    "        genes: list[Gene],\n",
    "        maximization_problem: bool,\n",
    "    ) -> None:\n",
    "        self.genes: list[Gene] = genes\n",
    "        \"\"\"This are the genes of the chromosome\"\"\"\n",
    "        self.maximization_problem: bool = maximization_problem\n",
    "        \"\"\"Says if this chromosome is part of a maximization problem\"\"\"\n",
    "\n",
    "    @abstractmethod\n",
    "    def mate(self, other: Self) -> Self:\n",
    "        \"\"\"This method mates a chromosome with another chromosome\"\"\"\n",
    "        pass\n",
    "\n",
    "    @abstractmethod\n",
    "    def mutate(self) -> Self:\n",
    "        \"\"\"This method returns a copy of this chromosome but with mutated genes\"\"\"\n",
    "        pass\n",
    "\n",
    "    @abstractmethod\n",
    "    def improve(self, n_iterations: int = 10) -> Self:\n",
    "        \"\"\"This method improve a chromosome\"\"\"\n",
    "        pass\n",
    "\n",
    "    def get_best(self, other: Self) -> Self:\n",
    "        \"\"\"This method returns the best of the 2 chromosomes\"\"\"\n",
    "        my_fitness = self.get_fitness()\n",
    "        other_fitness = other.get_fitness()\n",
    "\n",
    "        def cmp(x: float, y: float):\n",
    "            return x > y if self.maximization_problem else x < y\n",
    "\n",
    "        better = self if cmp(my_fitness, other_fitness) else other\n",
    "        return better\n",
    "\n",
    "    def get_solution_values(self) -> list:\n",
    "        \"\"\"This method returns a list with the values of all the genes in the chromosome\"\"\"\n",
    "        return [gene.value for gene in self.genes]\n",
    "\n",
    "    @abstractmethod\n",
    "    def get_fitness(self) -> float:\n",
    "        \"\"\"This method returns the fitness of this chromosome\"\"\"\n",
    "        pass\n",
    "\n",
    "    @abstractmethod\n",
    "    def compatible(self, other: Self) -> bool:\n",
    "        \"\"\"This method says if the other Chromosome is compatible for mating\"\"\"\n",
    "        pass\n",
    "\n",
    "    @abstractmethod\n",
    "    def random_instance(self) -> Self:\n",
    "        \"\"\"This method returns a random instance of the chromosome\"\"\"\n",
    "        pass\n",
    "\n",
    "    @abstractmethod\n",
    "    def get_solution(self) -> Any:\n",
    "        \"\"\"This method construct a solution in the terms of the problem.\n",
    "        If you want to use this function then you should create a chromosome that implements it\n",
    "        \"\"\"\n",
    "        pass"
   ]
  },
  {
   "cell_type": "markdown",
   "metadata": {},
   "source": [
    "Ahora creemos un cromosoma genérico para codificar de forma sencilla las soluciones de algunos problemas."
   ]
  },
  {
   "cell_type": "code",
   "execution_count": 293,
   "metadata": {
    "ExecuteTime": {
     "end_time": "2024-05-07T05:49:04.551084Z",
     "start_time": "2024-05-07T05:49:04.529421Z"
    }
   },
   "outputs": [],
   "source": [
    "from typing import *\n",
    "\n",
    "\n",
    "class SimpleChromosome(Chromosome):\n",
    "    \"\"\"This chromosome performs random single point crossover and random simple mutation\"\"\"\n",
    "\n",
    "    def __init__(\n",
    "        self,\n",
    "        genes: list[Gene],\n",
    "        fitness_function: Callable[[list], float],\n",
    "        maximization_problem: bool,\n",
    "    ) -> None:\n",
    "        super().__init__(genes, maximization_problem)\n",
    "        self.fitness_function: Callable[[list], float] = fitness_function\n",
    "        \"\"\"The function used to calculate the fitness of a chromosome\"\"\"\n",
    "        self.fitness_value: float = None\n",
    "        \"\"\"The fitness of this chromosome\"\"\"\n",
    "\n",
    "    def random_instance(self) -> Self:\n",
    "        new_genes = [gene.mutate() for gene in self.genes]\n",
    "        return SimpleChromosome(\n",
    "            new_genes, self.fitness_function, self.maximization_problem\n",
    "        )\n",
    "\n",
    "    def compatible(self, other: Self) -> bool:\n",
    "        return len(self.genes) == len(other.genes) and all(\n",
    "            type(gene1) == type(gene2) and gene1 == gene2\n",
    "            for gene1, gene2 in zip(self.genes, other.genes)\n",
    "        )\n",
    "\n",
    "    def get_fitness(self) -> float:\n",
    "        if self.fitness_value is not None:\n",
    "            return self.fitness_value\n",
    "        solution_values = self.get_solution_values()\n",
    "        self.fitness_value = self.fitness_function(solution_values)\n",
    "        return self.fitness_value\n",
    "\n",
    "    def improve(self, n_iterations: int = 10) -> Self:\n",
    "        best_chromosome = self\n",
    "        for _ in range(n_iterations):\n",
    "            new_chromosome = self.mutate()\n",
    "            best_chromosome = best_chromosome.get_best(new_chromosome)\n",
    "        return best_chromosome\n",
    "\n",
    "    def mutate(self) -> Self:\n",
    "        index = rnd.randrange(0, len(self.genes))\n",
    "        old_gene = self.genes[index]\n",
    "        mutated = old_gene.mutate()\n",
    "        cloned_genes = [gene.clone() for gene in self.genes]\n",
    "        cloned_genes[index] = mutated\n",
    "        return SimpleChromosome(\n",
    "            cloned_genes, self.fitness_function, self.maximization_problem\n",
    "        )\n",
    "\n",
    "    def get_solution(self) -> Any:\n",
    "        return self.get_solution_values()\n",
    "\n",
    "    def cloned_genes(self) -> list[Gene]:\n",
    "        \"\"\"This method returns a copy of all the genes of this chromosome\"\"\"\n",
    "        return [gene.clone() for gene in self.genes]\n",
    "\n",
    "    def mate(self, other: Self) -> Self:\n",
    "        if not self.compatible(other):\n",
    "            raise Exception(\n",
    "                \"The chromosomes are not compatible. Check the length of it's genes and the type of each one\"\n",
    "            )\n",
    "        pivot_point = rnd.randrange(0, len(self.genes))\n",
    "        my_genes, other_genes = (self.cloned_genes(), other.cloned_genes())\n",
    "        first1, last1 = (my_genes[:pivot_point], my_genes[pivot_point:])\n",
    "        first2, last2 = (other_genes[:pivot_point], other_genes[pivot_point:])\n",
    "        child1 = SimpleChromosome(\n",
    "            first1 + last2, self.fitness_function, self.maximization_problem\n",
    "        )\n",
    "        child2 = SimpleChromosome(\n",
    "            first2 + last1, self.fitness_function, self.maximization_problem\n",
    "        )\n",
    "        return child1.get_best(child2)"
   ]
  },
  {
   "cell_type": "markdown",
   "metadata": {},
   "source": [
    "## Algoritmo Genético\n",
    "\n",
    "Ahora hay que implementar la lógica de los algoritmos genéticos. Toda implementación de un algoritmo genético debe dar una forma de dada una población elegir los padres de la futura generación."
   ]
  },
  {
   "cell_type": "code",
   "execution_count": 294,
   "metadata": {
    "ExecuteTime": {
     "end_time": "2024-05-07T05:49:04.617964Z",
     "start_time": "2024-05-07T05:49:04.604170Z"
    }
   },
   "outputs": [],
   "source": [
    "class GeneticAlgorithm(ABC):\n",
    "    \"\"\"Base class for all implementations of Genetic Algorithms\"\"\"\n",
    "\n",
    "    def __init__(self, sample_chromosome: Chromosome) -> None:\n",
    "        self.sample_chromosome: Chromosome = sample_chromosome\n",
    "        \"\"\"The chromosome that represents a solution in the genetic algorithm\"\"\"\n",
    "        self.maximization_problem: bool = self.sample_chromosome.maximization_problem\n",
    "        \"\"\"Tells if the problem to solve is a maximization problem\"\"\"\n",
    "\n",
    "    @abstractmethod\n",
    "    def selection(\n",
    "        self,\n",
    "        population: list[Chromosome],\n",
    "    ) -> list[tuple[Chromosome, Chromosome]]:\n",
    "        \"\"\"This method returns a list of tuples where each tuple represents the parents to mate.\n",
    "        Remember each chromosome has the fitness function inside\"\"\"\n",
    "        pass\n",
    "\n",
    "    def mate_population(self, population: list[Chromosome]) -> list[Chromosome]:\n",
    "        \"\"\"This method generate a new population of individuals from a population.\n",
    "        This method calls internally the selection and the cross_over method\"\"\"\n",
    "        new_population: list[Chromosome] = []\n",
    "        parents: list[tuple[Chromosome, Chromosome]] = self.selection(population)\n",
    "        for parent1, parent2 in parents:\n",
    "            child: Chromosome = parent1.mate(parent2)\n",
    "            new_population.append(child)\n",
    "        return new_population\n",
    "\n",
    "    @abstractmethod\n",
    "    def solve(\n",
    "        self,\n",
    "        population_size: int,\n",
    "        max_iterations: int,\n",
    "        stop_criteria: Callable[[float], bool],\n",
    "    ) -> Chromosome:\n",
    "        \"\"\"This method returns the best chromosome for the problem\"\"\"\n",
    "        pass"
   ]
  },
  {
   "cell_type": "code",
   "execution_count": 295,
   "metadata": {
    "ExecuteTime": {
     "end_time": "2024-05-07T05:49:04.775530Z",
     "start_time": "2024-05-07T05:49:04.743441Z"
    }
   },
   "outputs": [],
   "source": [
    "from typing import Callable\n",
    "\n",
    "\n",
    "class TournamentGeneticAlgorithm(GeneticAlgorithm):\n",
    "    def __init__(\n",
    "        self,\n",
    "        sample_chromosome: Chromosome,\n",
    "        tournament_percentage: float,\n",
    "    ) -> None:\n",
    "        super().__init__(sample_chromosome)\n",
    "        if not 0 < tournament_percentage <= 1:\n",
    "            raise Exception(\n",
    "                \"The tournament percentage must be between 0 (exclusive) and 1 (inclusive)\"\n",
    "            )\n",
    "        self.tournament_percentage = tournament_percentage\n",
    "        \"\"\"The percentage of the population to take as participants in a tournament\"\"\"\n",
    "\n",
    "    def generate_population(self, population_size: int) -> list[Chromosome]:\n",
    "        \"\"\"This method generates a new population\"\"\"\n",
    "        population = [\n",
    "            self.sample_chromosome.random_instance() for _ in range(population_size)\n",
    "        ]\n",
    "        return population\n",
    "\n",
    "    def get_best(\n",
    "        self,\n",
    "        population_sample: list[Chromosome],\n",
    "    ) -> Chromosome:\n",
    "        best = population_sample[0]\n",
    "        for i in range(1, len(population_sample)):\n",
    "            best = best.get_best(population_sample[i])\n",
    "        return best\n",
    "\n",
    "    def select_next_parent_with_tournament(\n",
    "        self,\n",
    "        population: list[Chromosome],\n",
    "        tournament_size: int,\n",
    "    ) -> Chromosome:\n",
    "        \"\"\"This method returns a parent by the tournament selection method\"\"\"\n",
    "        if tournament_size > len(population):\n",
    "            raise Exception(\"The tournament size is greater than the population\")\n",
    "        tournament_population = rnd.sample(population, tournament_size)\n",
    "        best = self.get_best(tournament_population)\n",
    "        return best\n",
    "\n",
    "    def selection(\n",
    "        self, population: list[Chromosome]\n",
    "    ) -> list[tuple[Chromosome, Chromosome]]:\n",
    "        tournament_size = max(1, int(len(population) * self.tournament_percentage))\n",
    "        parents: list[tuple[Chromosome, Chromosome]] = []\n",
    "        for _ in range(len(population)):\n",
    "            parent1 = self.select_next_parent_with_tournament(\n",
    "                population, tournament_size\n",
    "            )\n",
    "            parent2 = self.select_next_parent_with_tournament(\n",
    "                population, tournament_size\n",
    "            )\n",
    "            parents.append((parent1, parent2))\n",
    "        return parents\n",
    "\n",
    "    def improve_population(self, population: list[Chromosome]) -> list[Chromosome]:\n",
    "        \"\"\"Improves a population\"\"\"\n",
    "        improved_chromosomes: list[Chromosome] = []\n",
    "        for chromosome in population:\n",
    "            improved = chromosome.improve()\n",
    "            improved_chromosomes.append(improved)\n",
    "        return improved_chromosomes\n",
    "\n",
    "    def solve(\n",
    "        self,\n",
    "        population_size: int,\n",
    "        max_iterations: int,\n",
    "        stop_criteria: Callable[[float], bool],\n",
    "    ) -> Chromosome:\n",
    "        if population_size <= 5:\n",
    "            raise Exception(\n",
    "                \"The population size must be greater than 5 for the algorithm to work\"\n",
    "            )\n",
    "        if max_iterations <= 5:\n",
    "            raise Exception(\"The maximum number of iterations must be greater than 5\")\n",
    "        population = self.improve_population(self.generate_population(population_size))\n",
    "        best = self.get_best(population)\n",
    "        for i in range(max_iterations):\n",
    "            if stop_criteria(best.get_fitness()):\n",
    "                print(\n",
    "                    f\"The genetic algorithm stops in the iteration = {i} with the stop criteria\"\n",
    "                )\n",
    "                return best\n",
    "            childrens = self.mate_population(population)  # Mating\n",
    "            mutated_childrens = [children.mutate() for children in childrens]\n",
    "            improved_childrens = [children.improve(5) for children in mutated_childrens]\n",
    "            population = improved_childrens\n",
    "            best = self.get_best(population)\n",
    "        print(\n",
    "            f\"The algorithm stops after all the {max_iterations} and could not achieve the stop criteria\"\n",
    "        )\n",
    "        return best"
   ]
  },
  {
   "cell_type": "markdown",
   "metadata": {},
   "source": [
    "## Un Problema\n",
    "\n",
    "Probemos este algoritmo con el problema de adivinar una palabra\n",
    "\n"
   ]
  },
  {
   "cell_type": "code",
   "execution_count": 296,
   "metadata": {
    "ExecuteTime": {
     "end_time": "2024-05-07T05:49:04.911299Z",
     "start_time": "2024-05-07T05:49:04.896725Z"
    }
   },
   "outputs": [],
   "source": [
    "available_letters = \" abcdefghijklmnopqrstuvwxyzABCDEFGHIJKLMNOPQRSTUVWXYZ=?!-*+.\"\n",
    "target_word = \"Adivina esta palabra!!... Could this algorithm do it?\"\n",
    "\n",
    "letter_gene = ChoiceGene(available_values=available_letters)\n",
    "\n",
    "\n",
    "def get_solution(character_list: list[str]) -> str:\n",
    "    return \"\".join(character_list)\n",
    "\n",
    "\n",
    "def get_word_fitness(character_list: list[str], target_word: str) -> float:\n",
    "    attempt = get_solution(character_list)\n",
    "    return sum(\n",
    "        [1 for actual, expected in zip(attempt, target_word) if actual == expected]\n",
    "    )\n",
    "\n",
    "\n",
    "def generate_chromosome(\n",
    "    letter_gene: ChoiceGene,\n",
    "    target_word: str,\n",
    ") -> SimpleChromosome:\n",
    "    genes = [letter_gene.mutate() for _ in range(len(target_word))]\n",
    "    fitness = lambda l: get_word_fitness(l, target_word)\n",
    "    sample_chromosome = SimpleChromosome(\n",
    "        genes, fitness_function=fitness, maximization_problem=True\n",
    "    )\n",
    "    return sample_chromosome"
   ]
  },
  {
   "cell_type": "code",
   "execution_count": 297,
   "metadata": {
    "ExecuteTime": {
     "end_time": "2024-05-07T05:49:12.333821Z",
     "start_time": "2024-05-07T05:49:04.995006Z"
    }
   },
   "outputs": [
    {
     "name": "stdout",
     "output_type": "stream",
     "text": [
      "The genetic algorithm stops in the iteration = 53 with the stop criteria\n",
      "Adivina esta palabra!!... Could this algorithm do it?\n"
     ]
    }
   ],
   "source": [
    "sample_chromosome = generate_chromosome(letter_gene, target_word)\n",
    "\n",
    "genetic_algorithm = TournamentGeneticAlgorithm(\n",
    "    sample_chromosome=sample_chromosome, tournament_percentage=0.3\n",
    ")\n",
    "\n",
    "solution = genetic_algorithm.solve(\n",
    "    100, 500, stop_criteria=lambda fitness: fitness >= len(target_word)\n",
    ")\n",
    "\n",
    "real_solution = get_solution(solution.get_solution_values())\n",
    "print(real_solution)"
   ]
  },
  {
   "cell_type": "code",
   "outputs": [],
   "source": [
    "def fitness_2(l:list):\n",
    "    company_name=l[0]\n",
    "    val=l[1]\n",
    "    new_=l[2]\n",
    "    if company_name==\"Primera\" and val==4 and new_==9:\n",
    "        return 20\n",
    "    return 1.0\n",
    "    "
   ],
   "metadata": {
    "collapsed": false,
    "ExecuteTime": {
     "end_time": "2024-05-07T10:28:10.652445Z",
     "start_time": "2024-05-07T10:28:10.641171Z"
    }
   },
   "execution_count": 343
  },
  {
   "cell_type": "code",
   "outputs": [],
   "source": [
    "def generate_chromosome_2(\n",
    "    gene_list: list[ChoiceGene],\n",
    "    \n",
    ") -> SimpleChromosome:\n",
    "    genes = [v for v in gene_list]\n",
    "    fitness = lambda l: gen_2\n",
    "    sample_chromosome = SimpleChromosome(\n",
    "        genes, fitness_function=fitness_2, maximization_problem=True\n",
    "    )\n",
    "    return sample_chromosome"
   ],
   "metadata": {
    "collapsed": false,
    "ExecuteTime": {
     "end_time": "2024-05-07T10:28:11.079139Z",
     "start_time": "2024-05-07T10:28:11.072070Z"
    }
   },
   "execution_count": 344
  },
  {
   "cell_type": "code",
   "outputs": [],
   "source": [
    "class DeliveryInforme:\n",
    "    pass"
   ],
   "metadata": {
    "collapsed": false,
    "ExecuteTime": {
     "end_time": "2024-05-07T10:28:11.700666Z",
     "start_time": "2024-05-07T10:28:11.689125Z"
    }
   },
   "execution_count": 345
  },
  {
   "cell_type": "code",
   "outputs": [],
   "source": [
    "class To_Store:\n",
    "    def __init__(self,name_type,name_companys:list[str]):\n",
    "        self.name_type=name_type\n",
    "        self.name_companys:list[str]=[]\n",
    "        "
   ],
   "metadata": {
    "collapsed": false,
    "ExecuteTime": {
     "end_time": "2024-05-07T10:28:12.059366Z",
     "start_time": "2024-05-07T10:28:12.052088Z"
    }
   },
   "execution_count": 346
  },
  {
   "cell_type": "code",
   "outputs": [],
   "source": [
    "class Organizer:\n",
    "    def __init__(self):\n",
    "        pass\n",
    "        \n",
    "    "
   ],
   "metadata": {
    "collapsed": false,
    "ExecuteTime": {
     "end_time": "2024-05-07T10:28:12.371277Z",
     "start_time": "2024-05-07T10:28:12.366206Z"
    }
   },
   "execution_count": 347
  },
  {
   "cell_type": "code",
   "outputs": [],
   "source": [
    "company_names=[\"Segunda\",\"Primera\",]+[f'Value_{i}'for i in range(90)]\n",
    "\n",
    "gen_1=ChoiceGene(company_names)\n",
    "vals=[i for i in range(40)]\n",
    "gen_2=ChoiceGene(vals)\n",
    "\n",
    "gen_3=ChoiceGene([\"kak\"])\n",
    "\n",
    "gen_4=ChoiceGene([i for i in range(90)])\n",
    "\n",
    "\n"
   ],
   "metadata": {
    "collapsed": false,
    "ExecuteTime": {
     "end_time": "2024-05-07T10:30:54.078301Z",
     "start_time": "2024-05-07T10:30:54.068247Z"
    }
   },
   "execution_count": 352
  },
  {
   "cell_type": "code",
   "outputs": [],
   "source": [
    "def get_solution_2(lis:list):\n",
    "    print(lis)"
   ],
   "metadata": {
    "collapsed": false,
    "ExecuteTime": {
     "end_time": "2024-05-07T10:30:54.261113Z",
     "start_time": "2024-05-07T10:30:54.254670Z"
    }
   },
   "execution_count": 353
  },
  {
   "cell_type": "code",
   "outputs": [
    {
     "ename": "ValueError",
     "evalue": "Sample larger than population or is negative",
     "output_type": "error",
     "traceback": [
      "\u001B[1;31m---------------------------------------------------------------------------\u001B[0m",
      "\u001B[1;31mValueError\u001B[0m                                Traceback (most recent call last)",
      "Cell \u001B[1;32mIn[354], line 7\u001B[0m\n\u001B[0;32m      1\u001B[0m sample_chromosome \u001B[38;5;241m=\u001B[39m generate_chromosome_2([gen_1,gen_2,gen_3,gen_4])\n\u001B[0;32m      3\u001B[0m genetic_algorithm \u001B[38;5;241m=\u001B[39m TournamentGeneticAlgorithm(\n\u001B[0;32m      4\u001B[0m     sample_chromosome\u001B[38;5;241m=\u001B[39msample_chromosome, tournament_percentage\u001B[38;5;241m=\u001B[39m\u001B[38;5;241m0.3\u001B[39m\n\u001B[0;32m      5\u001B[0m )\n\u001B[1;32m----> 7\u001B[0m solution \u001B[38;5;241m=\u001B[39m \u001B[43mgenetic_algorithm\u001B[49m\u001B[38;5;241;43m.\u001B[39;49m\u001B[43msolve\u001B[49m\u001B[43m(\u001B[49m\n\u001B[0;32m      8\u001B[0m \u001B[43m    \u001B[49m\u001B[38;5;241;43m100\u001B[39;49m\u001B[43m,\u001B[49m\u001B[43m \u001B[49m\u001B[38;5;241;43m500\u001B[39;49m\u001B[43m,\u001B[49m\u001B[43m \u001B[49m\u001B[43mstop_criteria\u001B[49m\u001B[38;5;241;43m=\u001B[39;49m\u001B[38;5;28;43;01mlambda\u001B[39;49;00m\u001B[43m \u001B[49m\u001B[43mfitness\u001B[49m\u001B[43m:\u001B[49m\u001B[43mfitness\u001B[49m\u001B[43m \u001B[49m\u001B[38;5;241;43m>\u001B[39;49m\u001B[38;5;241;43m=\u001B[39;49m\u001B[43m \u001B[49m\u001B[38;5;241;43m20\u001B[39;49m\n\u001B[0;32m      9\u001B[0m \u001B[43m)\u001B[49m\n\u001B[0;32m     11\u001B[0m real_solution \u001B[38;5;241m=\u001B[39m get_solution_2(solution\u001B[38;5;241m.\u001B[39mget_solution_values())\n\u001B[0;32m     12\u001B[0m \u001B[38;5;28mprint\u001B[39m(real_solution)\n",
      "Cell \u001B[1;32mIn[295], line 81\u001B[0m, in \u001B[0;36mTournamentGeneticAlgorithm.solve\u001B[1;34m(self, population_size, max_iterations, stop_criteria)\u001B[0m\n\u001B[0;32m     79\u001B[0m \u001B[38;5;28;01mif\u001B[39;00m max_iterations \u001B[38;5;241m<\u001B[39m\u001B[38;5;241m=\u001B[39m \u001B[38;5;241m5\u001B[39m:\n\u001B[0;32m     80\u001B[0m     \u001B[38;5;28;01mraise\u001B[39;00m \u001B[38;5;167;01mException\u001B[39;00m(\u001B[38;5;124m\"\u001B[39m\u001B[38;5;124mThe maximum number of iterations must be greater than 5\u001B[39m\u001B[38;5;124m\"\u001B[39m)\n\u001B[1;32m---> 81\u001B[0m population \u001B[38;5;241m=\u001B[39m \u001B[38;5;28mself\u001B[39m\u001B[38;5;241m.\u001B[39mimprove_population(\u001B[38;5;28;43mself\u001B[39;49m\u001B[38;5;241;43m.\u001B[39;49m\u001B[43mgenerate_population\u001B[49m\u001B[43m(\u001B[49m\u001B[43mpopulation_size\u001B[49m\u001B[43m)\u001B[49m)\n\u001B[0;32m     82\u001B[0m best \u001B[38;5;241m=\u001B[39m \u001B[38;5;28mself\u001B[39m\u001B[38;5;241m.\u001B[39mget_best(population)\n\u001B[0;32m     83\u001B[0m \u001B[38;5;28;01mfor\u001B[39;00m i \u001B[38;5;129;01min\u001B[39;00m \u001B[38;5;28mrange\u001B[39m(max_iterations):\n",
      "Cell \u001B[1;32mIn[295], line 21\u001B[0m, in \u001B[0;36mTournamentGeneticAlgorithm.generate_population\u001B[1;34m(self, population_size)\u001B[0m\n\u001B[0;32m     18\u001B[0m \u001B[38;5;28;01mdef\u001B[39;00m \u001B[38;5;21mgenerate_population\u001B[39m(\u001B[38;5;28mself\u001B[39m, population_size: \u001B[38;5;28mint\u001B[39m) \u001B[38;5;241m-\u001B[39m\u001B[38;5;241m>\u001B[39m \u001B[38;5;28mlist\u001B[39m[Chromosome]:\n\u001B[0;32m     19\u001B[0m \u001B[38;5;250m    \u001B[39m\u001B[38;5;124;03m\"\"\"This method generates a new population\"\"\"\u001B[39;00m\n\u001B[0;32m     20\u001B[0m     population \u001B[38;5;241m=\u001B[39m [\n\u001B[1;32m---> 21\u001B[0m         \u001B[38;5;28;43mself\u001B[39;49m\u001B[38;5;241;43m.\u001B[39;49m\u001B[43msample_chromosome\u001B[49m\u001B[38;5;241;43m.\u001B[39;49m\u001B[43mrandom_instance\u001B[49m\u001B[43m(\u001B[49m\u001B[43m)\u001B[49m \u001B[38;5;28;01mfor\u001B[39;00m _ \u001B[38;5;129;01min\u001B[39;00m \u001B[38;5;28mrange\u001B[39m(population_size)\n\u001B[0;32m     22\u001B[0m     ]\n\u001B[0;32m     23\u001B[0m     \u001B[38;5;28;01mreturn\u001B[39;00m population\n",
      "Cell \u001B[1;32mIn[293], line 20\u001B[0m, in \u001B[0;36mSimpleChromosome.random_instance\u001B[1;34m(self)\u001B[0m\n\u001B[0;32m     19\u001B[0m \u001B[38;5;28;01mdef\u001B[39;00m \u001B[38;5;21mrandom_instance\u001B[39m(\u001B[38;5;28mself\u001B[39m) \u001B[38;5;241m-\u001B[39m\u001B[38;5;241m>\u001B[39m Self:\n\u001B[1;32m---> 20\u001B[0m     new_genes \u001B[38;5;241m=\u001B[39m [\u001B[43mgene\u001B[49m\u001B[38;5;241;43m.\u001B[39;49m\u001B[43mmutate\u001B[49m\u001B[43m(\u001B[49m\u001B[43m)\u001B[49m \u001B[38;5;28;01mfor\u001B[39;00m gene \u001B[38;5;129;01min\u001B[39;00m \u001B[38;5;28mself\u001B[39m\u001B[38;5;241m.\u001B[39mgenes]\n\u001B[0;32m     21\u001B[0m     \u001B[38;5;28;01mreturn\u001B[39;00m SimpleChromosome(\n\u001B[0;32m     22\u001B[0m         new_genes, \u001B[38;5;28mself\u001B[39m\u001B[38;5;241m.\u001B[39mfitness_function, \u001B[38;5;28mself\u001B[39m\u001B[38;5;241m.\u001B[39mmaximization_problem\n\u001B[0;32m     23\u001B[0m     )\n",
      "Cell \u001B[1;32mIn[290], line 24\u001B[0m, in \u001B[0;36mChoiceGene.mutate\u001B[1;34m(self)\u001B[0m\n\u001B[0;32m     23\u001B[0m \u001B[38;5;28;01mdef\u001B[39;00m \u001B[38;5;21mmutate\u001B[39m(\u001B[38;5;28mself\u001B[39m) \u001B[38;5;241m-\u001B[39m\u001B[38;5;241m>\u001B[39m Self:\n\u001B[1;32m---> 24\u001B[0m     v1, v2 \u001B[38;5;241m=\u001B[39m \u001B[43mrnd\u001B[49m\u001B[38;5;241;43m.\u001B[39;49m\u001B[43msample\u001B[49m\u001B[43m(\u001B[49m\u001B[38;5;28;43mself\u001B[39;49m\u001B[38;5;241;43m.\u001B[39;49m\u001B[43mavailable_values\u001B[49m\u001B[43m,\u001B[49m\u001B[43m \u001B[49m\u001B[38;5;241;43m2\u001B[39;49m\u001B[43m)\u001B[49m\n\u001B[0;32m     25\u001B[0m     new_value \u001B[38;5;241m=\u001B[39m v1 \u001B[38;5;28;01mif\u001B[39;00m \u001B[38;5;28mself\u001B[39m\u001B[38;5;241m.\u001B[39mvalue \u001B[38;5;241m==\u001B[39m v2 \u001B[38;5;28;01melse\u001B[39;00m v2\n\u001B[0;32m     26\u001B[0m     \u001B[38;5;28;01mreturn\u001B[39;00m ChoiceGene(\u001B[38;5;28mself\u001B[39m\u001B[38;5;241m.\u001B[39mavailable_values, new_value, \u001B[38;5;28mself\u001B[39m\u001B[38;5;241m.\u001B[39midentifier)\n",
      "File \u001B[1;32m~\\AppData\\Local\\Programs\\Python\\Python312\\Lib\\random.py:430\u001B[0m, in \u001B[0;36mRandom.sample\u001B[1;34m(self, population, k, counts)\u001B[0m\n\u001B[0;32m    428\u001B[0m randbelow \u001B[38;5;241m=\u001B[39m \u001B[38;5;28mself\u001B[39m\u001B[38;5;241m.\u001B[39m_randbelow\n\u001B[0;32m    429\u001B[0m \u001B[38;5;28;01mif\u001B[39;00m \u001B[38;5;129;01mnot\u001B[39;00m \u001B[38;5;241m0\u001B[39m \u001B[38;5;241m<\u001B[39m\u001B[38;5;241m=\u001B[39m k \u001B[38;5;241m<\u001B[39m\u001B[38;5;241m=\u001B[39m n:\n\u001B[1;32m--> 430\u001B[0m     \u001B[38;5;28;01mraise\u001B[39;00m \u001B[38;5;167;01mValueError\u001B[39;00m(\u001B[38;5;124m\"\u001B[39m\u001B[38;5;124mSample larger than population or is negative\u001B[39m\u001B[38;5;124m\"\u001B[39m)\n\u001B[0;32m    431\u001B[0m result \u001B[38;5;241m=\u001B[39m [\u001B[38;5;28;01mNone\u001B[39;00m] \u001B[38;5;241m*\u001B[39m k\n\u001B[0;32m    432\u001B[0m setsize \u001B[38;5;241m=\u001B[39m \u001B[38;5;241m21\u001B[39m        \u001B[38;5;66;03m# size of a small set minus size of an empty list\u001B[39;00m\n",
      "\u001B[1;31mValueError\u001B[0m: Sample larger than population or is negative"
     ]
    }
   ],
   "source": [
    "sample_chromosome = generate_chromosome_2([gen_1,gen_2,gen_3,gen_4])\n",
    "\n",
    "genetic_algorithm = TournamentGeneticAlgorithm(\n",
    "    sample_chromosome=sample_chromosome, tournament_percentage=0.3\n",
    ")\n",
    "\n",
    "solution = genetic_algorithm.solve(\n",
    "    100, 500, stop_criteria=lambda fitness:fitness >= 20\n",
    ")\n",
    "\n",
    "real_solution = get_solution_2(solution.get_solution_values())\n",
    "print(real_solution)"
   ],
   "metadata": {
    "collapsed": false,
    "ExecuteTime": {
     "end_time": "2024-05-07T10:30:56.134890Z",
     "start_time": "2024-05-07T10:30:55.530980Z"
    }
   },
   "execution_count": 354
  },
  {
   "cell_type": "markdown",
   "metadata": {},
   "source": [
    "## Como se puede usar esta API en nuestro proyecto?\n",
    "\n",
    "Para nuestro problema de encontrar la mejor planificación a la hora de crear un producto y enviarlo a una tienda\n",
    "\n",
    "Pensemos en un caso pequeño: Tenemos que producir un producto llamado Pizza con algún manufactor y para esto debemos enviarle la materia prima. Asumamos que la materia prima está completamente llena de productos bases. Digamos que los productos bases son:\n",
    "- Tomate\n",
    "- Masa de Pizza (asume que esto es un producto base)\n",
    "- Queso\n",
    "\n",
    "Y digamos que la los productores (empresas) de cada producto están en las siguientes listas:\n",
    "- Tomate Producers\n",
    "- Masa de Pizza Producers\n",
    "- Queso Producers\n",
    "\n",
    "La idea sería:\n",
    "- crear un `ChoiceGene` por cada producto base:\n",
    "\n",
    "```python\n",
    "tomate_producers = [...] # Aqui esta la lista de empresas proveedoras que crean tomate\n",
    "masa_producers = [...] # Aqui esta la lista de empresas proveedoras que crean masa de pizza\n",
    "queso_producers = [...] # Aqui esta la lista de empresas proveedoras que crean queso\n",
    "\n",
    "tomate_producer_gene = ChoiceGene(available_values=pizza_producers)\n",
    "masa_producer_gene = ChoiceGene(available_values=masa_producers)\n",
    "queso_producers_gene = ChoiceGene(available_values=queso_producers)\n",
    "```\n",
    "\n",
    "- crear un `ChoiceGene` que contenga la lista de empresas manufactoras de pizza\n",
    "\n",
    "```python\n",
    "pizza_manufactors = [...] # Aqui esta la lista de empresas manufactoras de pizza\n",
    "\n",
    "pizza_manufactor_gene = ChoiceGene(available_values=pizza_manufactors)\n",
    "```\n",
    "\n",
    "- crear un `ChoiceGene` para los transportistas\n",
    "\n",
    "```python\n",
    "transportistas = [...] # Aqui va la lista de los transportistas\n",
    "\n",
    "transportista_gene = ChoiceGene(available_values=transportistas)\n",
    "```\n",
    "\n",
    "- crear un cromosoma que contenga estos genes. Recuerda que el cromosoma representa una solución. Luego tu tienes que interpretar la solución del cromosoma. Ademas de que debes crear una función fitness que reciba una lista con los valores de los genes (en este caso son compañías o agentes, depende de ti).\n",
    "\n",
    "```python\n",
    "\n",
    "company_genes = [tomate_producer_gene, masa_producer_gene, queso_producers_gene, pizza_manufactor_gene, transportista_gene]\n",
    "\n",
    "# Aqui debajo pon un lambda que recibe una lista de valores (compañías o agentes, depende de lo que hayas guardado en los genes) asignados de cada gen y devuelve un flotante que representa su fitness. Recuerda que es posible que para saber si una selección de empresas es buena tengas que preguntar los precios a cada empresa y la cantidad que venden, el precio del transportista, etc. Nuevamente, recuerda que todos los ingredientes de los proveedores deben ir a un manufactor (el dado en el gen de manufactores) por un agente transportista (el dado por el gen de transportista) y de este manufactor a la tienda que hizo la petición. De donde el fitness seria el costo de envió por estas empresas.\n",
    "planification_fitness_function = ... \n",
    "\n",
    "# Como este problema busca el plan de menor costo es necesario asignar en False el parámetro `maximization_problem`\n",
    "solution_chromosome = SimpleChromosome(genes, fitness_function=planification_fitness_function, maximization_problem=False)\n",
    "\n",
    "```\n",
    "\n",
    "- Crear una instancia del algoritmo genético `TournamentGeneticAlgorithm` para resolver el problema y obtener la solución\n",
    "\n",
    "```python\n",
    "\n",
    "# Tournament percentage representa el porcentaje de la población que se seleccionara random para simular torneos y asi generar\n",
    "# los padres que se procrearan. Es bueno dejar una población de mas de 100 y un porcentaje de torneo de 0.3 (debe ser entre 0 y 1)\n",
    "genetic_algorithm = TournamentGeneticAlgorithm(\n",
    "    sample_chromosome=solution_chromosome, tournament_percentage=0.3\n",
    ")\n",
    "\n",
    "# Fíjate en el lambda que se usa para el `Stop criteria`. Esto es para parar el algoritmo genético si el fitness del mejor cromosoma\n",
    "# cumple cierta condición. Aqui puse 500 como el máximo numero de iteraciones\n",
    "solution = genetic_algorithm.solve(\n",
    "    100, 500, stop_criteria=lambda fitness: fitness >= len(target_word)\n",
    ")\n",
    "\n",
    "# NOTA: La función get_solution se supone que la implementes como un método que convierte la lista de los valores de cada gen\n",
    "# del cromosoma en una solución con la forma que desees. NO ES NECESARIO\n",
    "real_solution = get_solution(solution.get_solution_values())\n",
    "print(real_solution)\n",
    "```"
   ]
  },
  {
   "cell_type": "markdown",
   "metadata": {},
   "source": []
  },
  {
   "cell_type": "code",
   "outputs": [],
   "source": [],
   "metadata": {
    "collapsed": false,
    "ExecuteTime": {
     "end_time": "2024-05-07T05:49:12.473870Z",
     "start_time": "2024-05-07T05:49:12.468267Z"
    }
   },
   "execution_count": 305
  }
 ],
 "metadata": {
  "kernelspec": {
   "display_name": "python_general",
   "language": "python",
   "name": "python3"
  },
  "language_info": {
   "codemirror_mode": {
    "name": "ipython",
    "version": 3
   },
   "file_extension": ".py",
   "mimetype": "text/x-python",
   "name": "python",
   "nbconvert_exporter": "python",
   "pygments_lexer": "ipython3",
   "version": "3.12.2"
  }
 },
 "nbformat": 4,
 "nbformat_minor": 2
}
